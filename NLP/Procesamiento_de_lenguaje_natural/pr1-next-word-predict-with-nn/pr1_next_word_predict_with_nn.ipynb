{
  "cells": [
    {
      "cell_type": "markdown",
      "id": "4560e096",
      "metadata": {
        "id": "4560e096"
      },
      "source": [
        "# Proyecto 1.1. Modelo de lenguaje basado en redes neuronales\n",
        "\n",
        "Este proyecto tiene como finalidad realizar la predicción de la siguiente palabra ante una secuencia de texto. El objetivo principal es implementar un modelo de MLP simple con embeddings y trigramas para dicha predicción.\n",
        "\n",
        "Desarrollo:\n",
        "* Seleccionar y preparar un corpus de texto propio (dominio libre o de interés académico).\n",
        "* Construir un vocabulario y representación de tokens eficiente.\n",
        "Implementar un embedding fijo (dimensión establecida; el alumno decide si lo congela o lo entrena).\n",
        "* Diseñar y entrenar un MLP de predicción de la siguiente palabra usando una ventana de contexto de 3 palabras (trigrama deslizante).\n",
        "* Separar entrenamiento/prueba, monitorear loss, accuracy y perplexity.\n",
        "Generar texto breve con el modelo entrenado.\n",
        "\n",
        "\n",
        "Adquisición de los datos a través de kagglehub."
      ]
    },
    {
      "cell_type": "code",
      "execution_count": 1,
      "id": "f0194525",
      "metadata": {
        "colab": {
          "base_uri": "https://localhost:8080/"
        },
        "id": "f0194525",
        "outputId": "b998914b-3daa-4ef4-976a-7592b693db87"
      },
      "outputs": [
        {
          "name": "stderr",
          "output_type": "stream",
          "text": [
            "c:\\Users\\bugy1\\anaconda3\\envs\\pln\\lib\\site-packages\\tqdm\\auto.py:21: TqdmWarning: IProgress not found. Please update jupyter and ipywidgets. See https://ipywidgets.readthedocs.io/en/stable/user_install.html\n",
            "  from .autonotebook import tqdm as notebook_tqdm\n"
          ]
        },
        {
          "name": "stdout",
          "output_type": "stream",
          "text": [
            "Path to dataset files: C:\\Users\\bugy1\\.cache\\kagglehub\\datasets\\neisse\\scrapped-lyrics-from-6-genres\\versions\\3\n"
          ]
        }
      ],
      "source": [
        "import kagglehub\n",
        "\n",
        "# Download latest version\n",
        "path = kagglehub.dataset_download(\"neisse/scrapped-lyrics-from-6-genres\")\n",
        "\n",
        "print(\"Path to dataset files:\", path)"
      ]
    },
    {
      "cell_type": "code",
      "execution_count": 2,
      "id": "3762a01c",
      "metadata": {
        "colab": {
          "base_uri": "https://localhost:8080/",
          "height": 206
        },
        "id": "3762a01c",
        "outputId": "9ec96107-9702-4dc3-d7d0-2c43bc5e3880"
      },
      "outputs": [
        {
          "data": {
            "text/html": [
              "<div>\n",
              "<style scoped>\n",
              "    .dataframe tbody tr th:only-of-type {\n",
              "        vertical-align: middle;\n",
              "    }\n",
              "\n",
              "    .dataframe tbody tr th {\n",
              "        vertical-align: top;\n",
              "    }\n",
              "\n",
              "    .dataframe thead th {\n",
              "        text-align: right;\n",
              "    }\n",
              "</style>\n",
              "<table border=\"1\" class=\"dataframe\">\n",
              "  <thead>\n",
              "    <tr style=\"text-align: right;\">\n",
              "      <th></th>\n",
              "      <th>ALink</th>\n",
              "      <th>SName</th>\n",
              "      <th>SLink</th>\n",
              "      <th>Lyric</th>\n",
              "      <th>language</th>\n",
              "    </tr>\n",
              "  </thead>\n",
              "  <tbody>\n",
              "    <tr>\n",
              "      <th>0</th>\n",
              "      <td>/ivete-sangalo/</td>\n",
              "      <td>Arerê</td>\n",
              "      <td>/ivete-sangalo/arere.html</td>\n",
              "      <td>Tudo o que eu quero nessa vida,\\nToda vida, é\\...</td>\n",
              "      <td>pt</td>\n",
              "    </tr>\n",
              "    <tr>\n",
              "      <th>1</th>\n",
              "      <td>/ivete-sangalo/</td>\n",
              "      <td>Se Eu Não Te Amasse Tanto Assim</td>\n",
              "      <td>/ivete-sangalo/se-eu-nao-te-amasse-tanto-assim...</td>\n",
              "      <td>Meu coração\\nSem direção\\nVoando só por voar\\n...</td>\n",
              "      <td>pt</td>\n",
              "    </tr>\n",
              "    <tr>\n",
              "      <th>2</th>\n",
              "      <td>/ivete-sangalo/</td>\n",
              "      <td>Céu da Boca</td>\n",
              "      <td>/ivete-sangalo/chupa-toda.html</td>\n",
              "      <td>É de babaixá!\\nÉ de balacubaca!\\nÉ de babaixá!...</td>\n",
              "      <td>pt</td>\n",
              "    </tr>\n",
              "    <tr>\n",
              "      <th>3</th>\n",
              "      <td>/ivete-sangalo/</td>\n",
              "      <td>Quando A Chuva Passar</td>\n",
              "      <td>/ivete-sangalo/quando-a-chuva-passar.html</td>\n",
              "      <td>Quando a chuva passar\\n\\nPra quê falar\\nSe voc...</td>\n",
              "      <td>pt</td>\n",
              "    </tr>\n",
              "    <tr>\n",
              "      <th>4</th>\n",
              "      <td>/ivete-sangalo/</td>\n",
              "      <td>Sorte Grande</td>\n",
              "      <td>/ivete-sangalo/sorte-grande.html</td>\n",
              "      <td>A minha sorte grande foi você cair do céu\\nMin...</td>\n",
              "      <td>pt</td>\n",
              "    </tr>\n",
              "  </tbody>\n",
              "</table>\n",
              "</div>"
            ],
            "text/plain": [
              "             ALink                            SName  \\\n",
              "0  /ivete-sangalo/                            Arerê   \n",
              "1  /ivete-sangalo/  Se Eu Não Te Amasse Tanto Assim   \n",
              "2  /ivete-sangalo/                      Céu da Boca   \n",
              "3  /ivete-sangalo/            Quando A Chuva Passar   \n",
              "4  /ivete-sangalo/                     Sorte Grande   \n",
              "\n",
              "                                               SLink  \\\n",
              "0                          /ivete-sangalo/arere.html   \n",
              "1  /ivete-sangalo/se-eu-nao-te-amasse-tanto-assim...   \n",
              "2                     /ivete-sangalo/chupa-toda.html   \n",
              "3          /ivete-sangalo/quando-a-chuva-passar.html   \n",
              "4                   /ivete-sangalo/sorte-grande.html   \n",
              "\n",
              "                                               Lyric language  \n",
              "0  Tudo o que eu quero nessa vida,\\nToda vida, é\\...       pt  \n",
              "1  Meu coração\\nSem direção\\nVoando só por voar\\n...       pt  \n",
              "2  É de babaixá!\\nÉ de balacubaca!\\nÉ de babaixá!...       pt  \n",
              "3  Quando a chuva passar\\n\\nPra quê falar\\nSe voc...       pt  \n",
              "4  A minha sorte grande foi você cair do céu\\nMin...       pt  "
            ]
          },
          "execution_count": 2,
          "metadata": {},
          "output_type": "execute_result"
        }
      ],
      "source": [
        "import pandas as pd\n",
        "\n",
        "file_name = 'lyrics-data.csv'\n",
        "complete_route = path + '/' + file_name\n",
        "df = pd.read_csv(complete_route)\n",
        "df.head()"
      ]
    },
    {
      "cell_type": "markdown",
      "id": "393e3573",
      "metadata": {
        "id": "393e3573"
      },
      "source": [
        "Verificación de los lenguajes en el dataset."
      ]
    },
    {
      "cell_type": "code",
      "execution_count": 3,
      "id": "2c9919da",
      "metadata": {
        "colab": {
          "base_uri": "https://localhost:8080/"
        },
        "id": "2c9919da",
        "outputId": "5d2daf19-faa6-44eb-a5e8-8427cb52f885"
      },
      "outputs": [
        {
          "name": "stdout",
          "output_type": "stream",
          "text": [
            "Lenguajes disponibles:  ['pt' 'es' 'en' nan 'it' 'gl' 'fr' 'de' 'tl' 'et' 'fi' 'pl' 'da' 'st' 'sv'\n",
            " 'ro' 'af' 'no' 'eu' 'rw' 'sw' 'ga' 'cy' 'ca' 'ny' 'ko' 'ar' 'gd' 'tr'\n",
            " 'id' 'su' 'lg' 'ru' 'nl' 'sq' 'is' 'cs' 'jw' 'lv' 'hu' 'ms' 'ku' 'zh'\n",
            " 'hr' 'ht' 'fa' 'mg' 'vi' 'ja' 'hmn' 'sr' 'iw' 'sl']\n"
          ]
        }
      ],
      "source": [
        "languages = df['language'].unique()\n",
        "print(\"Lenguajes disponibles: \",languages)"
      ]
    },
    {
      "cell_type": "markdown",
      "id": "0603f16e",
      "metadata": {
        "id": "0603f16e"
      },
      "source": [
        "En este proyecto únicamente se realizarán predicciones en inglés. Con la finalidad de evitar tiempos prolongados, únicamente se elegirán 1000 canciones para el análisis."
      ]
    },
    {
      "cell_type": "code",
      "execution_count": 4,
      "id": "5abac3cf",
      "metadata": {
        "colab": {
          "base_uri": "https://localhost:8080/",
          "height": 223
        },
        "id": "5abac3cf",
        "outputId": "dfb8e5ab-f982-4c00-ff3c-e54b6b65885f"
      },
      "outputs": [
        {
          "name": "stdout",
          "output_type": "stream",
          "text": [
            "Longitud del dataset:  1000\n"
          ]
        },
        {
          "data": {
            "text/html": [
              "<div>\n",
              "<style scoped>\n",
              "    .dataframe tbody tr th:only-of-type {\n",
              "        vertical-align: middle;\n",
              "    }\n",
              "\n",
              "    .dataframe tbody tr th {\n",
              "        vertical-align: top;\n",
              "    }\n",
              "\n",
              "    .dataframe thead th {\n",
              "        text-align: right;\n",
              "    }\n",
              "</style>\n",
              "<table border=\"1\" class=\"dataframe\">\n",
              "  <thead>\n",
              "    <tr style=\"text-align: right;\">\n",
              "      <th></th>\n",
              "      <th>ALink</th>\n",
              "      <th>SName</th>\n",
              "      <th>SLink</th>\n",
              "      <th>Lyric</th>\n",
              "      <th>language</th>\n",
              "    </tr>\n",
              "  </thead>\n",
              "  <tbody>\n",
              "    <tr>\n",
              "      <th>69</th>\n",
              "      <td>/ivete-sangalo/</td>\n",
              "      <td>Careless Whisper</td>\n",
              "      <td>/ivete-sangalo/careless-whisper.html</td>\n",
              "      <td>I feel so unsure\\nAs I take your hand and lead...</td>\n",
              "      <td>en</td>\n",
              "    </tr>\n",
              "    <tr>\n",
              "      <th>86</th>\n",
              "      <td>/ivete-sangalo/</td>\n",
              "      <td>Could You Be Loved / Citação Musical do Rap: S...</td>\n",
              "      <td>/ivete-sangalo/could-you-be-loved-citacao-musi...</td>\n",
              "      <td>Don't let them fool, ya\\nOr even try to school...</td>\n",
              "      <td>en</td>\n",
              "    </tr>\n",
              "    <tr>\n",
              "      <th>88</th>\n",
              "      <td>/ivete-sangalo/</td>\n",
              "      <td>Cruisin' (Part. Saulo)</td>\n",
              "      <td>/ivete-sangalo/cruisin-part-saulo.html</td>\n",
              "      <td>Baby, let's cruise, away from here\\nDon't be c...</td>\n",
              "      <td>en</td>\n",
              "    </tr>\n",
              "    <tr>\n",
              "      <th>111</th>\n",
              "      <td>/ivete-sangalo/</td>\n",
              "      <td>Easy</td>\n",
              "      <td>/ivete-sangalo/easy.html</td>\n",
              "      <td>Know it sounds funny\\nBut, I just can't stand ...</td>\n",
              "      <td>en</td>\n",
              "    </tr>\n",
              "    <tr>\n",
              "      <th>140</th>\n",
              "      <td>/ivete-sangalo/</td>\n",
              "      <td>For Your Babies (The Voice cover)</td>\n",
              "      <td>/ivete-sangalo/for-your-babies-the-voice-cover...</td>\n",
              "      <td>You've got that look again\\nThe one I hoped I ...</td>\n",
              "      <td>en</td>\n",
              "    </tr>\n",
              "  </tbody>\n",
              "</table>\n",
              "</div>"
            ],
            "text/plain": [
              "               ALink                                              SName  \\\n",
              "69   /ivete-sangalo/                                   Careless Whisper   \n",
              "86   /ivete-sangalo/  Could You Be Loved / Citação Musical do Rap: S...   \n",
              "88   /ivete-sangalo/                             Cruisin' (Part. Saulo)   \n",
              "111  /ivete-sangalo/                                               Easy   \n",
              "140  /ivete-sangalo/                  For Your Babies (The Voice cover)   \n",
              "\n",
              "                                                 SLink  \\\n",
              "69                /ivete-sangalo/careless-whisper.html   \n",
              "86   /ivete-sangalo/could-you-be-loved-citacao-musi...   \n",
              "88              /ivete-sangalo/cruisin-part-saulo.html   \n",
              "111                           /ivete-sangalo/easy.html   \n",
              "140  /ivete-sangalo/for-your-babies-the-voice-cover...   \n",
              "\n",
              "                                                 Lyric language  \n",
              "69   I feel so unsure\\nAs I take your hand and lead...       en  \n",
              "86   Don't let them fool, ya\\nOr even try to school...       en  \n",
              "88   Baby, let's cruise, away from here\\nDon't be c...       en  \n",
              "111  Know it sounds funny\\nBut, I just can't stand ...       en  \n",
              "140  You've got that look again\\nThe one I hoped I ...       en  "
            ]
          },
          "execution_count": 4,
          "metadata": {},
          "output_type": "execute_result"
        }
      ],
      "source": [
        "df_en = df[df['language'] == 'en'].head(1000)\n",
        "print(\"Longitud del dataset: \",len(df_en))\n",
        "df_en.head()"
      ]
    },
    {
      "cell_type": "markdown",
      "id": "62c08e80",
      "metadata": {
        "id": "62c08e80"
      },
      "source": [
        "Para la parte del preprocesamiento de los datos, se deberá realizar una limpieza inicialmente.\n",
        "\n",
        "La limpieza incluye la eliminación de palabras que no sean letras, espacios, apostrófes y varios espacios seguidos."
      ]
    },
    {
      "cell_type": "code",
      "execution_count": 5,
      "id": "4odOzpMIAc_g",
      "metadata": {
        "colab": {
          "base_uri": "https://localhost:8080/"
        },
        "id": "4odOzpMIAc_g",
        "outputId": "23bf48d6-29e8-4924-fa3c-5e020e889917"
      },
      "outputs": [
        {
          "name": "stderr",
          "output_type": "stream",
          "text": [
            "[nltk_data] Downloading package punkt_tab to\n",
            "[nltk_data]     C:\\Users\\bugy1\\AppData\\Roaming\\nltk_data...\n",
            "[nltk_data]   Package punkt_tab is already up-to-date!\n"
          ]
        }
      ],
      "source": [
        "import re\n",
        "from nltk.tokenize import word_tokenize\n",
        "import numpy as np\n",
        "import nltk\n",
        "\n",
        "nltk.download('punkt_tab')\n",
        "\n",
        "def preprocessing(text):\n",
        "    if pd.isna(text):\n",
        "        return []\n",
        "\n",
        "    text = str(text).lower()\n",
        "    text = re.sub(r'[^a-zA-Z\\s\\']', ' ', text)\n",
        "    text = re.sub(r'\\s+', ' ', text).strip()\n",
        "\n",
        "    tokens = word_tokenize(text)\n",
        "    return tokens"
      ]
    },
    {
      "cell_type": "code",
      "execution_count": 6,
      "id": "f13b2b76",
      "metadata": {
        "colab": {
          "base_uri": "https://localhost:8080/",
          "height": 241
        },
        "id": "f13b2b76",
        "outputId": "83fa94ee-174a-4ff6-b9e7-34cd3b75cbea"
      },
      "outputs": [
        {
          "data": {
            "text/plain": [
              "69     [i, feel, so, unsure, as, i, take, your, hand,...\n",
              "86     [do, n't, let, them, fool, ya, or, even, try, ...\n",
              "88     [baby, let, 's, cruise, away, from, here, do, ...\n",
              "111    [know, it, sounds, funny, but, i, just, ca, n'...\n",
              "140    [you, 've, got, that, look, again, the, one, i...\n",
              "Name: tokens, dtype: object"
            ]
          },
          "execution_count": 6,
          "metadata": {},
          "output_type": "execute_result"
        }
      ],
      "source": [
        "df_en['tokens'] = df_en['Lyric'].apply(preprocessing)\n",
        "df_en['tokens'].head()"
      ]
    },
    {
      "cell_type": "markdown",
      "id": "ed5d61c0",
      "metadata": {
        "id": "ed5d61c0"
      },
      "source": [
        "Creación de la ventana de contexto.\n",
        "\n",
        "La idea principal de este apartado se basa en la creación de frases con una ventana de contexto de 3 en este caso y un objetivo a predecir (el último elemento de la ventana de contexto)."
      ]
    },
    {
      "cell_type": "code",
      "execution_count": 7,
      "id": "43So78rrAIWR",
      "metadata": {
        "id": "43So78rrAIWR"
      },
      "outputs": [],
      "source": [
        "WINDOW_SIZE = 3"
      ]
    },
    {
      "cell_type": "code",
      "execution_count": 8,
      "id": "a8802024",
      "metadata": {
        "colab": {
          "base_uri": "https://localhost:8080/"
        },
        "id": "a8802024",
        "outputId": "c29b05a0-5e5c-4fc5-8736-7b0a0ae09824"
      },
      "outputs": [
        {
          "name": "stdout",
          "output_type": "stream",
          "text": [
            "Ejemplo de ventana: ['remember', 'those', 'walls']\n",
            "Palabra a predecir: i\n"
          ]
        }
      ],
      "source": [
        "# Generar la secuencia de palabras y su predicción\n",
        "def create_windows(tokens, window_size=WINDOW_SIZE):\n",
        "    X = []\n",
        "    y = []\n",
        "    for i in range(len(tokens) - window_size):\n",
        "        window = tokens[i : i + window_size]       # secuencia de contexto\n",
        "        next_word = tokens[i + window_size]        # palabra objetivo\n",
        "        X.append(window)\n",
        "        y.append(next_word)\n",
        "    return X, y\n",
        "\n",
        "\n",
        "sample_tokens = df_en['tokens'].iloc[38] #Ejemplo de la fila 38\n",
        "X, y = create_windows(sample_tokens, WINDOW_SIZE)\n",
        "\n",
        "print(\"Ejemplo de ventana:\", X[0])\n",
        "print(\"Palabra a predecir:\", y[0])\n"
      ]
    },
    {
      "cell_type": "markdown",
      "id": "wxvUkj_b7Jbe",
      "metadata": {
        "id": "wxvUkj_b7Jbe"
      },
      "source": [
        "Aplicación a todo el dataset"
      ]
    },
    {
      "cell_type": "code",
      "execution_count": 9,
      "id": "iFnTKK375V0E",
      "metadata": {
        "colab": {
          "base_uri": "https://localhost:8080/"
        },
        "id": "iFnTKK375V0E",
        "outputId": "e59be6aa-8cc7-42ad-ee07-d1cce00a37a7"
      },
      "outputs": [
        {
          "name": "stdout",
          "output_type": "stream",
          "text": [
            "Total de ejemplos creados: 459548\n",
            "Ejemplo: ['of', 'a', 'good'] -> friend\n"
          ]
        }
      ],
      "source": [
        "all_X = []\n",
        "all_y = []\n",
        "\n",
        "for tokens in df_en['tokens']:\n",
        "    X, y = create_windows(tokens, WINDOW_SIZE)\n",
        "    all_X.extend(X)\n",
        "    all_y.extend(y)\n",
        "\n",
        "print(\"Total de ejemplos creados:\", len(all_X))\n",
        "print(\"Ejemplo:\", all_X[100], \"->\", all_y[100])\n"
      ]
    },
    {
      "cell_type": "markdown",
      "id": "R2tP-uhF8YTw",
      "metadata": {
        "id": "R2tP-uhF8YTw"
      },
      "source": [
        "Procesamiento de embeddings"
      ]
    },
    {
      "cell_type": "code",
      "execution_count": 10,
      "id": "v7Ox5232AC8q",
      "metadata": {
        "id": "v7Ox5232AC8q"
      },
      "outputs": [],
      "source": [
        "from tensorflow.keras.preprocessing.text import Tokenizer\n",
        "from tensorflow.keras.preprocessing.sequence import pad_sequences\n",
        "\n",
        "\n",
        "tokenizer = Tokenizer()"
      ]
    },
    {
      "cell_type": "code",
      "execution_count": 11,
      "id": "5Q3aJkIX7OFF",
      "metadata": {
        "colab": {
          "base_uri": "https://localhost:8080/"
        },
        "id": "5Q3aJkIX7OFF",
        "outputId": "17b23917-eed7-4f68-f25f-bb820e9635da"
      },
      "outputs": [
        {
          "name": "stdout",
          "output_type": "stream",
          "text": [
            "X shape: (459546, 3)\n",
            "y shape: (459546,)\n"
          ]
        }
      ],
      "source": [
        "tokenizer.fit_on_texts(all_X + all_y)\n",
        "\n",
        "X_seq = tokenizer.texts_to_sequences(all_X)\n",
        "y_seq = tokenizer.texts_to_sequences(all_y)\n",
        "\n",
        "# Aplanar las secuencias\n",
        "y_seq = np.array([seq[0] for seq in y_seq if len(seq) > 0])\n",
        "X_seq = X_seq[:len(y_seq)]\n",
        "\n",
        "# Asegurar que tenga las secuencias el mismo tamaño\n",
        "X_seq = pad_sequences(X_seq, maxlen=WINDOW_SIZE, padding=\"pre\")\n",
        "\n",
        "print(\"X shape:\", X_seq.shape)\n",
        "print(\"y shape:\", y_seq.shape)\n",
        "\n",
        "\n"
      ]
    },
    {
      "cell_type": "markdown",
      "id": "Nx0jVDN7A--O",
      "metadata": {
        "id": "Nx0jVDN7A--O"
      },
      "source": [
        "Creación del modelo\n",
        "\n",
        "Para la generación de este modelo, se hace uso de una dimensión fija de 100 para la capa de embedding, una capa densa con 256 neuronas y una activación ReLu y una capa densa de salida con un tamaño de neuronas total correspondiente al tamaño del vocabulario, con una activación softmax para predicción.\n",
        "\n"
      ]
    },
    {
      "cell_type": "code",
      "execution_count": 12,
      "id": "IBqEsVux_ful",
      "metadata": {
        "colab": {
          "base_uri": "https://localhost:8080/",
          "height": 292
        },
        "id": "IBqEsVux_ful",
        "outputId": "fd85ddc7-4fd3-49b3-d680-07a78c3b8dcd"
      },
      "outputs": [
        {
          "name": "stderr",
          "output_type": "stream",
          "text": [
            "c:\\Users\\bugy1\\anaconda3\\envs\\pln\\lib\\site-packages\\keras\\src\\layers\\core\\embedding.py:97: UserWarning: Argument `input_length` is deprecated. Just remove it.\n",
            "  warnings.warn(\n"
          ]
        },
        {
          "data": {
            "text/html": [
              "<pre style=\"white-space:pre;overflow-x:auto;line-height:normal;font-family:Menlo,'DejaVu Sans Mono',consolas,'Courier New',monospace\"><span style=\"font-weight: bold\">Model: \"sequential\"</span>\n",
              "</pre>\n"
            ],
            "text/plain": [
              "\u001b[1mModel: \"sequential\"\u001b[0m\n"
            ]
          },
          "metadata": {},
          "output_type": "display_data"
        },
        {
          "data": {
            "text/html": [
              "<pre style=\"white-space:pre;overflow-x:auto;line-height:normal;font-family:Menlo,'DejaVu Sans Mono',consolas,'Courier New',monospace\">┏━━━━━━━━━━━━━━━━━━━━━━━━━━━━━━━━━┳━━━━━━━━━━━━━━━━━━━━━━━━┳━━━━━━━━━━━━━━━┓\n",
              "┃<span style=\"font-weight: bold\"> Layer (type)                    </span>┃<span style=\"font-weight: bold\"> Output Shape           </span>┃<span style=\"font-weight: bold\">       Param # </span>┃\n",
              "┡━━━━━━━━━━━━━━━━━━━━━━━━━━━━━━━━━╇━━━━━━━━━━━━━━━━━━━━━━━━╇━━━━━━━━━━━━━━━┩\n",
              "│ embedding (<span style=\"color: #0087ff; text-decoration-color: #0087ff\">Embedding</span>)           │ ?                      │   <span style=\"color: #00af00; text-decoration-color: #00af00\">0</span> (unbuilt) │\n",
              "├─────────────────────────────────┼────────────────────────┼───────────────┤\n",
              "│ flatten (<span style=\"color: #0087ff; text-decoration-color: #0087ff\">Flatten</span>)               │ ?                      │   <span style=\"color: #00af00; text-decoration-color: #00af00\">0</span> (unbuilt) │\n",
              "├─────────────────────────────────┼────────────────────────┼───────────────┤\n",
              "│ dense (<span style=\"color: #0087ff; text-decoration-color: #0087ff\">Dense</span>)                   │ ?                      │   <span style=\"color: #00af00; text-decoration-color: #00af00\">0</span> (unbuilt) │\n",
              "├─────────────────────────────────┼────────────────────────┼───────────────┤\n",
              "│ dense_1 (<span style=\"color: #0087ff; text-decoration-color: #0087ff\">Dense</span>)                 │ ?                      │   <span style=\"color: #00af00; text-decoration-color: #00af00\">0</span> (unbuilt) │\n",
              "└─────────────────────────────────┴────────────────────────┴───────────────┘\n",
              "</pre>\n"
            ],
            "text/plain": [
              "┏━━━━━━━━━━━━━━━━━━━━━━━━━━━━━━━━━┳━━━━━━━━━━━━━━━━━━━━━━━━┳━━━━━━━━━━━━━━━┓\n",
              "┃\u001b[1m \u001b[0m\u001b[1mLayer (type)                   \u001b[0m\u001b[1m \u001b[0m┃\u001b[1m \u001b[0m\u001b[1mOutput Shape          \u001b[0m\u001b[1m \u001b[0m┃\u001b[1m \u001b[0m\u001b[1m      Param #\u001b[0m\u001b[1m \u001b[0m┃\n",
              "┡━━━━━━━━━━━━━━━━━━━━━━━━━━━━━━━━━╇━━━━━━━━━━━━━━━━━━━━━━━━╇━━━━━━━━━━━━━━━┩\n",
              "│ embedding (\u001b[38;5;33mEmbedding\u001b[0m)           │ ?                      │   \u001b[38;5;34m0\u001b[0m (unbuilt) │\n",
              "├─────────────────────────────────┼────────────────────────┼───────────────┤\n",
              "│ flatten (\u001b[38;5;33mFlatten\u001b[0m)               │ ?                      │   \u001b[38;5;34m0\u001b[0m (unbuilt) │\n",
              "├─────────────────────────────────┼────────────────────────┼───────────────┤\n",
              "│ dense (\u001b[38;5;33mDense\u001b[0m)                   │ ?                      │   \u001b[38;5;34m0\u001b[0m (unbuilt) │\n",
              "├─────────────────────────────────┼────────────────────────┼───────────────┤\n",
              "│ dense_1 (\u001b[38;5;33mDense\u001b[0m)                 │ ?                      │   \u001b[38;5;34m0\u001b[0m (unbuilt) │\n",
              "└─────────────────────────────────┴────────────────────────┴───────────────┘\n"
            ]
          },
          "metadata": {},
          "output_type": "display_data"
        },
        {
          "data": {
            "text/html": [
              "<pre style=\"white-space:pre;overflow-x:auto;line-height:normal;font-family:Menlo,'DejaVu Sans Mono',consolas,'Courier New',monospace\"><span style=\"font-weight: bold\"> Total params: </span><span style=\"color: #00af00; text-decoration-color: #00af00\">0</span> (0.00 B)\n",
              "</pre>\n"
            ],
            "text/plain": [
              "\u001b[1m Total params: \u001b[0m\u001b[38;5;34m0\u001b[0m (0.00 B)\n"
            ]
          },
          "metadata": {},
          "output_type": "display_data"
        },
        {
          "data": {
            "text/html": [
              "<pre style=\"white-space:pre;overflow-x:auto;line-height:normal;font-family:Menlo,'DejaVu Sans Mono',consolas,'Courier New',monospace\"><span style=\"font-weight: bold\"> Trainable params: </span><span style=\"color: #00af00; text-decoration-color: #00af00\">0</span> (0.00 B)\n",
              "</pre>\n"
            ],
            "text/plain": [
              "\u001b[1m Trainable params: \u001b[0m\u001b[38;5;34m0\u001b[0m (0.00 B)\n"
            ]
          },
          "metadata": {},
          "output_type": "display_data"
        },
        {
          "data": {
            "text/html": [
              "<pre style=\"white-space:pre;overflow-x:auto;line-height:normal;font-family:Menlo,'DejaVu Sans Mono',consolas,'Courier New',monospace\"><span style=\"font-weight: bold\"> Non-trainable params: </span><span style=\"color: #00af00; text-decoration-color: #00af00\">0</span> (0.00 B)\n",
              "</pre>\n"
            ],
            "text/plain": [
              "\u001b[1m Non-trainable params: \u001b[0m\u001b[38;5;34m0\u001b[0m (0.00 B)\n"
            ]
          },
          "metadata": {},
          "output_type": "display_data"
        }
      ],
      "source": [
        "import tensorflow as tf\n",
        "from tensorflow.keras.models import Sequential\n",
        "from tensorflow.keras.layers import Embedding, Flatten, Dense\n",
        "\n",
        "VOCAB_SIZE = len(tokenizer.word_index) + 1  # número total de palabras\n",
        "\n",
        "model = Sequential([\n",
        "    Embedding(input_dim=VOCAB_SIZE, output_dim=100, input_length=WINDOW_SIZE),\n",
        "    Flatten(),\n",
        "    Dense(256, activation=\"relu\"),\n",
        "    Dense(VOCAB_SIZE, activation=\"softmax\")\n",
        "])\n",
        "\n",
        "model.compile(loss=\"sparse_categorical_crossentropy\",\n",
        "              optimizer=\"adam\",\n",
        "              metrics=[\"accuracy\"])\n",
        "\n",
        "model.summary()"
      ]
    },
    {
      "cell_type": "markdown",
      "id": "Lghh6sUgUaam",
      "metadata": {
        "id": "Lghh6sUgUaam"
      },
      "source": [
        "Entrenamiento del modelo"
      ]
    },
    {
      "cell_type": "code",
      "execution_count": 13,
      "id": "UJsLlsqwUbsU",
      "metadata": {
        "colab": {
          "base_uri": "https://localhost:8080/"
        },
        "id": "UJsLlsqwUbsU",
        "outputId": "6a331e91-c2bd-4e89-8154-aed3aa504f15"
      },
      "outputs": [
        {
          "name": "stdout",
          "output_type": "stream",
          "text": [
            "Epoch 1/5\n",
            "\u001b[1m1437/1437\u001b[0m \u001b[32m━━━━━━━━━━━━━━━━━━━━\u001b[0m\u001b[37m\u001b[0m \u001b[1m50s\u001b[0m 34ms/step - accuracy: 0.1053 - loss: 5.8432 - val_accuracy: 0.0293 - val_loss: 7.0452\n",
            "Epoch 2/5\n",
            "\u001b[1m1437/1437\u001b[0m \u001b[32m━━━━━━━━━━━━━━━━━━━━\u001b[0m\u001b[37m\u001b[0m \u001b[1m42s\u001b[0m 29ms/step - accuracy: 0.1821 - loss: 4.9892 - val_accuracy: 0.0276 - val_loss: 7.2468\n",
            "Epoch 3/5\n",
            "\u001b[1m1437/1437\u001b[0m \u001b[32m━━━━━━━━━━━━━━━━━━━━\u001b[0m\u001b[37m\u001b[0m \u001b[1m43s\u001b[0m 30ms/step - accuracy: 0.2361 - loss: 4.4507 - val_accuracy: 0.0263 - val_loss: 7.5220\n",
            "Epoch 4/5\n",
            "\u001b[1m1437/1437\u001b[0m \u001b[32m━━━━━━━━━━━━━━━━━━━━\u001b[0m\u001b[37m\u001b[0m \u001b[1m48s\u001b[0m 33ms/step - accuracy: 0.2882 - loss: 3.9904 - val_accuracy: 0.0253 - val_loss: 7.8630\n",
            "Epoch 5/5\n",
            "\u001b[1m1437/1437\u001b[0m \u001b[32m━━━━━━━━━━━━━━━━━━━━\u001b[0m\u001b[37m\u001b[0m \u001b[1m45s\u001b[0m 31ms/step - accuracy: 0.3347 - loss: 3.5989 - val_accuracy: 0.0221 - val_loss: 8.2827\n"
          ]
        }
      ],
      "source": [
        "history = model.fit(X_seq, y_seq, epochs=5, batch_size=256, validation_split=0.2)"
      ]
    },
    {
      "cell_type": "code",
      "execution_count": 14,
      "id": "S3kpcDgD52je",
      "metadata": {
        "colab": {
          "base_uri": "https://localhost:8080/"
        },
        "id": "S3kpcDgD52je",
        "outputId": "29e55f65-fc11-46c9-bd5c-de0b1c8e583e"
      },
      "outputs": [
        {
          "name": "stderr",
          "output_type": "stream",
          "text": [
            "WARNING:absl:You are saving your model as an HDF5 file via `model.save()` or `keras.saving.save_model(model)`. This file format is considered legacy. We recommend using instead the native Keras format, e.g. `model.save('my_model.keras')` or `keras.saving.save_model(model, 'my_model.keras')`. \n"
          ]
        }
      ],
      "source": [
        "import pickle\n",
        "# Guardar el modelo entrenado\n",
        "model.save(\"modelo_lyrics.h5\")\n",
        "# Guardar tokenizer\n",
        "with open(\"tokenizer.pkl\", \"wb\") as f:\n",
        "    pickle.dump(tokenizer, f)"
      ]
    },
    {
      "cell_type": "code",
      "execution_count": 15,
      "id": "npqEMCxQ6keQ",
      "metadata": {
        "colab": {
          "base_uri": "https://localhost:8080/"
        },
        "id": "npqEMCxQ6keQ",
        "outputId": "853737b3-f6b4-4083-bf5c-9e10c10a5475"
      },
      "outputs": [
        {
          "name": "stderr",
          "output_type": "stream",
          "text": [
            "WARNING:absl:Compiled the loaded model, but the compiled metrics have yet to be built. `model.compile_metrics` will be empty until you train or evaluate the model.\n"
          ]
        }
      ],
      "source": [
        "# Cargar el modelo entrenado\n",
        "from tensorflow.keras.models import load_model\n",
        "\n",
        "model = load_model(\"modelo_lyrics.h5\")\n",
        "# Cargar tokenizer\n",
        "with open(\"tokenizer.pkl\", \"rb\") as f:\n",
        "    tokenizer = pickle.load(f)"
      ]
    },
    {
      "cell_type": "markdown",
      "id": "Q9g_tClhVCEk",
      "metadata": {
        "id": "Q9g_tClhVCEk"
      },
      "source": [
        "Función para predecir una frase"
      ]
    },
    {
      "cell_type": "code",
      "execution_count": 16,
      "id": "2wTrGGbABLVA",
      "metadata": {
        "id": "2wTrGGbABLVA"
      },
      "outputs": [],
      "source": [
        "def predict_next_word(model, tokenizer, text, window_size=5):\n",
        "    tokens = preprocessing(text)\n",
        "\n",
        "    if len(tokens) < window_size:\n",
        "        # si la frase es más corta se rellena\n",
        "        tokens = [\"<pad>\"] * (window_size - len(tokens)) + tokens\n",
        "\n",
        "    # Últimas palabras de la ventana\n",
        "    window = tokens[-window_size:]\n",
        "\n",
        "    seq = tokenizer.texts_to_sequences([window])\n",
        "    seq = pad_sequences(seq, maxlen=window_size, padding=\"pre\")\n",
        "\n",
        "    pred = model.predict(seq, verbose=0)\n",
        "    next_word_id = np.argmax(pred, axis=-1)[0]\n",
        "\n",
        "    # Se convierte el índice en una palabra\n",
        "    for word, idx in tokenizer.word_index.items():\n",
        "        if idx == next_word_id:\n",
        "            return word\n",
        "    return None"
      ]
    },
    {
      "cell_type": "markdown",
      "id": "5VglMfLE7PqN",
      "metadata": {
        "id": "5VglMfLE7PqN"
      },
      "source": [
        "Evaluación con perplexity en train/test"
      ]
    },
    {
      "cell_type": "code",
      "execution_count": 17,
      "id": "t_MvoRZpldn0",
      "metadata": {
        "id": "t_MvoRZpldn0"
      },
      "outputs": [],
      "source": [
        "import numpy as np\n",
        "\n",
        "def compute_perplexity_batch(model, X, y, batch_size=512):\n",
        "    N = len(y)\n",
        "    total_log_prob = 0.0\n",
        "\n",
        "    for i in range(0, N, batch_size):\n",
        "        X_batch = X[i:i+batch_size]\n",
        "        y_batch = y[i:i+batch_size]\n",
        "        preds = model.predict(X_batch, batch_size=batch_size, verbose=0)\n",
        "\n",
        "        probs = preds[np.arange(len(y_batch)), y_batch]\n",
        "\n",
        "        probs = np.where(probs > 0, probs, 1e-10)\n",
        "\n",
        "        total_log_prob += np.log(probs).sum()\n",
        "\n",
        "    ppl = np.exp(- total_log_prob / N)\n",
        "    return ppl\n"
      ]
    },
    {
      "cell_type": "code",
      "execution_count": 18,
      "id": "bwkFuyrf_NqA",
      "metadata": {
        "colab": {
          "base_uri": "https://localhost:8080/"
        },
        "id": "bwkFuyrf_NqA",
        "outputId": "dd2f696c-38e1-47d1-b569-4a8ac8200f4c"
      },
      "outputs": [
        {
          "name": "stdout",
          "output_type": "stream",
          "text": [
            "Train PPL: 25.47\n",
            "Validation PPL: 3954.74\n"
          ]
        }
      ],
      "source": [
        "split = int(len(X_seq) * 0.8)\n",
        "X_train, X_val = X_seq[:split], X_seq[split:]\n",
        "y_train, y_val = y_seq[:split], y_seq[split:]\n",
        "\n",
        "train_ppl = compute_perplexity_batch(model, X_train, y_train, batch_size=512)\n",
        "val_ppl = compute_perplexity_batch(model, X_val, y_val, batch_size=512)\n",
        "\n",
        "print(f\"Train PPL: {train_ppl:.2f}\")\n",
        "print(f\"Validation PPL: {val_ppl:.2f}\")\n"
      ]
    },
    {
      "cell_type": "markdown",
      "id": "-zoI4Jj7Zh7P",
      "metadata": {
        "id": "-zoI4Jj7Zh7P"
      },
      "source": [
        "Resultados de Loss, accuracy, y perplexity"
      ]
    },
    {
      "cell_type": "code",
      "execution_count": 19,
      "id": "6dBBM0wSZr4E",
      "metadata": {
        "id": "6dBBM0wSZr4E"
      },
      "outputs": [
        {
          "name": "stdout",
          "output_type": "stream",
          "text": [
            "\n",
            "Tabla de métricas:\n",
            "      Dataset      Loss  Accuracy   Perplexity\n",
            "0       Train  3.237466  0.375904    25.469114\n",
            "1  Validation  8.282678  0.022087  3954.744884\n"
          ]
        }
      ],
      "source": [
        "train_loss, train_acc = model.evaluate(X_train, y_train, verbose=0)\n",
        "val_loss, val_acc = model.evaluate(X_val, y_val, verbose=0)\n",
        "\n",
        "results_df = pd.DataFrame({\n",
        "    \"Dataset\": [\"Train\", \"Validation\"],\n",
        "    \"Loss\": [train_loss, val_loss],\n",
        "    \"Accuracy\": [train_acc, val_acc],\n",
        "    \"Perplexity\": [train_ppl, val_ppl]\n",
        "})\n",
        "\n",
        "print(\"\\nTabla de métricas:\")\n",
        "print(results_df)\n"
      ]
    },
    {
      "cell_type": "markdown",
      "id": "eaa959ba",
      "metadata": {},
      "source": [
        "De acuerdo a estos resultados, el modelo ha aprendido patrones en el entrenamiento pero no realiza correctamente la generalización con respecto a la validación. \n",
        "Se muestra un caso de overfitting. Con respecto a perplexity, tiene un valor muy alto, cuando lo ideal deberá ser que tenga un perplexity de 1 tanto en train como en validación. "
      ]
    },
    {
      "cell_type": "markdown",
      "id": "mqjaAInfZzIH",
      "metadata": {
        "id": "mqjaAInfZzIH"
      },
      "source": [
        "Curvas de entrenamiento\n",
        "\n",
        "Gráfica para loss"
      ]
    },
    {
      "cell_type": "code",
      "execution_count": 22,
      "id": "_hwpmXj8Zzr8",
      "metadata": {
        "id": "_hwpmXj8Zzr8"
      },
      "outputs": [
        {
          "data": {
            "image/png": "[encoded data removed]",
            "text/plain": [
              "<Figure size 1000x500 with 1 Axes>"
            ]
          },
          "metadata": {},
          "output_type": "display_data"
        }
      ],
      "source": [
        "import matplotlib.pyplot as plt\n",
        "\n",
        "\n",
        "plt.figure(figsize=(10,5))\n",
        "plt.plot(history.history[\"loss\"], label=\"Train Loss\")\n",
        "plt.plot(history.history[\"val_loss\"], label=\"Validation Loss\")\n",
        "plt.xlabel(\"Época\")\n",
        "plt.ylabel(\"Loss\")\n",
        "plt.title(\"Curva de Pérdida\")\n",
        "plt.legend()\n",
        "plt.show()\n"
      ]
    },
    {
      "cell_type": "markdown",
      "id": "8d996787",
      "metadata": {},
      "source": [
        "Como se puede observar, la curva de pérdida en el entrenamiento baja a un ritmo constante, por lo que se puede decir que el modelo aprende y se ajusta muy bien a los datos de entrenamiento. \n",
        "\n",
        "Por otra parte, la curva de color naranja nos indica la pérdida en validación y se observa que en lugar de que este baje, sube en cada época. En general se dice que este modelo empeora con la validación. "
      ]
    },
    {
      "cell_type": "markdown",
      "id": "15821d3e",
      "metadata": {},
      "source": [
        "Gráfica para accuracy"
      ]
    },
    {
      "cell_type": "code",
      "execution_count": 23,
      "id": "f27ab7b3",
      "metadata": {},
      "outputs": [
        {
          "data": {
            "image/png": "[encoded data removed]",
            "text/plain": [
              "<Figure size 1000x500 with 1 Axes>"
            ]
          },
          "metadata": {},
          "output_type": "display_data"
        }
      ],
      "source": [
        "plt.figure(figsize=(10,5))\n",
        "plt.plot(history.history[\"accuracy\"], label=\"Train Accuracy\")\n",
        "plt.plot(history.history[\"val_accuracy\"], label=\"Validation Accuracy\")\n",
        "plt.xlabel(\"Época\")\n",
        "plt.ylabel(\"Accuracy\")\n",
        "plt.title(\"Curva de Accuracy\")\n",
        "plt.legend()\n",
        "plt.show()"
      ]
    },
    {
      "cell_type": "markdown",
      "id": "25769fd6",
      "metadata": {},
      "source": [
        "Al igual que la anterior gráfica, la curva de accuracy en entrenamiento muestra un aprendizaje significativo, mientras que la curva de accuracy en validación se mantiene baja y no mejora, lo que indica nuevamente que el modelo no generaliza bien las predicciones. "
      ]
    },
    {
      "cell_type": "markdown",
      "id": "x7XAbAYNaAIn",
      "metadata": {
        "id": "x7XAbAYNaAIn"
      },
      "source": [
        "Ejemplos de generación de texto"
      ]
    },
    {
      "cell_type": "code",
      "execution_count": 24,
      "id": "mj8Sd8lZaCz8",
      "metadata": {
        "colab": {
          "base_uri": "https://localhost:8080/"
        },
        "id": "mj8Sd8lZaCz8",
        "outputId": "07d5635a-1a90-4ab8-f596-2acf78366af3"
      },
      "outputs": [
        {
          "name": "stdout",
          "output_type": "stream",
          "text": [
            "\\Entrada: 'I love'\n",
            "Texto generado: I love you i love you i love you i\n",
            "\\Entrada: 'The Sun'\n",
            "Texto generado: The Sun we 're standing on the sun standing on\n",
            "\\Entrada: 'Music is'\n",
            "Texto generado: Music is all the things you do n't have to\n"
          ]
        }
      ],
      "source": [
        "phrases = [\"I love\", \"The Sun\", \"Music is\"]\n",
        "STRING_LEN = 8\n",
        "\n",
        "for phrase in phrases:\n",
        "    text_input = phrase\n",
        "    print(f\"\\Entrada: '{phrase}'\")\n",
        "    for i in range(STRING_LEN):\n",
        "        predicted_word = predict_next_word(model, tokenizer, text_input, WINDOW_SIZE)\n",
        "        text_input += ' ' + predicted_word\n",
        "    print(\"Texto generado:\", text_input)\n"
      ]
    },
    {
      "cell_type": "markdown",
      "id": "fc5c6e84",
      "metadata": {},
      "source": [
        "### Conclusión \n",
        "En este trabajo se realizó una implementación de un modelo de predicción de la siguiente palabra utilizando un corpus de letras de canciones en inglés y un modelo básico de MLP con embeddings. \n",
        "\n",
        "Los resultados muestran que el modelo tiene buen rendimiento en el conjunto de entrenamiento pero sucede lo contrario en la evaluación en el conjunto de validación y además la perplejidad se dispara, lo que parece indicar que el modelo está memorizando y no aprendiendo o generalizando correctamente. Esto puede deberse al modelo básico empleado y al número de épocas utilizadas o una combinación de las mismas. "
      ]
    }
  ],
  "metadata": {
    "colab": {
      "provenance": []
    },
    "kernelspec": {
      "display_name": "pln",
      "language": "python",
      "name": "python3"
    },
    "language_info": {
      "codemirror_mode": {
        "name": "ipython",
        "version": 3
      },
      "file_extension": ".py",
      "mimetype": "text/x-python",
      "name": "python",
      "nbconvert_exporter": "python",
      "pygments_lexer": "ipython3",
      "version": "3.10.18"
    }
  },
  "nbformat": 4,
  "nbformat_minor": 5
}

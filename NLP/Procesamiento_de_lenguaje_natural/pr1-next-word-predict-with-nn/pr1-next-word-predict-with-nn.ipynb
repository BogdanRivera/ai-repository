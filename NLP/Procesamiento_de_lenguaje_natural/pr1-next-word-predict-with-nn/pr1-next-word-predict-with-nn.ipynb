{
 "cells": [
  {
   "cell_type": "markdown",
   "id": "4560e096",
   "metadata": {
    "id": "4560e096"
   },
   "source": [
    "# Predicción de palabras con redes neuronales\n",
    "\n",
    "Este proyecto se enfoca en la adquisición de un conjunton de datos para posteriormente introducir los embeddings en una red neuronal, permitiendo predecir la siguiente palabra basándose en dichas entradas. Para este caso se hace uso de un corpus de canciones (se tomarán únicamente canciones en inglés) de un total de 79 generos musicales. Ese corpus contiene 379,893 letras de canciones de 4,239 artistas.\n",
    "\n",
    "\n",
    "Adquisición de los datos."
   ]
  },
  {
   "cell_type": "code",
   "execution_count": 1,
   "id": "f0194525",
   "metadata": {
    "colab": {
     "base_uri": "https://localhost:8080/"
    },
    "executionInfo": {
     "elapsed": 1832,
     "status": "ok",
     "timestamp": 1758386834104,
     "user": {
      "displayName": "Bogdan Rivera",
      "userId": "14413786958457035933"
     },
     "user_tz": 360
    },
    "id": "f0194525",
    "outputId": "9baf121b-4ff9-4b6a-835f-e524265c4463"
   },
   "outputs": [
    {
     "name": "stdout",
     "output_type": "stream",
     "text": [
      "Using Colab cache for faster access to the 'scrapped-lyrics-from-6-genres' dataset.\n",
      "Path to dataset files: /kaggle/input/scrapped-lyrics-from-6-genres\n"
     ]
    }
   ],
   "source": [
    "import kagglehub\n",
    "\n",
    "# Download latest version\n",
    "path = kagglehub.dataset_download(\"neisse/scrapped-lyrics-from-6-genres\")\n",
    "\n",
    "print(\"Path to dataset files:\", path)"
   ]
  },
  {
   "cell_type": "code",
   "execution_count": 2,
   "id": "3762a01c",
   "metadata": {
    "colab": {
     "base_uri": "https://localhost:8080/",
     "height": 345
    },
    "executionInfo": {
     "elapsed": 11534,
     "status": "ok",
     "timestamp": 1758386845662,
     "user": {
      "displayName": "Bogdan Rivera",
      "userId": "14413786958457035933"
     },
     "user_tz": 360
    },
    "id": "3762a01c",
    "outputId": "0a8e0e6a-8ed6-446d-b2cd-8b6b0755b3a1"
   },
   "outputs": [
    {
     "data": {
      "application/vnd.google.colaboratory.intrinsic+json": {
       "type": "dataframe",
       "variable_name": "df"
      },
      "text/html": [
       "\n",
       "  <div id=\"df-f039d022-1357-46ed-a4f4-77c38a9944f3\" class=\"colab-df-container\">\n",
       "    <div>\n",
       "<style scoped>\n",
       "    .dataframe tbody tr th:only-of-type {\n",
       "        vertical-align: middle;\n",
       "    }\n",
       "\n",
       "    .dataframe tbody tr th {\n",
       "        vertical-align: top;\n",
       "    }\n",
       "\n",
       "    .dataframe thead th {\n",
       "        text-align: right;\n",
       "    }\n",
       "</style>\n",
       "<table border=\"1\" class=\"dataframe\">\n",
       "  <thead>\n",
       "    <tr style=\"text-align: right;\">\n",
       "      <th></th>\n",
       "      <th>ALink</th>\n",
       "      <th>SName</th>\n",
       "      <th>SLink</th>\n",
       "      <th>Lyric</th>\n",
       "      <th>language</th>\n",
       "    </tr>\n",
       "  </thead>\n",
       "  <tbody>\n",
       "    <tr>\n",
       "      <th>0</th>\n",
       "      <td>/ivete-sangalo/</td>\n",
       "      <td>Arerê</td>\n",
       "      <td>/ivete-sangalo/arere.html</td>\n",
       "      <td>Tudo o que eu quero nessa vida,\\nToda vida, é\\...</td>\n",
       "      <td>pt</td>\n",
       "    </tr>\n",
       "    <tr>\n",
       "      <th>1</th>\n",
       "      <td>/ivete-sangalo/</td>\n",
       "      <td>Se Eu Não Te Amasse Tanto Assim</td>\n",
       "      <td>/ivete-sangalo/se-eu-nao-te-amasse-tanto-assim...</td>\n",
       "      <td>Meu coração\\nSem direção\\nVoando só por voar\\n...</td>\n",
       "      <td>pt</td>\n",
       "    </tr>\n",
       "    <tr>\n",
       "      <th>2</th>\n",
       "      <td>/ivete-sangalo/</td>\n",
       "      <td>Céu da Boca</td>\n",
       "      <td>/ivete-sangalo/chupa-toda.html</td>\n",
       "      <td>É de babaixá!\\nÉ de balacubaca!\\nÉ de babaixá!...</td>\n",
       "      <td>pt</td>\n",
       "    </tr>\n",
       "    <tr>\n",
       "      <th>3</th>\n",
       "      <td>/ivete-sangalo/</td>\n",
       "      <td>Quando A Chuva Passar</td>\n",
       "      <td>/ivete-sangalo/quando-a-chuva-passar.html</td>\n",
       "      <td>Quando a chuva passar\\n\\nPra quê falar\\nSe voc...</td>\n",
       "      <td>pt</td>\n",
       "    </tr>\n",
       "    <tr>\n",
       "      <th>4</th>\n",
       "      <td>/ivete-sangalo/</td>\n",
       "      <td>Sorte Grande</td>\n",
       "      <td>/ivete-sangalo/sorte-grande.html</td>\n",
       "      <td>A minha sorte grande foi você cair do céu\\nMin...</td>\n",
       "      <td>pt</td>\n",
       "    </tr>\n",
       "  </tbody>\n",
       "</table>\n",
       "</div>\n",
       "    <div class=\"colab-df-buttons\">\n",
       "\n",
       "  <div class=\"colab-df-container\">\n",
       "    <button class=\"colab-df-convert\" onclick=\"convertToInteractive('df-f039d022-1357-46ed-a4f4-77c38a9944f3')\"\n",
       "            title=\"Convert this dataframe to an interactive table.\"\n",
       "            style=\"display:none;\">\n",
       "\n",
       "  <svg xmlns=\"http://www.w3.org/2000/svg\" height=\"24px\" viewBox=\"0 -960 960 960\">\n",
       "    <path d=\"M120-120v-720h720v720H120Zm60-500h600v-160H180v160Zm220 220h160v-160H400v160Zm0 220h160v-160H400v160ZM180-400h160v-160H180v160Zm440 0h160v-160H620v160ZM180-180h160v-160H180v160Zm440 0h160v-160H620v160Z\"/>\n",
       "  </svg>\n",
       "    </button>\n",
       "\n",
       "  <style>\n",
       "    .colab-df-container {\n",
       "      display:flex;\n",
       "      gap: 12px;\n",
       "    }\n",
       "\n",
       "    .colab-df-convert {\n",
       "      background-color: #E8F0FE;\n",
       "      border: none;\n",
       "      border-radius: 50%;\n",
       "      cursor: pointer;\n",
       "      display: none;\n",
       "      fill: #1967D2;\n",
       "      height: 32px;\n",
       "      padding: 0 0 0 0;\n",
       "      width: 32px;\n",
       "    }\n",
       "\n",
       "    .colab-df-convert:hover {\n",
       "      background-color: #E2EBFA;\n",
       "      box-shadow: 0px 1px 2px rgba(60, 64, 67, 0.3), 0px 1px 3px 1px rgba(60, 64, 67, 0.15);\n",
       "      fill: #174EA6;\n",
       "    }\n",
       "\n",
       "    .colab-df-buttons div {\n",
       "      margin-bottom: 4px;\n",
       "    }\n",
       "\n",
       "    [theme=dark] .colab-df-convert {\n",
       "      background-color: #3B4455;\n",
       "      fill: #D2E3FC;\n",
       "    }\n",
       "\n",
       "    [theme=dark] .colab-df-convert:hover {\n",
       "      background-color: #434B5C;\n",
       "      box-shadow: 0px 1px 3px 1px rgba(0, 0, 0, 0.15);\n",
       "      filter: drop-shadow(0px 1px 2px rgba(0, 0, 0, 0.3));\n",
       "      fill: #FFFFFF;\n",
       "    }\n",
       "  </style>\n",
       "\n",
       "    <script>\n",
       "      const buttonEl =\n",
       "        document.querySelector('#df-f039d022-1357-46ed-a4f4-77c38a9944f3 button.colab-df-convert');\n",
       "      buttonEl.style.display =\n",
       "        google.colab.kernel.accessAllowed ? 'block' : 'none';\n",
       "\n",
       "      async function convertToInteractive(key) {\n",
       "        const element = document.querySelector('#df-f039d022-1357-46ed-a4f4-77c38a9944f3');\n",
       "        const dataTable =\n",
       "          await google.colab.kernel.invokeFunction('convertToInteractive',\n",
       "                                                    [key], {});\n",
       "        if (!dataTable) return;\n",
       "\n",
       "        const docLinkHtml = 'Like what you see? Visit the ' +\n",
       "          '<a target=\"_blank\" href=https://colab.research.google.com/notebooks/data_table.ipynb>data table notebook</a>'\n",
       "          + ' to learn more about interactive tables.';\n",
       "        element.innerHTML = '';\n",
       "        dataTable['output_type'] = 'display_data';\n",
       "        await google.colab.output.renderOutput(dataTable, element);\n",
       "        const docLink = document.createElement('div');\n",
       "        docLink.innerHTML = docLinkHtml;\n",
       "        element.appendChild(docLink);\n",
       "      }\n",
       "    </script>\n",
       "  </div>\n",
       "\n",
       "\n",
       "    <div id=\"df-9869f1ad-9cf0-4035-b899-3c6b01c7e078\">\n",
       "      <button class=\"colab-df-quickchart\" onclick=\"quickchart('df-9869f1ad-9cf0-4035-b899-3c6b01c7e078')\"\n",
       "                title=\"Suggest charts\"\n",
       "                style=\"display:none;\">\n",
       "\n",
       "<svg xmlns=\"http://www.w3.org/2000/svg\" height=\"24px\"viewBox=\"0 0 24 24\"\n",
       "     width=\"24px\">\n",
       "    <g>\n",
       "        <path d=\"M19 3H5c-1.1 0-2 .9-2 2v14c0 1.1.9 2 2 2h14c1.1 0 2-.9 2-2V5c0-1.1-.9-2-2-2zM9 17H7v-7h2v7zm4 0h-2V7h2v10zm4 0h-2v-4h2v4z\"/>\n",
       "    </g>\n",
       "</svg>\n",
       "      </button>\n",
       "\n",
       "<style>\n",
       "  .colab-df-quickchart {\n",
       "      --bg-color: #E8F0FE;\n",
       "      --fill-color: #1967D2;\n",
       "      --hover-bg-color: #E2EBFA;\n",
       "      --hover-fill-color: #174EA6;\n",
       "      --disabled-fill-color: #AAA;\n",
       "      --disabled-bg-color: #DDD;\n",
       "  }\n",
       "\n",
       "  [theme=dark] .colab-df-quickchart {\n",
       "      --bg-color: #3B4455;\n",
       "      --fill-color: #D2E3FC;\n",
       "      --hover-bg-color: #434B5C;\n",
       "      --hover-fill-color: #FFFFFF;\n",
       "      --disabled-bg-color: #3B4455;\n",
       "      --disabled-fill-color: #666;\n",
       "  }\n",
       "\n",
       "  .colab-df-quickchart {\n",
       "    background-color: var(--bg-color);\n",
       "    border: none;\n",
       "    border-radius: 50%;\n",
       "    cursor: pointer;\n",
       "    display: none;\n",
       "    fill: var(--fill-color);\n",
       "    height: 32px;\n",
       "    padding: 0;\n",
       "    width: 32px;\n",
       "  }\n",
       "\n",
       "  .colab-df-quickchart:hover {\n",
       "    background-color: var(--hover-bg-color);\n",
       "    box-shadow: 0 1px 2px rgba(60, 64, 67, 0.3), 0 1px 3px 1px rgba(60, 64, 67, 0.15);\n",
       "    fill: var(--button-hover-fill-color);\n",
       "  }\n",
       "\n",
       "  .colab-df-quickchart-complete:disabled,\n",
       "  .colab-df-quickchart-complete:disabled:hover {\n",
       "    background-color: var(--disabled-bg-color);\n",
       "    fill: var(--disabled-fill-color);\n",
       "    box-shadow: none;\n",
       "  }\n",
       "\n",
       "  .colab-df-spinner {\n",
       "    border: 2px solid var(--fill-color);\n",
       "    border-color: transparent;\n",
       "    border-bottom-color: var(--fill-color);\n",
       "    animation:\n",
       "      spin 1s steps(1) infinite;\n",
       "  }\n",
       "\n",
       "  @keyframes spin {\n",
       "    0% {\n",
       "      border-color: transparent;\n",
       "      border-bottom-color: var(--fill-color);\n",
       "      border-left-color: var(--fill-color);\n",
       "    }\n",
       "    20% {\n",
       "      border-color: transparent;\n",
       "      border-left-color: var(--fill-color);\n",
       "      border-top-color: var(--fill-color);\n",
       "    }\n",
       "    30% {\n",
       "      border-color: transparent;\n",
       "      border-left-color: var(--fill-color);\n",
       "      border-top-color: var(--fill-color);\n",
       "      border-right-color: var(--fill-color);\n",
       "    }\n",
       "    40% {\n",
       "      border-color: transparent;\n",
       "      border-right-color: var(--fill-color);\n",
       "      border-top-color: var(--fill-color);\n",
       "    }\n",
       "    60% {\n",
       "      border-color: transparent;\n",
       "      border-right-color: var(--fill-color);\n",
       "    }\n",
       "    80% {\n",
       "      border-color: transparent;\n",
       "      border-right-color: var(--fill-color);\n",
       "      border-bottom-color: var(--fill-color);\n",
       "    }\n",
       "    90% {\n",
       "      border-color: transparent;\n",
       "      border-bottom-color: var(--fill-color);\n",
       "    }\n",
       "  }\n",
       "</style>\n",
       "\n",
       "      <script>\n",
       "        async function quickchart(key) {\n",
       "          const quickchartButtonEl =\n",
       "            document.querySelector('#' + key + ' button');\n",
       "          quickchartButtonEl.disabled = true;  // To prevent multiple clicks.\n",
       "          quickchartButtonEl.classList.add('colab-df-spinner');\n",
       "          try {\n",
       "            const charts = await google.colab.kernel.invokeFunction(\n",
       "                'suggestCharts', [key], {});\n",
       "          } catch (error) {\n",
       "            console.error('Error during call to suggestCharts:', error);\n",
       "          }\n",
       "          quickchartButtonEl.classList.remove('colab-df-spinner');\n",
       "          quickchartButtonEl.classList.add('colab-df-quickchart-complete');\n",
       "        }\n",
       "        (() => {\n",
       "          let quickchartButtonEl =\n",
       "            document.querySelector('#df-9869f1ad-9cf0-4035-b899-3c6b01c7e078 button');\n",
       "          quickchartButtonEl.style.display =\n",
       "            google.colab.kernel.accessAllowed ? 'block' : 'none';\n",
       "        })();\n",
       "      </script>\n",
       "    </div>\n",
       "\n",
       "    </div>\n",
       "  </div>\n"
      ],
      "text/plain": [
       "             ALink                            SName  \\\n",
       "0  /ivete-sangalo/                            Arerê   \n",
       "1  /ivete-sangalo/  Se Eu Não Te Amasse Tanto Assim   \n",
       "2  /ivete-sangalo/                      Céu da Boca   \n",
       "3  /ivete-sangalo/            Quando A Chuva Passar   \n",
       "4  /ivete-sangalo/                     Sorte Grande   \n",
       "\n",
       "                                               SLink  \\\n",
       "0                          /ivete-sangalo/arere.html   \n",
       "1  /ivete-sangalo/se-eu-nao-te-amasse-tanto-assim...   \n",
       "2                     /ivete-sangalo/chupa-toda.html   \n",
       "3          /ivete-sangalo/quando-a-chuva-passar.html   \n",
       "4                   /ivete-sangalo/sorte-grande.html   \n",
       "\n",
       "                                               Lyric language  \n",
       "0  Tudo o que eu quero nessa vida,\\nToda vida, é\\...       pt  \n",
       "1  Meu coração\\nSem direção\\nVoando só por voar\\n...       pt  \n",
       "2  É de babaixá!\\nÉ de balacubaca!\\nÉ de babaixá!...       pt  \n",
       "3  Quando a chuva passar\\n\\nPra quê falar\\nSe voc...       pt  \n",
       "4  A minha sorte grande foi você cair do céu\\nMin...       pt  "
      ]
     },
     "execution_count": 2,
     "metadata": {},
     "output_type": "execute_result"
    }
   ],
   "source": [
    "import pandas as pd\n",
    "\n",
    "file_name = 'lyrics-data.csv'\n",
    "complete_route = path + '/' + file_name\n",
    "df = pd.read_csv(complete_route)\n",
    "df.head()"
   ]
  },
  {
   "cell_type": "markdown",
   "id": "393e3573",
   "metadata": {
    "id": "393e3573"
   },
   "source": [
    "Verificar los lenguajes disponibles en el dataset"
   ]
  },
  {
   "cell_type": "code",
   "execution_count": 3,
   "id": "2c9919da",
   "metadata": {
    "colab": {
     "base_uri": "https://localhost:8080/"
    },
    "executionInfo": {
     "elapsed": 65,
     "status": "ok",
     "timestamp": 1758386845723,
     "user": {
      "displayName": "Bogdan Rivera",
      "userId": "14413786958457035933"
     },
     "user_tz": 360
    },
    "id": "2c9919da",
    "outputId": "116a43a2-0c57-4c9d-bcf0-125f789acb21"
   },
   "outputs": [
    {
     "name": "stdout",
     "output_type": "stream",
     "text": [
      "Lenguajes disponibles:  ['pt' 'es' 'en' nan 'it' 'gl' 'fr' 'de' 'tl' 'et' 'fi' 'pl' 'da' 'st' 'sv'\n",
      " 'ro' 'af' 'no' 'eu' 'rw' 'sw' 'ga' 'cy' 'ca' 'ny' 'ko' 'ar' 'gd' 'tr'\n",
      " 'id' 'su' 'lg' 'ru' 'nl' 'sq' 'is' 'cs' 'jw' 'lv' 'hu' 'ms' 'ku' 'zh'\n",
      " 'hr' 'ht' 'fa' 'mg' 'vi' 'ja' 'hmn' 'sr' 'iw' 'sl']\n"
     ]
    }
   ],
   "source": [
    "languages = df['language'].unique()\n",
    "print(\"Lenguajes disponibles: \",languages)"
   ]
  },
  {
   "cell_type": "markdown",
   "id": "0603f16e",
   "metadata": {
    "id": "0603f16e"
   },
   "source": [
    "En este proyecto únicamente se realizarán predicciones en inglés. Debido a las restricciones de memoria, se limita únicamente a 2000 canciones. "
   ]
  },
  {
   "cell_type": "code",
   "execution_count": 4,
   "id": "5abac3cf",
   "metadata": {
    "colab": {
     "base_uri": "https://localhost:8080/",
     "height": 397
    },
    "executionInfo": {
     "elapsed": 69,
     "status": "ok",
     "timestamp": 1758386845892,
     "user": {
      "displayName": "Bogdan Rivera",
      "userId": "14413786958457035933"
     },
     "user_tz": 360
    },
    "id": "5abac3cf",
    "outputId": "1631ced6-3ef5-4941-b018-d77aa966c295"
   },
   "outputs": [
    {
     "name": "stdout",
     "output_type": "stream",
     "text": [
      "Longitud del dataset:  2000\n"
     ]
    },
    {
     "data": {
      "application/vnd.google.colaboratory.intrinsic+json": {
       "summary": "{\n  \"name\": \"df_en\",\n  \"rows\": 2000,\n  \"fields\": [\n    {\n      \"column\": \"ALink\",\n      \"properties\": {\n        \"dtype\": \"category\",\n        \"num_unique_values\": 19,\n        \"samples\": [\n          \"/ivete-sangalo/\",\n          \"/jammil-e-uma-noites/\",\n          \"/bruno-mars/\"\n        ],\n        \"semantic_type\": \"\",\n        \"description\": \"\"\n      }\n    },\n    {\n      \"column\": \"SName\",\n      \"properties\": {\n        \"dtype\": \"string\",\n        \"num_unique_values\": 1967,\n        \"samples\": [\n          \"Hold Me Down\",\n          \"Scream (feat. Janet Jackson)\",\n          \"Drunk In Love (Feat. Kanye West, Jay Z) (Remix)\"\n        ],\n        \"semantic_type\": \"\",\n        \"description\": \"\"\n      }\n    },\n    {\n      \"column\": \"SLink\",\n      \"properties\": {\n        \"dtype\": \"string\",\n        \"num_unique_values\": 2000,\n        \"samples\": [\n          \"/black-eyed-peas/dopeness-feat-cl.html\",\n          \"/bruno-mars/i-think-of-you.html\",\n          \"/michael-jackson/a-place-with-no-name-original-version.html\"\n        ],\n        \"semantic_type\": \"\",\n        \"description\": \"\"\n      }\n    },\n    {\n      \"column\": \"Lyric\",\n      \"properties\": {\n        \"dtype\": \"string\",\n        \"num_unique_values\": 1996,\n        \"samples\": [\n          \"[50 Cent Chorus]\\nI'll Whip Your Head Boy, you know i will\\nI'll Whip Your Head Boy, with the back of the steal\\nI'll Whip Your Head Boy, you'll get your cap pealed\\nI'll Whip Your Head Boy, your ass could get killed\\n\\nI'll Whip Your Head Boy, you know i will\\nI'll Whip Your Head Boy, with the back of the steal\\nI'll Whip Your Head Boy, you'll get your cap pealed\\nI'll Whip Your Head Boy, your ass could get killed\\n\\n[50 Cent Verse]\\n2 niggaz in the front, 2 niggaz in the back\\nThats 4 niggaz ridin' strapped in grandpa's Cadillac\\nThe voice in my head say fuck all these niggaz\\nThen i start thinkin', i should rob all these niggaz\\nMan my homies then wan' do whateva i wan' do\\nI say i wan' eat they say shit we wan' eat to\\nLets ride around\\nfind a nigga stuntin' on front street\\nWith the shine's on niggaz be lookin' like lunch meat\\nI run up on a nigga, pop one on the floor\\nTell um come up off that shit\\n'fore we start poppin' some more\\nFuck a ski mask, man niggaz know who i iz\\nI got a full clip and niggaz know i get biz\\n\\n[50 Cent Chorus]\\nI'll Whip Your Head Boy, you know i will\\nI'll Whip Your Head Boy, with the back of the steal\\nI'll Whip Your Head Boy, you'll get your cap pealed\\nI'll Whip Your Head Boy, your ass could get killed\\n\\nI'll Whip Your Head Boy, you know i will\\nI'll Whip Your Head Boy, with the back of the steal\\nI'll Whip Your Head Boy, you'll get your cap pealed\\nI'll Whip Your Head Boy, your ass could get killed\\n\\n[50 Cent Verse]\\nI'm up early in the mornin', tryna make a movie\\nCome in here with me shorty take your lil' on the school\\nEven though she cause the drama\\nyou love your baby momma\\nI hit her with the llama to get this kick\\nThere is the coke, the cash, the combo and the safe\\nBut she don't know it, damn, ok go away\\nI play with your kid on the couch\\nwhile your bitch on the phone\\nPut a gun to her head\\nsayin' daddy come home\\nYou was rollin' poppin' bubbly\\ndidn't think it get ugly\\nIn the hood shit is lovely until it go bad\\nNow you can pray for a miracle\\nand God might be hearin' you\\nWhen i'm not in the jam, i write in my hand\\n\\n[50 Cent Chorus]\\nI'll Whip Your Head Boy, you know i will\\nI'll Whip Your Head Boy, with the back of the steal\\nI'll Whip Your Head Boy, you'll get your cap pealed\\nI'll Whip Your Head Boy, your ass could get killed\\n\\nI'll Whip Your Head Boy, you know i will\\nI'll Whip Your Head Boy, with the back of the steal\\nI'll Whip Your Head Boy, you'll get your cap pealed\\nI'll Whip Your Head Boy, your ass could get killed\\n\\n[Young Buck Verse]\\nI got, its homies screamin' Buck you need to calm down\\nNiggaz be gettin' killed everytime you come around\\nWe ran up in his crib made his momma kiss the ground\\nShe askin' God\\nwhat my baby dunn did now?\\nIm takin' everythang, jewellry i want it all\\nDuck tape him up, rip the phone cords out the wall\\nFuck waitin' we can startin' waitin' on tomorrow\\nSo ask Satan\\nif he got a car that i can borrow\\nIm inpatient\\nlike a money hungry rap star\\nI jack him for his chain and i can get a new Jaguar\\nThe mack i have his brains all over the fuckin' sidewalk\\nAnd i'ma be on CNN again it ain't my fault\\nMarch nigga steff, right nigga lef'\\nG-Unit soldier i'm thuggin' till my death\\n\\n[50 Cent Chorus]\\nI'll Whip Your Head Boy, you know i will\\nI'll Whip Your Head Boy, with the back of the steal\\nI'll Whip Your Head Boy, you'll get your cap pealed\\nI'll Whip Your Head Boy, your ass could get killed\\n\\nI'll Whip Your Head Boy, you know i will\\nI'll Whip Your Head Boy, with the back of the steal\\nI'll Whip Your Head Boy, you'll get your cap pealed\\nI'll Whip Your Head Boy, your ass could get killed\",\n          \"Yea. Come on. Timbo! A. Keys,\\nLet\\u2019s go!\\nLet me tell you something\\nTell you how I feel\\nWhen he comes around\\nI get to feelin ill\\nIt\\u2019s a achy feelin inside my chest\\nIt\\u2019s like I\\u2019m going into cardiac arrest\\n\\nCHORUS:\\nAdrenaline rushing in my body\\nAll my power I just can\\u2019t fight it\\nNo matter how I keep on tryin\\u2019\\nI can\\u2019t deny I got this...heartburn (repeat under)\\nBurnin in my soul\\nCall the fire department\\nIt\\u2019s out of control\\n\\nGot me trippin\\u2019, slippin\\u2019, getting\\u2019 beside myself\\nI tried some medication but don\\u2019t nothin help\\nSo I said \\\"Docta, Docta, tell me will I die?\\\"\\nAnd he said, \\\"Count to 5 Alicia\\\"\\nAnd I\\u2019m goin to be all right, Let\\u2019s go! 1,2,3,4\\n\\nCHORUS:\\nAdrenaline rushing in my body\\nAll my power I just can\\u2019t fight it\\nNo matter how I keep on tryin\\nI can\\u2019t deny I got this...heartburn (repeat under)\\nBurnin in my soul\\nCall the fire department\\nIt\\u2019s out of control\\n\\nTastes so good I can\\u2019t resist\\nGetting harder to digest\\nCan\\u2019t take no more\\nGotta shake it off, and break it down\\nAnd take it to the ground with me now\\nEverybody say OOOOHHHH...\\nDon\\u2019t you know I got this...heartburn (repeat under)\\nBurnin in my soul\\nCall the fire department\\nIt\\u2019s out of control\\nWhat you tryin\\u2019 to do?\\nHeartburn (repeat under)\\nBurnin in my soul\\nCall the fire department\\nIt\\u2019s out of control\\n\\nShake it Shake it Shake it off...go head girl\\nShake it Shake it Shake it off...oohoohooh\\nShake it Shake it Shake it off...go head girl\\nShake it Shake it Shake it off...oohoohooh\\ngo head girl\\noohoohooh\\n\\nBy Abitb\\u00f8l\",\n          \"We are young, we run free\\nStay up late, we don't sleep\\nGot our friends, got the night\\nWe'll be alright\\n\\nTonight you won't be by your self-self\\nJust leave your problems on the shelf-shelf\\nYou won't wanna be nowhere else-else\\nSo let's go, so let's go (we got the club like)\\n\\n(hoo-oo-oo-oo-oo-oo) and all the girls sayin'\\n(hoo-oo-oo-oo-oo-oo) the whole world sayin'\\n(hoo-oo-oo-oo-oo-oo) yeah, yeah, come on let's\\nGet drunk, toast it up, we don't give a fuck\\n\\nWe are young, we run free\\nStay up late, we don't sleep\\nGot our friends, got the night\\nWe'll be alright\\n\\nThrow our hands in the air\\nPretty girls everywhere\\nGot our friends, got the night\\nWe'll be alright\\n\\n(hoo-oo-oo-oo-oo-oo) alright, alright, alright\\n(hoo-oo-oo-oo-oo-oo) ah, ah, ah, ah\\n(hoo-oo-oo-oo-oo-oo) alright, alright, alright\\n(hoo-oo-oo-oo-oo-oo) ah, ah, ah, ah\\n\\nWe walk the streets like we don't care-care\\nOur middle fingers in the air-air\\nSo come and join us if you dare-dare\\nYeah let's go, yeah let's go (we got the club like)\\n\\n(hoo-oo-oo-oo-oo-oo) and all the girls sayin'\\n(hoo-oo-oo-oo-oo-oo) the whole world sayin'\\n(hoo-oo-oo-oo-oo-oo) yeah, yeah, come on let's\\nGet drunk, toast it up, we don't give a fuck\\n\\nWe are young, we run free\\nStay up late, we don't sleep\\nGot our friends, got the night\\nWe'll be alright\\n\\nThrow our hands in the air\\nPretty girls everywhere\\nGot our friends, got the night\\nWe'll be alright\\n\\nIt feels like, ahh-ah-ah-ah-ah\\n(it feels good, don't it?) ahh-ah-ah-ah-ah\\n(yo, yo, yeah, d-don't it?) yeah, yeah, yeah, yeah, yeah\\n(yeah) we'll be alright (ahh!)\\n\\nIt feels like, ahh-ah-ah-ah-ah\\n(it feels good, don't it?) ahh-ah-ah-ah-ah\\n(yo, yo, yeah, d-don't it?) yeah, yeah, yeah, yeah, yeah\\n(yeah) we'll be alright (uh-huh, ha-ha)\\n\\nWe are young, we run free\\nStay up late, we don't sleep\\nGot our friends, got the night\\nWe'll be alright\\n\\nThrow our hands in the air\\n(ahh-ah-ah-ah-ah)\\nPretty girls everywhere\\n(ahh-ah-ah-ah-ah)\\nGot our friends, got the night\\n(yeah, yeah, yeah, yeah, yeah)\\nWe'll be alright\"\n        ],\n        \"semantic_type\": \"\",\n        \"description\": \"\"\n      }\n    },\n    {\n      \"column\": \"language\",\n      \"properties\": {\n        \"dtype\": \"category\",\n        \"num_unique_values\": 1,\n        \"samples\": [\n          \"en\"\n        ],\n        \"semantic_type\": \"\",\n        \"description\": \"\"\n      }\n    }\n  ]\n}",
       "type": "dataframe",
       "variable_name": "df_en"
      },
      "text/html": [
       "\n",
       "  <div id=\"df-69a1638e-d9b2-49d9-b42d-1c132dd6ff59\" class=\"colab-df-container\">\n",
       "    <div>\n",
       "<style scoped>\n",
       "    .dataframe tbody tr th:only-of-type {\n",
       "        vertical-align: middle;\n",
       "    }\n",
       "\n",
       "    .dataframe tbody tr th {\n",
       "        vertical-align: top;\n",
       "    }\n",
       "\n",
       "    .dataframe thead th {\n",
       "        text-align: right;\n",
       "    }\n",
       "</style>\n",
       "<table border=\"1\" class=\"dataframe\">\n",
       "  <thead>\n",
       "    <tr style=\"text-align: right;\">\n",
       "      <th></th>\n",
       "      <th>ALink</th>\n",
       "      <th>SName</th>\n",
       "      <th>SLink</th>\n",
       "      <th>Lyric</th>\n",
       "      <th>language</th>\n",
       "    </tr>\n",
       "  </thead>\n",
       "  <tbody>\n",
       "    <tr>\n",
       "      <th>69</th>\n",
       "      <td>/ivete-sangalo/</td>\n",
       "      <td>Careless Whisper</td>\n",
       "      <td>/ivete-sangalo/careless-whisper.html</td>\n",
       "      <td>I feel so unsure\\nAs I take your hand and lead...</td>\n",
       "      <td>en</td>\n",
       "    </tr>\n",
       "    <tr>\n",
       "      <th>86</th>\n",
       "      <td>/ivete-sangalo/</td>\n",
       "      <td>Could You Be Loved / Citação Musical do Rap: S...</td>\n",
       "      <td>/ivete-sangalo/could-you-be-loved-citacao-musi...</td>\n",
       "      <td>Don't let them fool, ya\\nOr even try to school...</td>\n",
       "      <td>en</td>\n",
       "    </tr>\n",
       "    <tr>\n",
       "      <th>88</th>\n",
       "      <td>/ivete-sangalo/</td>\n",
       "      <td>Cruisin' (Part. Saulo)</td>\n",
       "      <td>/ivete-sangalo/cruisin-part-saulo.html</td>\n",
       "      <td>Baby, let's cruise, away from here\\nDon't be c...</td>\n",
       "      <td>en</td>\n",
       "    </tr>\n",
       "    <tr>\n",
       "      <th>111</th>\n",
       "      <td>/ivete-sangalo/</td>\n",
       "      <td>Easy</td>\n",
       "      <td>/ivete-sangalo/easy.html</td>\n",
       "      <td>Know it sounds funny\\nBut, I just can't stand ...</td>\n",
       "      <td>en</td>\n",
       "    </tr>\n",
       "    <tr>\n",
       "      <th>140</th>\n",
       "      <td>/ivete-sangalo/</td>\n",
       "      <td>For Your Babies (The Voice cover)</td>\n",
       "      <td>/ivete-sangalo/for-your-babies-the-voice-cover...</td>\n",
       "      <td>You've got that look again\\nThe one I hoped I ...</td>\n",
       "      <td>en</td>\n",
       "    </tr>\n",
       "  </tbody>\n",
       "</table>\n",
       "</div>\n",
       "    <div class=\"colab-df-buttons\">\n",
       "\n",
       "  <div class=\"colab-df-container\">\n",
       "    <button class=\"colab-df-convert\" onclick=\"convertToInteractive('df-69a1638e-d9b2-49d9-b42d-1c132dd6ff59')\"\n",
       "            title=\"Convert this dataframe to an interactive table.\"\n",
       "            style=\"display:none;\">\n",
       "\n",
       "  <svg xmlns=\"http://www.w3.org/2000/svg\" height=\"24px\" viewBox=\"0 -960 960 960\">\n",
       "    <path d=\"M120-120v-720h720v720H120Zm60-500h600v-160H180v160Zm220 220h160v-160H400v160Zm0 220h160v-160H400v160ZM180-400h160v-160H180v160Zm440 0h160v-160H620v160ZM180-180h160v-160H180v160Zm440 0h160v-160H620v160Z\"/>\n",
       "  </svg>\n",
       "    </button>\n",
       "\n",
       "  <style>\n",
       "    .colab-df-container {\n",
       "      display:flex;\n",
       "      gap: 12px;\n",
       "    }\n",
       "\n",
       "    .colab-df-convert {\n",
       "      background-color: #E8F0FE;\n",
       "      border: none;\n",
       "      border-radius: 50%;\n",
       "      cursor: pointer;\n",
       "      display: none;\n",
       "      fill: #1967D2;\n",
       "      height: 32px;\n",
       "      padding: 0 0 0 0;\n",
       "      width: 32px;\n",
       "    }\n",
       "\n",
       "    .colab-df-convert:hover {\n",
       "      background-color: #E2EBFA;\n",
       "      box-shadow: 0px 1px 2px rgba(60, 64, 67, 0.3), 0px 1px 3px 1px rgba(60, 64, 67, 0.15);\n",
       "      fill: #174EA6;\n",
       "    }\n",
       "\n",
       "    .colab-df-buttons div {\n",
       "      margin-bottom: 4px;\n",
       "    }\n",
       "\n",
       "    [theme=dark] .colab-df-convert {\n",
       "      background-color: #3B4455;\n",
       "      fill: #D2E3FC;\n",
       "    }\n",
       "\n",
       "    [theme=dark] .colab-df-convert:hover {\n",
       "      background-color: #434B5C;\n",
       "      box-shadow: 0px 1px 3px 1px rgba(0, 0, 0, 0.15);\n",
       "      filter: drop-shadow(0px 1px 2px rgba(0, 0, 0, 0.3));\n",
       "      fill: #FFFFFF;\n",
       "    }\n",
       "  </style>\n",
       "\n",
       "    <script>\n",
       "      const buttonEl =\n",
       "        document.querySelector('#df-69a1638e-d9b2-49d9-b42d-1c132dd6ff59 button.colab-df-convert');\n",
       "      buttonEl.style.display =\n",
       "        google.colab.kernel.accessAllowed ? 'block' : 'none';\n",
       "\n",
       "      async function convertToInteractive(key) {\n",
       "        const element = document.querySelector('#df-69a1638e-d9b2-49d9-b42d-1c132dd6ff59');\n",
       "        const dataTable =\n",
       "          await google.colab.kernel.invokeFunction('convertToInteractive',\n",
       "                                                    [key], {});\n",
       "        if (!dataTable) return;\n",
       "\n",
       "        const docLinkHtml = 'Like what you see? Visit the ' +\n",
       "          '<a target=\"_blank\" href=https://colab.research.google.com/notebooks/data_table.ipynb>data table notebook</a>'\n",
       "          + ' to learn more about interactive tables.';\n",
       "        element.innerHTML = '';\n",
       "        dataTable['output_type'] = 'display_data';\n",
       "        await google.colab.output.renderOutput(dataTable, element);\n",
       "        const docLink = document.createElement('div');\n",
       "        docLink.innerHTML = docLinkHtml;\n",
       "        element.appendChild(docLink);\n",
       "      }\n",
       "    </script>\n",
       "  </div>\n",
       "\n",
       "\n",
       "    <div id=\"df-7298780d-1527-441d-90fb-6622b3b77d07\">\n",
       "      <button class=\"colab-df-quickchart\" onclick=\"quickchart('df-7298780d-1527-441d-90fb-6622b3b77d07')\"\n",
       "                title=\"Suggest charts\"\n",
       "                style=\"display:none;\">\n",
       "\n",
       "<svg xmlns=\"http://www.w3.org/2000/svg\" height=\"24px\"viewBox=\"0 0 24 24\"\n",
       "     width=\"24px\">\n",
       "    <g>\n",
       "        <path d=\"M19 3H5c-1.1 0-2 .9-2 2v14c0 1.1.9 2 2 2h14c1.1 0 2-.9 2-2V5c0-1.1-.9-2-2-2zM9 17H7v-7h2v7zm4 0h-2V7h2v10zm4 0h-2v-4h2v4z\"/>\n",
       "    </g>\n",
       "</svg>\n",
       "      </button>\n",
       "\n",
       "<style>\n",
       "  .colab-df-quickchart {\n",
       "      --bg-color: #E8F0FE;\n",
       "      --fill-color: #1967D2;\n",
       "      --hover-bg-color: #E2EBFA;\n",
       "      --hover-fill-color: #174EA6;\n",
       "      --disabled-fill-color: #AAA;\n",
       "      --disabled-bg-color: #DDD;\n",
       "  }\n",
       "\n",
       "  [theme=dark] .colab-df-quickchart {\n",
       "      --bg-color: #3B4455;\n",
       "      --fill-color: #D2E3FC;\n",
       "      --hover-bg-color: #434B5C;\n",
       "      --hover-fill-color: #FFFFFF;\n",
       "      --disabled-bg-color: #3B4455;\n",
       "      --disabled-fill-color: #666;\n",
       "  }\n",
       "\n",
       "  .colab-df-quickchart {\n",
       "    background-color: var(--bg-color);\n",
       "    border: none;\n",
       "    border-radius: 50%;\n",
       "    cursor: pointer;\n",
       "    display: none;\n",
       "    fill: var(--fill-color);\n",
       "    height: 32px;\n",
       "    padding: 0;\n",
       "    width: 32px;\n",
       "  }\n",
       "\n",
       "  .colab-df-quickchart:hover {\n",
       "    background-color: var(--hover-bg-color);\n",
       "    box-shadow: 0 1px 2px rgba(60, 64, 67, 0.3), 0 1px 3px 1px rgba(60, 64, 67, 0.15);\n",
       "    fill: var(--button-hover-fill-color);\n",
       "  }\n",
       "\n",
       "  .colab-df-quickchart-complete:disabled,\n",
       "  .colab-df-quickchart-complete:disabled:hover {\n",
       "    background-color: var(--disabled-bg-color);\n",
       "    fill: var(--disabled-fill-color);\n",
       "    box-shadow: none;\n",
       "  }\n",
       "\n",
       "  .colab-df-spinner {\n",
       "    border: 2px solid var(--fill-color);\n",
       "    border-color: transparent;\n",
       "    border-bottom-color: var(--fill-color);\n",
       "    animation:\n",
       "      spin 1s steps(1) infinite;\n",
       "  }\n",
       "\n",
       "  @keyframes spin {\n",
       "    0% {\n",
       "      border-color: transparent;\n",
       "      border-bottom-color: var(--fill-color);\n",
       "      border-left-color: var(--fill-color);\n",
       "    }\n",
       "    20% {\n",
       "      border-color: transparent;\n",
       "      border-left-color: var(--fill-color);\n",
       "      border-top-color: var(--fill-color);\n",
       "    }\n",
       "    30% {\n",
       "      border-color: transparent;\n",
       "      border-left-color: var(--fill-color);\n",
       "      border-top-color: var(--fill-color);\n",
       "      border-right-color: var(--fill-color);\n",
       "    }\n",
       "    40% {\n",
       "      border-color: transparent;\n",
       "      border-right-color: var(--fill-color);\n",
       "      border-top-color: var(--fill-color);\n",
       "    }\n",
       "    60% {\n",
       "      border-color: transparent;\n",
       "      border-right-color: var(--fill-color);\n",
       "    }\n",
       "    80% {\n",
       "      border-color: transparent;\n",
       "      border-right-color: var(--fill-color);\n",
       "      border-bottom-color: var(--fill-color);\n",
       "    }\n",
       "    90% {\n",
       "      border-color: transparent;\n",
       "      border-bottom-color: var(--fill-color);\n",
       "    }\n",
       "  }\n",
       "</style>\n",
       "\n",
       "      <script>\n",
       "        async function quickchart(key) {\n",
       "          const quickchartButtonEl =\n",
       "            document.querySelector('#' + key + ' button');\n",
       "          quickchartButtonEl.disabled = true;  // To prevent multiple clicks.\n",
       "          quickchartButtonEl.classList.add('colab-df-spinner');\n",
       "          try {\n",
       "            const charts = await google.colab.kernel.invokeFunction(\n",
       "                'suggestCharts', [key], {});\n",
       "          } catch (error) {\n",
       "            console.error('Error during call to suggestCharts:', error);\n",
       "          }\n",
       "          quickchartButtonEl.classList.remove('colab-df-spinner');\n",
       "          quickchartButtonEl.classList.add('colab-df-quickchart-complete');\n",
       "        }\n",
       "        (() => {\n",
       "          let quickchartButtonEl =\n",
       "            document.querySelector('#df-7298780d-1527-441d-90fb-6622b3b77d07 button');\n",
       "          quickchartButtonEl.style.display =\n",
       "            google.colab.kernel.accessAllowed ? 'block' : 'none';\n",
       "        })();\n",
       "      </script>\n",
       "    </div>\n",
       "\n",
       "    </div>\n",
       "  </div>\n"
      ],
      "text/plain": [
       "               ALink                                              SName  \\\n",
       "69   /ivete-sangalo/                                   Careless Whisper   \n",
       "86   /ivete-sangalo/  Could You Be Loved / Citação Musical do Rap: S...   \n",
       "88   /ivete-sangalo/                             Cruisin' (Part. Saulo)   \n",
       "111  /ivete-sangalo/                                               Easy   \n",
       "140  /ivete-sangalo/                  For Your Babies (The Voice cover)   \n",
       "\n",
       "                                                 SLink  \\\n",
       "69                /ivete-sangalo/careless-whisper.html   \n",
       "86   /ivete-sangalo/could-you-be-loved-citacao-musi...   \n",
       "88              /ivete-sangalo/cruisin-part-saulo.html   \n",
       "111                           /ivete-sangalo/easy.html   \n",
       "140  /ivete-sangalo/for-your-babies-the-voice-cover...   \n",
       "\n",
       "                                                 Lyric language  \n",
       "69   I feel so unsure\\nAs I take your hand and lead...       en  \n",
       "86   Don't let them fool, ya\\nOr even try to school...       en  \n",
       "88   Baby, let's cruise, away from here\\nDon't be c...       en  \n",
       "111  Know it sounds funny\\nBut, I just can't stand ...       en  \n",
       "140  You've got that look again\\nThe one I hoped I ...       en  "
      ]
     },
     "execution_count": 4,
     "metadata": {},
     "output_type": "execute_result"
    }
   ],
   "source": [
    "df_en = df[df['language'] == 'en'].head(2000)\n",
    "print(\"Longitud del dataset: \",len(df_en))\n",
    "df_en.head()"
   ]
  },
  {
   "cell_type": "markdown",
   "id": "62c08e80",
   "metadata": {
    "id": "62c08e80"
   },
   "source": [
    "Limpieza de la columna 'Lyric' "
   ]
  },
  {
   "cell_type": "code",
   "execution_count": 5,
   "id": "4odOzpMIAc_g",
   "metadata": {
    "colab": {
     "base_uri": "https://localhost:8080/"
    },
    "executionInfo": {
     "elapsed": 2377,
     "status": "ok",
     "timestamp": 1758386848276,
     "user": {
      "displayName": "Bogdan Rivera",
      "userId": "14413786958457035933"
     },
     "user_tz": 360
    },
    "id": "4odOzpMIAc_g",
    "outputId": "56578a45-e75e-44a3-8555-22344ab9291f"
   },
   "outputs": [
    {
     "name": "stderr",
     "output_type": "stream",
     "text": [
      "[nltk_data] Downloading package punkt_tab to /root/nltk_data...\n",
      "[nltk_data]   Package punkt_tab is already up-to-date!\n"
     ]
    }
   ],
   "source": [
    "import re\n",
    "from nltk.tokenize import word_tokenize\n",
    "import numpy as np\n",
    "import nltk\n",
    "\n",
    "nltk.download('punkt_tab')\n",
    "\n",
    "def preprocessing(text):\n",
    "    if pd.isna(text):\n",
    "        return []\n",
    "\n",
    "    text = str(text).lower()\n",
    "    text = re.sub(r'[^a-zA-Z\\s\\']', ' ', text)\n",
    "    text = re.sub(r'\\s+', ' ', text).strip()\n",
    "\n",
    "    tokens = word_tokenize(text)\n",
    "    return tokens"
   ]
  },
  {
   "cell_type": "code",
   "execution_count": 6,
   "id": "f13b2b76",
   "metadata": {
    "colab": {
     "base_uri": "https://localhost:8080/",
     "height": 241
    },
    "executionInfo": {
     "elapsed": 2677,
     "status": "ok",
     "timestamp": 1758386851019,
     "user": {
      "displayName": "Bogdan Rivera",
      "userId": "14413786958457035933"
     },
     "user_tz": 360
    },
    "id": "f13b2b76",
    "outputId": "41714d85-fb99-4514-831a-d692bbbb961e"
   },
   "outputs": [
    {
     "data": {
      "text/html": [
       "<div>\n",
       "<style scoped>\n",
       "    .dataframe tbody tr th:only-of-type {\n",
       "        vertical-align: middle;\n",
       "    }\n",
       "\n",
       "    .dataframe tbody tr th {\n",
       "        vertical-align: top;\n",
       "    }\n",
       "\n",
       "    .dataframe thead th {\n",
       "        text-align: right;\n",
       "    }\n",
       "</style>\n",
       "<table border=\"1\" class=\"dataframe\">\n",
       "  <thead>\n",
       "    <tr style=\"text-align: right;\">\n",
       "      <th></th>\n",
       "      <th>tokens</th>\n",
       "    </tr>\n",
       "  </thead>\n",
       "  <tbody>\n",
       "    <tr>\n",
       "      <th>69</th>\n",
       "      <td>[i, feel, so, unsure, as, i, take, your, hand,...</td>\n",
       "    </tr>\n",
       "    <tr>\n",
       "      <th>86</th>\n",
       "      <td>[do, n't, let, them, fool, ya, or, even, try, ...</td>\n",
       "    </tr>\n",
       "    <tr>\n",
       "      <th>88</th>\n",
       "      <td>[baby, let, 's, cruise, away, from, here, do, ...</td>\n",
       "    </tr>\n",
       "    <tr>\n",
       "      <th>111</th>\n",
       "      <td>[know, it, sounds, funny, but, i, just, ca, n'...</td>\n",
       "    </tr>\n",
       "    <tr>\n",
       "      <th>140</th>\n",
       "      <td>[you, 've, got, that, look, again, the, one, i...</td>\n",
       "    </tr>\n",
       "  </tbody>\n",
       "</table>\n",
       "</div><br><label><b>dtype:</b> object</label>"
      ],
      "text/plain": [
       "69     [i, feel, so, unsure, as, i, take, your, hand,...\n",
       "86     [do, n't, let, them, fool, ya, or, even, try, ...\n",
       "88     [baby, let, 's, cruise, away, from, here, do, ...\n",
       "111    [know, it, sounds, funny, but, i, just, ca, n'...\n",
       "140    [you, 've, got, that, look, again, the, one, i...\n",
       "Name: tokens, dtype: object"
      ]
     },
     "execution_count": 6,
     "metadata": {},
     "output_type": "execute_result"
    }
   ],
   "source": [
    "df_en['tokens'] = df_en['Lyric'].apply(preprocessing)\n",
    "df_en['tokens'].head()"
   ]
  },
  {
   "cell_type": "markdown",
   "id": "ed5d61c0",
   "metadata": {
    "id": "ed5d61c0"
   },
   "source": [
    "Creación de la ventana de contexto"
   ]
  },
  {
   "cell_type": "code",
   "execution_count": 7,
   "id": "43So78rrAIWR",
   "metadata": {
    "executionInfo": {
     "elapsed": 109,
     "status": "ok",
     "timestamp": 1758386851131,
     "user": {
      "displayName": "Bogdan Rivera",
      "userId": "14413786958457035933"
     },
     "user_tz": 360
    },
    "id": "43So78rrAIWR"
   },
   "outputs": [],
   "source": [
    "WINDOW_SIZE = 5"
   ]
  },
  {
   "cell_type": "code",
   "execution_count": 8,
   "id": "a8802024",
   "metadata": {
    "colab": {
     "base_uri": "https://localhost:8080/"
    },
    "executionInfo": {
     "elapsed": 59,
     "status": "ok",
     "timestamp": 1758386851140,
     "user": {
      "displayName": "Bogdan Rivera",
      "userId": "14413786958457035933"
     },
     "user_tz": 360
    },
    "id": "a8802024",
    "outputId": "6cc27ced-18b7-43f2-b470-4f774247c626"
   },
   "outputs": [
    {
     "name": "stdout",
     "output_type": "stream",
     "text": [
      "Ejemplo de ventana: ['remember', 'those', 'walls', 'i', 'built']\n",
      "Palabra a predecir: well\n"
     ]
    }
   ],
   "source": [
    "# Generar la secuencia de palabras y su predicción\n",
    "def create_windows(tokens, window_size=WINDOW_SIZE):\n",
    "    X = []\n",
    "    y = []\n",
    "    for i in range(len(tokens) - window_size):\n",
    "        window = tokens[i : i + window_size]       # secuencia de contexto\n",
    "        next_word = tokens[i + window_size]        # palabra objetivo\n",
    "        X.append(window)\n",
    "        y.append(next_word)\n",
    "    return X, y\n",
    "\n",
    "\n",
    "sample_tokens = df_en['tokens'].iloc[38] #Ejemplo de la fila 38\n",
    "X, y = create_windows(sample_tokens, WINDOW_SIZE)\n",
    "\n",
    "print(\"Ejemplo de ventana:\", X[0])\n",
    "print(\"Palabra a predecir:\", y[0])\n"
   ]
  },
  {
   "cell_type": "markdown",
   "id": "wxvUkj_b7Jbe",
   "metadata": {
    "id": "wxvUkj_b7Jbe"
   },
   "source": [
    "Aplicación a todo el dataset"
   ]
  },
  {
   "cell_type": "code",
   "execution_count": 9,
   "id": "iFnTKK375V0E",
   "metadata": {
    "colab": {
     "base_uri": "https://localhost:8080/"
    },
    "executionInfo": {
     "elapsed": 1387,
     "status": "ok",
     "timestamp": 1758386852529,
     "user": {
      "displayName": "Bogdan Rivera",
      "userId": "14413786958457035933"
     },
     "user_tz": 360
    },
    "id": "iFnTKK375V0E",
    "outputId": "36e5a3eb-61a0-4b10-be5b-f28c7d7412a4"
   },
   "outputs": [
    {
     "name": "stdout",
     "output_type": "stream",
     "text": [
      "Total de ejemplos creados: 840130\n",
      "Ejemplo: ['of', 'a', 'good', 'friend', 'to'] -> the\n"
     ]
    }
   ],
   "source": [
    "all_X = []\n",
    "all_y = []\n",
    "\n",
    "for tokens in df_en['tokens']:\n",
    "    X, y = create_windows(tokens, WINDOW_SIZE)\n",
    "    all_X.extend(X)\n",
    "    all_y.extend(y)\n",
    "\n",
    "print(\"Total de ejemplos creados:\", len(all_X))\n",
    "print(\"Ejemplo:\", all_X[100], \"->\", all_y[100])\n"
   ]
  },
  {
   "cell_type": "markdown",
   "id": "R2tP-uhF8YTw",
   "metadata": {
    "id": "R2tP-uhF8YTw"
   },
   "source": [
    "Procesamiento de embeddings"
   ]
  },
  {
   "cell_type": "code",
   "execution_count": 10,
   "id": "v7Ox5232AC8q",
   "metadata": {
    "executionInfo": {
     "elapsed": 7667,
     "status": "ok",
     "timestamp": 1758386860198,
     "user": {
      "displayName": "Bogdan Rivera",
      "userId": "14413786958457035933"
     },
     "user_tz": 360
    },
    "id": "v7Ox5232AC8q"
   },
   "outputs": [],
   "source": [
    "from tensorflow.keras.preprocessing.text import Tokenizer\n",
    "from tensorflow.keras.preprocessing.sequence import pad_sequences\n",
    "\n",
    "\n",
    "tokenizer = Tokenizer()"
   ]
  },
  {
   "cell_type": "code",
   "execution_count": null,
   "id": "5Q3aJkIX7OFF",
   "metadata": {
    "colab": {
     "base_uri": "https://localhost:8080/"
    },
    "executionInfo": {
     "elapsed": 19400,
     "status": "ok",
     "timestamp": 1758386879616,
     "user": {
      "displayName": "Bogdan Rivera",
      "userId": "14413786958457035933"
     },
     "user_tz": 360
    },
    "id": "5Q3aJkIX7OFF",
    "outputId": "21c8a8a3-060a-4bc5-d646-1770101c2480"
   },
   "outputs": [
    {
     "name": "stdout",
     "output_type": "stream",
     "text": [
      "X shape: (840125, 5)\n",
      "y shape: (840125,)\n"
     ]
    }
   ],
   "source": [
    "tokenizer.fit_on_texts(all_X + all_y)\n",
    "\n",
    "X_seq = tokenizer.texts_to_sequences(all_X)\n",
    "y_seq = tokenizer.texts_to_sequences(all_y)\n",
    "\n",
    "# Aplanar las secuencias\n",
    "y_seq = np.array([seq[0] for seq in y_seq if len(seq) > 0])\n",
    "X_seq = X_seq[:len(y_seq)]\n",
    "\n",
    "# Asegurar que las secuencias tengan el mismo tamaño\n",
    "X_seq = pad_sequences(X_seq, maxlen=WINDOW_SIZE, padding=\"pre\")\n",
    "\n",
    "print(\"X shape:\", X_seq.shape)\n",
    "print(\"y shape:\", y_seq.shape)\n",
    "\n",
    "\n"
   ]
  },
  {
   "cell_type": "markdown",
   "id": "Nx0jVDN7A--O",
   "metadata": {
    "id": "Nx0jVDN7A--O"
   },
   "source": [
    "Creación del modelo de red neuronal"
   ]
  },
  {
   "cell_type": "code",
   "execution_count": 12,
   "id": "IBqEsVux_ful",
   "metadata": {
    "colab": {
     "base_uri": "https://localhost:8080/",
     "height": 327
    },
    "executionInfo": {
     "elapsed": 216,
     "status": "ok",
     "timestamp": 1758386879816,
     "user": {
      "displayName": "Bogdan Rivera",
      "userId": "14413786958457035933"
     },
     "user_tz": 360
    },
    "id": "IBqEsVux_ful",
    "outputId": "934b8471-41ca-4b78-a622-9fe66336cde7"
   },
   "outputs": [
    {
     "name": "stderr",
     "output_type": "stream",
     "text": [
      "/usr/local/lib/python3.12/dist-packages/keras/src/layers/core/embedding.py:97: UserWarning: Argument `input_length` is deprecated. Just remove it.\n",
      "  warnings.warn(\n"
     ]
    },
    {
     "data": {
      "text/html": [
       "<pre style=\"white-space:pre;overflow-x:auto;line-height:normal;font-family:Menlo,'DejaVu Sans Mono',consolas,'Courier New',monospace\"><span style=\"font-weight: bold\">Model: \"sequential\"</span>\n",
       "</pre>\n"
      ],
      "text/plain": [
       "\u001b[1mModel: \"sequential\"\u001b[0m\n"
      ]
     },
     "metadata": {},
     "output_type": "display_data"
    },
    {
     "data": {
      "text/html": [
       "<pre style=\"white-space:pre;overflow-x:auto;line-height:normal;font-family:Menlo,'DejaVu Sans Mono',consolas,'Courier New',monospace\">┏━━━━━━━━━━━━━━━━━━━━━━━━━━━━━━━━━┳━━━━━━━━━━━━━━━━━━━━━━━━┳━━━━━━━━━━━━━━━┓\n",
       "┃<span style=\"font-weight: bold\"> Layer (type)                    </span>┃<span style=\"font-weight: bold\"> Output Shape           </span>┃<span style=\"font-weight: bold\">       Param # </span>┃\n",
       "┡━━━━━━━━━━━━━━━━━━━━━━━━━━━━━━━━━╇━━━━━━━━━━━━━━━━━━━━━━━━╇━━━━━━━━━━━━━━━┩\n",
       "│ embedding (<span style=\"color: #0087ff; text-decoration-color: #0087ff\">Embedding</span>)           │ ?                      │   <span style=\"color: #00af00; text-decoration-color: #00af00\">0</span> (unbuilt) │\n",
       "├─────────────────────────────────┼────────────────────────┼───────────────┤\n",
       "│ flatten (<span style=\"color: #0087ff; text-decoration-color: #0087ff\">Flatten</span>)               │ ?                      │   <span style=\"color: #00af00; text-decoration-color: #00af00\">0</span> (unbuilt) │\n",
       "├─────────────────────────────────┼────────────────────────┼───────────────┤\n",
       "│ dense (<span style=\"color: #0087ff; text-decoration-color: #0087ff\">Dense</span>)                   │ ?                      │   <span style=\"color: #00af00; text-decoration-color: #00af00\">0</span> (unbuilt) │\n",
       "├─────────────────────────────────┼────────────────────────┼───────────────┤\n",
       "│ dense_1 (<span style=\"color: #0087ff; text-decoration-color: #0087ff\">Dense</span>)                 │ ?                      │   <span style=\"color: #00af00; text-decoration-color: #00af00\">0</span> (unbuilt) │\n",
       "└─────────────────────────────────┴────────────────────────┴───────────────┘\n",
       "</pre>\n"
      ],
      "text/plain": [
       "┏━━━━━━━━━━━━━━━━━━━━━━━━━━━━━━━━━┳━━━━━━━━━━━━━━━━━━━━━━━━┳━━━━━━━━━━━━━━━┓\n",
       "┃\u001b[1m \u001b[0m\u001b[1mLayer (type)                   \u001b[0m\u001b[1m \u001b[0m┃\u001b[1m \u001b[0m\u001b[1mOutput Shape          \u001b[0m\u001b[1m \u001b[0m┃\u001b[1m \u001b[0m\u001b[1m      Param #\u001b[0m\u001b[1m \u001b[0m┃\n",
       "┡━━━━━━━━━━━━━━━━━━━━━━━━━━━━━━━━━╇━━━━━━━━━━━━━━━━━━━━━━━━╇━━━━━━━━━━━━━━━┩\n",
       "│ embedding (\u001b[38;5;33mEmbedding\u001b[0m)           │ ?                      │   \u001b[38;5;34m0\u001b[0m (unbuilt) │\n",
       "├─────────────────────────────────┼────────────────────────┼───────────────┤\n",
       "│ flatten (\u001b[38;5;33mFlatten\u001b[0m)               │ ?                      │   \u001b[38;5;34m0\u001b[0m (unbuilt) │\n",
       "├─────────────────────────────────┼────────────────────────┼───────────────┤\n",
       "│ dense (\u001b[38;5;33mDense\u001b[0m)                   │ ?                      │   \u001b[38;5;34m0\u001b[0m (unbuilt) │\n",
       "├─────────────────────────────────┼────────────────────────┼───────────────┤\n",
       "│ dense_1 (\u001b[38;5;33mDense\u001b[0m)                 │ ?                      │   \u001b[38;5;34m0\u001b[0m (unbuilt) │\n",
       "└─────────────────────────────────┴────────────────────────┴───────────────┘\n"
      ]
     },
     "metadata": {},
     "output_type": "display_data"
    },
    {
     "data": {
      "text/html": [
       "<pre style=\"white-space:pre;overflow-x:auto;line-height:normal;font-family:Menlo,'DejaVu Sans Mono',consolas,'Courier New',monospace\"><span style=\"font-weight: bold\"> Total params: </span><span style=\"color: #00af00; text-decoration-color: #00af00\">0</span> (0.00 B)\n",
       "</pre>\n"
      ],
      "text/plain": [
       "\u001b[1m Total params: \u001b[0m\u001b[38;5;34m0\u001b[0m (0.00 B)\n"
      ]
     },
     "metadata": {},
     "output_type": "display_data"
    },
    {
     "data": {
      "text/html": [
       "<pre style=\"white-space:pre;overflow-x:auto;line-height:normal;font-family:Menlo,'DejaVu Sans Mono',consolas,'Courier New',monospace\"><span style=\"font-weight: bold\"> Trainable params: </span><span style=\"color: #00af00; text-decoration-color: #00af00\">0</span> (0.00 B)\n",
       "</pre>\n"
      ],
      "text/plain": [
       "\u001b[1m Trainable params: \u001b[0m\u001b[38;5;34m0\u001b[0m (0.00 B)\n"
      ]
     },
     "metadata": {},
     "output_type": "display_data"
    },
    {
     "data": {
      "text/html": [
       "<pre style=\"white-space:pre;overflow-x:auto;line-height:normal;font-family:Menlo,'DejaVu Sans Mono',consolas,'Courier New',monospace\"><span style=\"font-weight: bold\"> Non-trainable params: </span><span style=\"color: #00af00; text-decoration-color: #00af00\">0</span> (0.00 B)\n",
       "</pre>\n"
      ],
      "text/plain": [
       "\u001b[1m Non-trainable params: \u001b[0m\u001b[38;5;34m0\u001b[0m (0.00 B)\n"
      ]
     },
     "metadata": {},
     "output_type": "display_data"
    }
   ],
   "source": [
    "import tensorflow as tf\n",
    "from tensorflow.keras.models import Sequential\n",
    "from tensorflow.keras.layers import Embedding, Flatten, Dense\n",
    "\n",
    "VOCAB_SIZE = len(tokenizer.word_index) + 1  # número total de palabras\n",
    "\n",
    "model = Sequential([\n",
    "    Embedding(input_dim=VOCAB_SIZE, output_dim=100, input_length=WINDOW_SIZE),\n",
    "    Flatten(),\n",
    "    Dense(256, activation=\"relu\"),\n",
    "    Dense(VOCAB_SIZE, activation=\"softmax\")\n",
    "])\n",
    "\n",
    "model.compile(loss=\"sparse_categorical_crossentropy\",\n",
    "              optimizer=\"adam\",\n",
    "              metrics=[\"accuracy\"])\n",
    "\n",
    "model.summary()"
   ]
  },
  {
   "cell_type": "markdown",
   "id": "Lghh6sUgUaam",
   "metadata": {
    "id": "Lghh6sUgUaam"
   },
   "source": [
    "Entrenamiento del modelo\n",
    "\n",
    "Para este caso se eligieron 5 épocas, con un tamaño de lote de 256 y para la validación se usó un 20% de los datos. "
   ]
  },
  {
   "cell_type": "code",
   "execution_count": 11,
   "id": "UJsLlsqwUbsU",
   "metadata": {
    "colab": {
     "base_uri": "https://localhost:8080/"
    },
    "executionInfo": {
     "elapsed": 4011701,
     "status": "ok",
     "timestamp": 1758379466184,
     "user": {
      "displayName": "Bogdan Rivera",
      "userId": "14413786958457035933"
     },
     "user_tz": 360
    },
    "id": "UJsLlsqwUbsU",
    "outputId": "6ad52b7a-e8a6-4d32-84e3-3bc6e3949ba3"
   },
   "outputs": [
    {
     "name": "stdout",
     "output_type": "stream",
     "text": [
      "Epoch 1/5\n",
      "\u001b[1m2626/2626\u001b[0m \u001b[32m━━━━━━━━━━━━━━━━━━━━\u001b[0m\u001b[37m\u001b[0m \u001b[1m777s\u001b[0m 295ms/step - accuracy: 0.0619 - loss: 6.4539 - val_accuracy: 0.0442 - val_loss: 6.5919\n",
      "Epoch 2/5\n",
      "\u001b[1m2626/2626\u001b[0m \u001b[32m━━━━━━━━━━━━━━━━━━━━\u001b[0m\u001b[37m\u001b[0m \u001b[1m799s\u001b[0m 294ms/step - accuracy: 0.1236 - loss: 5.5278 - val_accuracy: 0.0451 - val_loss: 6.8211\n",
      "Epoch 3/5\n",
      "\u001b[1m2626/2626\u001b[0m \u001b[32m━━━━━━━━━━━━━━━━━━━━\u001b[0m\u001b[37m\u001b[0m \u001b[1m825s\u001b[0m 303ms/step - accuracy: 0.1753 - loss: 4.9644 - val_accuracy: 0.0419 - val_loss: 7.1470\n",
      "Epoch 4/5\n",
      "\u001b[1m2626/2626\u001b[0m \u001b[32m━━━━━━━━━━━━━━━━━━━━\u001b[0m\u001b[37m\u001b[0m \u001b[1m792s\u001b[0m 299ms/step - accuracy: 0.2275 - loss: 4.4653 - val_accuracy: 0.0395 - val_loss: 7.5839\n",
      "Epoch 5/5\n",
      "\u001b[1m2626/2626\u001b[0m \u001b[32m━━━━━━━━━━━━━━━━━━━━\u001b[0m\u001b[37m\u001b[0m \u001b[1m791s\u001b[0m 295ms/step - accuracy: 0.2779 - loss: 4.0306 - val_accuracy: 0.0366 - val_loss: 8.0689\n"
     ]
    }
   ],
   "source": [
    "history = model.fit(X_seq, y_seq, epochs=5, batch_size=256, validation_split=0.2)"
   ]
  },
  {
   "cell_type": "markdown",
   "id": "7db4d6ef",
   "metadata": {},
   "source": [
    "Gaurdado del modelo entrenado\n",
    "\n",
    "Para evitar nuevamente reentrenar la red, se guarda el modelo junto con el tokenizador. "
   ]
  },
  {
   "cell_type": "code",
   "execution_count": 14,
   "id": "S3kpcDgD52je",
   "metadata": {
    "colab": {
     "base_uri": "https://localhost:8080/"
    },
    "executionInfo": {
     "elapsed": 153,
     "status": "ok",
     "timestamp": 1758386889249,
     "user": {
      "displayName": "Bogdan Rivera",
      "userId": "14413786958457035933"
     },
     "user_tz": 360
    },
    "id": "S3kpcDgD52je",
    "outputId": "3508face-292f-4bf7-e644-baf27c3d51cc"
   },
   "outputs": [
    {
     "name": "stderr",
     "output_type": "stream",
     "text": [
      "WARNING:absl:You are saving your model as an HDF5 file via `model.save()` or `keras.saving.save_model(model)`. This file format is considered legacy. We recommend using instead the native Keras format, e.g. `model.save('my_model.keras')` or `keras.saving.save_model(model, 'my_model.keras')`. \n"
     ]
    }
   ],
   "source": [
    "import pickle\n",
    "# Guardar el modelo entrenado\n",
    "model.save(\"modelo_lyrics.h5\")\n",
    "# Guardar tokenizer\n",
    "with open(\"tokenizer.pkl\", \"wb\") as f:\n",
    "    pickle.dump(tokenizer, f)"
   ]
  },
  {
   "cell_type": "markdown",
   "id": "0adbcdb6",
   "metadata": {},
   "source": [
    "En dado caso de que solamente se quiera hacer uso del modelo se puede ejecutar la siguiente celda de código."
   ]
  },
  {
   "cell_type": "code",
   "execution_count": 15,
   "id": "npqEMCxQ6keQ",
   "metadata": {
    "colab": {
     "base_uri": "https://localhost:8080/"
    },
    "executionInfo": {
     "elapsed": 83,
     "status": "ok",
     "timestamp": 1758386891604,
     "user": {
      "displayName": "Bogdan Rivera",
      "userId": "14413786958457035933"
     },
     "user_tz": 360
    },
    "id": "npqEMCxQ6keQ",
    "outputId": "0f2da833-4db6-4d5e-9f4d-2b8fb2fcc9eb"
   },
   "outputs": [
    {
     "name": "stderr",
     "output_type": "stream",
     "text": [
      "WARNING:absl:Compiled the loaded model, but the compiled metrics have yet to be built. `model.compile_metrics` will be empty until you train or evaluate the model.\n"
     ]
    }
   ],
   "source": [
    "# Cargar el modelo entrenado\n",
    "from tensorflow.keras.models import load_model\n",
    "\n",
    "model = load_model(\"modelo_lyrics.h5\")\n",
    "# Cargar tokenizer\n",
    "with open(\"tokenizer.pkl\", \"rb\") as f:\n",
    "    tokenizer = pickle.load(f)"
   ]
  },
  {
   "cell_type": "markdown",
   "id": "Q9g_tClhVCEk",
   "metadata": {
    "id": "Q9g_tClhVCEk"
   },
   "source": [
    "Función para predecir una frase"
   ]
  },
  {
   "cell_type": "code",
   "execution_count": 16,
   "id": "2wTrGGbABLVA",
   "metadata": {
    "executionInfo": {
     "elapsed": 68,
     "status": "ok",
     "timestamp": 1758386894294,
     "user": {
      "displayName": "Bogdan Rivera",
      "userId": "14413786958457035933"
     },
     "user_tz": 360
    },
    "id": "2wTrGGbABLVA"
   },
   "outputs": [],
   "source": [
    "def predict_next_word(model, tokenizer, text, window_size=5):\n",
    "    tokens = preprocessing(text)\n",
    "\n",
    "    if len(tokens) < window_size:\n",
    "        # si la frase es más corta se rellena\n",
    "        tokens = [\"<pad>\"] * (window_size - len(tokens)) + tokens\n",
    "\n",
    "    # Últimas palabras de la ventana\n",
    "    window = tokens[-window_size:]\n",
    "\n",
    "    seq = tokenizer.texts_to_sequences([window])\n",
    "    seq = pad_sequences(seq, maxlen=window_size, padding=\"pre\")\n",
    "\n",
    "    pred = model.predict(seq, verbose=0)\n",
    "    next_word_id = np.argmax(pred, axis=-1)[0]\n",
    "\n",
    "    # Se convierte el índice en una palabra\n",
    "    for word, idx in tokenizer.word_index.items():\n",
    "        if idx == next_word_id:\n",
    "            return word\n",
    "    return None"
   ]
  },
  {
   "cell_type": "markdown",
   "id": "c73xMLkNVKRx",
   "metadata": {
    "id": "c73xMLkNVKRx"
   },
   "source": [
    "Prueba de predicción"
   ]
  },
  {
   "cell_type": "code",
   "execution_count": 17,
   "id": "07aZVNIoI1-v",
   "metadata": {
    "colab": {
     "base_uri": "https://localhost:8080/"
    },
    "executionInfo": {
     "elapsed": 1534,
     "status": "ok",
     "timestamp": 1758386898279,
     "user": {
      "displayName": "Bogdan Rivera",
      "userId": "14413786958457035933"
     },
     "user_tz": 360
    },
    "id": "07aZVNIoI1-v",
    "outputId": "9f8fc4db-75e6-4fb7-a7cd-a50f7f472e83"
   },
   "outputs": [
    {
     "name": "stdout",
     "output_type": "stream",
     "text": [
      "Texto: I abusin\n",
      "Siguiente palabra predicha: abusin\n",
      "Texto: I abusin homeboy\n",
      "Siguiente palabra predicha: homeboy\n",
      "Texto: I abusin homeboy border\n",
      "Siguiente palabra predicha: border\n",
      "Texto: I abusin homeboy border swizzie\n",
      "Siguiente palabra predicha: swizzie\n",
      "Texto: I abusin homeboy border swizzie royce\n",
      "Siguiente palabra predicha: royce\n",
      "Texto: I abusin homeboy border swizzie royce tower\n",
      "Siguiente palabra predicha: tower\n",
      "Texto: I abusin homeboy border swizzie royce tower ohhhhhhhhhhhhhhh\n",
      "Siguiente palabra predicha: ohhhhhhhhhhhhhhh\n",
      "Texto: I abusin homeboy border swizzie royce tower ohhhhhhhhhhhhhhh climbin\n",
      "Siguiente palabra predicha: climbin\n"
     ]
    }
   ],
   "source": [
    "STRING_LEN = 8\n",
    "text_input = \"I\"\n",
    "for i in range(STRING_LEN):\n",
    "  predicted_word = predict_next_word(model, tokenizer, text_input, WINDOW_SIZE)\n",
    "  text_input += ' ' + predicted_word\n",
    "  print(\"Texto:\", text_input)\n",
    "  print(\"Siguiente palabra predicha:\", predicted_word)"
   ]
  },
  {
   "cell_type": "markdown",
   "id": "5VglMfLE7PqN",
   "metadata": {
    "id": "5VglMfLE7PqN"
   },
   "source": [
    "Evaluación con perplexity en train/test\n",
    "\n",
    "El conjunto de datos siguie siendo muy grande, por lo que hace uso de mucha memoria RAM. \n",
    "Para evitar el uso excesivo de memoria, se calcula la perplejidad por lotes. "
   ]
  },
  {
   "cell_type": "code",
   "execution_count": 19,
   "id": "t_MvoRZpldn0",
   "metadata": {
    "executionInfo": {
     "elapsed": 67,
     "status": "ok",
     "timestamp": 1758386918466,
     "user": {
      "displayName": "Bogdan Rivera",
      "userId": "14413786958457035933"
     },
     "user_tz": 360
    },
    "id": "t_MvoRZpldn0"
   },
   "outputs": [],
   "source": [
    "import numpy as np\n",
    "\n",
    "def compute_perplexity_batch(model, X, y, batch_size=512):\n",
    "    N = len(y)\n",
    "    total_log_prob = 0.0\n",
    "\n",
    "    for i in range(0, N, batch_size):\n",
    "        X_batch = X[i:i+batch_size]\n",
    "        y_batch = y[i:i+batch_size]\n",
    "        preds = model.predict(X_batch, batch_size=batch_size, verbose=0)\n",
    "\n",
    "        probs = preds[np.arange(len(y_batch)), y_batch]\n",
    "\n",
    "        probs = np.where(probs > 0, probs, 1e-10)\n",
    "\n",
    "        total_log_prob += np.log(probs).sum()\n",
    "\n",
    "    ppl = np.exp(- total_log_prob / N)\n",
    "    return ppl\n"
   ]
  },
  {
   "cell_type": "code",
   "execution_count": 20,
   "id": "bwkFuyrf_NqA",
   "metadata": {
    "colab": {
     "base_uri": "https://localhost:8080/"
    },
    "executionInfo": {
     "elapsed": 500122,
     "status": "ok",
     "timestamp": 1758387443231,
     "user": {
      "displayName": "Bogdan Rivera",
      "userId": "14413786958457035933"
     },
     "user_tz": 360
    },
    "id": "bwkFuyrf_NqA",
    "outputId": "6a998a1c-cebc-4ed0-d124-885a55c694a9"
   },
   "outputs": [
    {
     "name": "stdout",
     "output_type": "stream",
     "text": [
      "Train PPL: 18461.53\n",
      "Validation PPL: 18461.87\n"
     ]
    }
   ],
   "source": [
    "split = int(len(X_seq) * 0.8)\n",
    "X_train, X_val = X_seq[:split], X_seq[split:]\n",
    "y_train, y_val = y_seq[:split], y_seq[split:]\n",
    "\n",
    "train_ppl = compute_perplexity_batch(model, X_train, y_train, batch_size=512)\n",
    "val_ppl = compute_perplexity_batch(model, X_val, y_val, batch_size=512)\n",
    "\n",
    "print(f\"Train PPL: {train_ppl:.2f}\")\n",
    "print(f\"Validation PPL: {val_ppl:.2f}\")\n"
   ]
  },
  {
   "cell_type": "markdown",
   "id": "dab53dec",
   "metadata": {},
   "source": [
    "## Conclusión \n",
    "\n",
    "Los resultados obtenidos en el cálculo de la perplejidad son considerablemente altos, lo que indica que el modelo está realizando predicciones poco precisas, esencialmente \"adivinando\" la siguiente palabra. Este comportamiento puede atribuirse a diversos factores, entre ellos la simplicidad de la arquitectura utilizada: Embedding → Flatten → Dense. \n",
    "\n",
    "Para mejorar el rendimiento, sería recomendable sustituir la capa densa por una capa recurrente, como LSTM o GRU.\n",
    "Además, el número de épocas de entrenamiento fue limitado, lo cual influye en la capacidad del modelo para aprender patrones complejos. Un mayor número de épocas podría mejorar los resultados, aunque implicaría un incremento en el tiempo de cómputo y en el uso de recursos.\n",
    "\n",
    "\n",
    "A pesar de sus limitaciones, esta práctica matiene las bases de los principios fundamentales de la predicción de texto, y permite realizar comparaciones con enfoques tradicionales como TF-IDF y la similitud por coseno.\n"
   ]
  }
 ],
 "metadata": {
  "colab": {
   "provenance": []
  },
  "kernelspec": {
   "display_name": "pln",
   "language": "python",
   "name": "python3"
  },
  "language_info": {
   "codemirror_mode": {
    "name": "ipython",
    "version": 3
   },
   "file_extension": ".py",
   "mimetype": "text/x-python",
   "name": "python",
   "nbconvert_exporter": "python",
   "pygments_lexer": "ipython3",
   "version": "3.10.18"
  }
 },
 "nbformat": 4,
 "nbformat_minor": 5
}

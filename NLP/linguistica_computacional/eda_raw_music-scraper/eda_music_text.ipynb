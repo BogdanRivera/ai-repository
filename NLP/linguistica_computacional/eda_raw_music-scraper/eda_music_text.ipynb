{
 "cells": [
  {
   "cell_type": "markdown",
   "id": "b4db3b01",
   "metadata": {},
   "source": [
    "# EDA songs \n",
    "## Bogdan Kaleb García Rivera\n",
    "\n",
    "Este proyecto tiene como finalidad mostrar un proceso EDA aplicado a un conjunto de canciones obtenidas a través de webscraping"
   ]
  },
  {
   "cell_type": "code",
   "execution_count": 103,
   "id": "ebc0e0ea",
   "metadata": {},
   "outputs": [],
   "source": [
    "import pandas as pd"
   ]
  },
  {
   "cell_type": "code",
   "execution_count": 104,
   "id": "4a753258",
   "metadata": {},
   "outputs": [],
   "source": [
    "import json\n",
    "\n",
    "def convert_json(archivo_entrada, archivo_salida, indent=4):\n",
    "    \"\"\"\n",
    "    El archivo JSON no se encuentra en un formato válido que pandas\n",
    "    pueda leer, por lo que esta función realiza la conversión del formato \n",
    "    JSON (no modifica en nada su contenido)\n",
    "    \"\"\"\n",
    "    try:\n",
    "        with open(archivo_entrada, 'r', encoding='utf-8') as f:\n",
    "            lines = [line.strip() for line in f if line.strip()]\n",
    "\n",
    "        # Convierte cada linea\n",
    "        datos = [json.loads(line) for line in lines]\n",
    "\n",
    "        with open(archivo_salida, 'w', encoding='utf-8') as f:\n",
    "            json.dump(datos, f, ensure_ascii=False, indent=indent)\n",
    "\n",
    "        print(f\"¡Archivo convertido con éxito! Guardado en: {archivo_salida}\")\n",
    "        return True\n",
    "\n",
    "    except json.JSONDecodeError as e:\n",
    "        print(f\"Error al decodificar JSON en línea: {e}\")\n",
    "        return False\n",
    "    except Exception as e:\n",
    "        print(f\"Error inesperado: {e}\")\n",
    "        return False"
   ]
  },
  {
   "cell_type": "code",
   "execution_count": 105,
   "id": "cc62d0fc",
   "metadata": {},
   "outputs": [
    {
     "name": "stdout",
     "output_type": "stream",
     "text": [
      "¡Archivo convertido con éxito! Guardado en: songs_fixed.json\n"
     ]
    },
    {
     "data": {
      "text/plain": [
       "True"
      ]
     },
     "execution_count": 105,
     "metadata": {},
     "output_type": "execute_result"
    }
   ],
   "source": [
    "convert_json(\n",
    "    archivo_entrada='songs.json',\n",
    "    archivo_salida='songs_fixed.json',\n",
    "    indent=2 \n",
    ")"
   ]
  },
  {
   "cell_type": "code",
   "execution_count": 106,
   "id": "e7f5a2c3",
   "metadata": {},
   "outputs": [
    {
     "name": "stdout",
     "output_type": "stream",
     "text": [
      "Columnas del dataset:  Index(['song_name', 'artist_name', 'album_name', 'lyrics', 'release_date',\n",
      "       'producers', 'tags'],\n",
      "      dtype='object')\n"
     ]
    },
    {
     "data": {
      "text/html": [
       "<div>\n",
       "<style scoped>\n",
       "    .dataframe tbody tr th:only-of-type {\n",
       "        vertical-align: middle;\n",
       "    }\n",
       "\n",
       "    .dataframe tbody tr th {\n",
       "        vertical-align: top;\n",
       "    }\n",
       "\n",
       "    .dataframe thead th {\n",
       "        text-align: right;\n",
       "    }\n",
       "</style>\n",
       "<table border=\"1\" class=\"dataframe\">\n",
       "  <thead>\n",
       "    <tr style=\"text-align: right;\">\n",
       "      <th></th>\n",
       "      <th>song_name</th>\n",
       "      <th>artist_name</th>\n",
       "      <th>album_name</th>\n",
       "      <th>lyrics</th>\n",
       "      <th>release_date</th>\n",
       "      <th>producers</th>\n",
       "      <th>tags</th>\n",
       "    </tr>\n",
       "  </thead>\n",
       "  <tbody>\n",
       "    <tr>\n",
       "      <th>0</th>\n",
       "      <td>ІНТЕРСІТІ (Intercity)</td>\n",
       "      <td>NORD DIVISION</td>\n",
       "      <td>АЗАРТ - EP</td>\n",
       "      <td>1 Contributor\\nІНТЕРСІТІ (Intercity) Lyrics\\nЗ...</td>\n",
       "      <td>March 1, 2025</td>\n",
       "      <td>[]</td>\n",
       "      <td>[Rap, Українською (In Ukrainian), Український ...</td>\n",
       "    </tr>\n",
       "    <tr>\n",
       "      <th>1</th>\n",
       "      <td>Ya ya</td>\n",
       "      <td>Hurriganes</td>\n",
       "      <td>Jailbird</td>\n",
       "      <td>1 Contributor\\nYa ya Lyrics\\nSitting in the la...</td>\n",
       "      <td>None</td>\n",
       "      <td>[]</td>\n",
       "      <td>[Pop]</td>\n",
       "    </tr>\n",
       "    <tr>\n",
       "      <th>2</th>\n",
       "      <td>#ДЕНЬГИБЛЯНУЖНЫМНЕ (#INEEDTHEFUCKINGMONEY)</td>\n",
       "      <td>huzzy b</td>\n",
       "      <td>None</td>\n",
       "      <td>3 Contributors\\n#ДЕНЬГИБЛЯНУЖНЫМНЕ (#INEEDTHEF...</td>\n",
       "      <td>August 23, 2024</td>\n",
       "      <td>[]</td>\n",
       "      <td>[Rap, Trap, Русский трэп (Russian Trap), Русск...</td>\n",
       "    </tr>\n",
       "    <tr>\n",
       "      <th>3</th>\n",
       "      <td>МАРЕВО (MIRAGE)</td>\n",
       "      <td>FCK FAMOUS GROUP</td>\n",
       "      <td>ХОРОШИЙ ПОГАНИЙ ЗЛИЙ (THE GOOD, THE BAD AND TH...</td>\n",
       "      <td>1 Contributor\\nМАРЕВО (MIRAGE) Lyrics\\nЯкий же...</td>\n",
       "      <td>February 14, 2025</td>\n",
       "      <td>[]</td>\n",
       "      <td>[Rap, Український реп (Ukrainian Rap), Україна...</td>\n",
       "    </tr>\n",
       "    <tr>\n",
       "      <th>4</th>\n",
       "      <td>Seni Kaybettim</td>\n",
       "      <td>Feridun Düzağaç</td>\n",
       "      <td>None</td>\n",
       "      <td>1 Contributor\\nSeni Kaybettim Lyrics\\n[\"Seni K...</td>\n",
       "      <td>August 2, 2024</td>\n",
       "      <td>[]</td>\n",
       "      <td>[Pop, Türkçe Pop, Türkçe, Türkiye]</td>\n",
       "    </tr>\n",
       "  </tbody>\n",
       "</table>\n",
       "</div>"
      ],
      "text/plain": [
       "                                    song_name       artist_name  \\\n",
       "0                       ІНТЕРСІТІ (Intercity)     NORD DIVISION   \n",
       "1                                       Ya ya        Hurriganes   \n",
       "2  #ДЕНЬГИБЛЯНУЖНЫМНЕ (#INEEDTHEFUCKINGMONEY)           huzzy b   \n",
       "3                             МАРЕВО (MIRAGE)  FCK FAMOUS GROUP   \n",
       "4                              Seni Kaybettim   Feridun Düzağaç   \n",
       "\n",
       "                                          album_name  \\\n",
       "0                                         АЗАРТ - EP   \n",
       "1                                           Jailbird   \n",
       "2                                               None   \n",
       "3  ХОРОШИЙ ПОГАНИЙ ЗЛИЙ (THE GOOD, THE BAD AND TH...   \n",
       "4                                               None   \n",
       "\n",
       "                                              lyrics       release_date  \\\n",
       "0  1 Contributor\\nІНТЕРСІТІ (Intercity) Lyrics\\nЗ...      March 1, 2025   \n",
       "1  1 Contributor\\nYa ya Lyrics\\nSitting in the la...               None   \n",
       "2  3 Contributors\\n#ДЕНЬГИБЛЯНУЖНЫМНЕ (#INEEDTHEF...    August 23, 2024   \n",
       "3  1 Contributor\\nМАРЕВО (MIRAGE) Lyrics\\nЯкий же...  February 14, 2025   \n",
       "4  1 Contributor\\nSeni Kaybettim Lyrics\\n[\"Seni K...     August 2, 2024   \n",
       "\n",
       "  producers                                               tags  \n",
       "0        []  [Rap, Українською (In Ukrainian), Український ...  \n",
       "1        []                                              [Pop]  \n",
       "2        []  [Rap, Trap, Русский трэп (Russian Trap), Русск...  \n",
       "3        []  [Rap, Український реп (Ukrainian Rap), Україна...  \n",
       "4        []                 [Pop, Türkçe Pop, Türkçe, Türkiye]  "
      ]
     },
     "execution_count": 106,
     "metadata": {},
     "output_type": "execute_result"
    }
   ],
   "source": [
    "df = pd.read_json('./songs_fixed.json')\n",
    "print(\"Columnas del dataset: \",df.columns)\n",
    "df.head()"
   ]
  },
  {
   "cell_type": "markdown",
   "id": "c2559c23",
   "metadata": {},
   "source": [
    "Crear una columna llamada `length` a partir de la longitud de cada uno de los textos de la columna `text`."
   ]
  },
  {
   "cell_type": "code",
   "execution_count": 107,
   "id": "b87102a9",
   "metadata": {},
   "outputs": [
    {
     "data": {
      "text/html": [
       "<div>\n",
       "<style scoped>\n",
       "    .dataframe tbody tr th:only-of-type {\n",
       "        vertical-align: middle;\n",
       "    }\n",
       "\n",
       "    .dataframe tbody tr th {\n",
       "        vertical-align: top;\n",
       "    }\n",
       "\n",
       "    .dataframe thead th {\n",
       "        text-align: right;\n",
       "    }\n",
       "</style>\n",
       "<table border=\"1\" class=\"dataframe\">\n",
       "  <thead>\n",
       "    <tr style=\"text-align: right;\">\n",
       "      <th></th>\n",
       "      <th>song_name</th>\n",
       "      <th>artist_name</th>\n",
       "      <th>album_name</th>\n",
       "      <th>lyrics</th>\n",
       "      <th>release_date</th>\n",
       "      <th>producers</th>\n",
       "      <th>tags</th>\n",
       "      <th>length</th>\n",
       "    </tr>\n",
       "  </thead>\n",
       "  <tbody>\n",
       "    <tr>\n",
       "      <th>0</th>\n",
       "      <td>ІНТЕРСІТІ (Intercity)</td>\n",
       "      <td>NORD DIVISION</td>\n",
       "      <td>АЗАРТ - EP</td>\n",
       "      <td>1 Contributor\\nІНТЕРСІТІ (Intercity) Lyrics\\nЗ...</td>\n",
       "      <td>March 1, 2025</td>\n",
       "      <td>[]</td>\n",
       "      <td>[Rap, Українською (In Ukrainian), Український ...</td>\n",
       "      <td>2614</td>\n",
       "    </tr>\n",
       "    <tr>\n",
       "      <th>1</th>\n",
       "      <td>Ya ya</td>\n",
       "      <td>Hurriganes</td>\n",
       "      <td>Jailbird</td>\n",
       "      <td>1 Contributor\\nYa ya Lyrics\\nSitting in the la...</td>\n",
       "      <td>None</td>\n",
       "      <td>[]</td>\n",
       "      <td>[Pop]</td>\n",
       "      <td>257</td>\n",
       "    </tr>\n",
       "    <tr>\n",
       "      <th>2</th>\n",
       "      <td>#ДЕНЬГИБЛЯНУЖНЫМНЕ (#INEEDTHEFUCKINGMONEY)</td>\n",
       "      <td>huzzy b</td>\n",
       "      <td>None</td>\n",
       "      <td>3 Contributors\\n#ДЕНЬГИБЛЯНУЖНЫМНЕ (#INEEDTHEF...</td>\n",
       "      <td>August 23, 2024</td>\n",
       "      <td>[]</td>\n",
       "      <td>[Rap, Trap, Русский трэп (Russian Trap), Русск...</td>\n",
       "      <td>1368</td>\n",
       "    </tr>\n",
       "    <tr>\n",
       "      <th>3</th>\n",
       "      <td>МАРЕВО (MIRAGE)</td>\n",
       "      <td>FCK FAMOUS GROUP</td>\n",
       "      <td>ХОРОШИЙ ПОГАНИЙ ЗЛИЙ (THE GOOD, THE BAD AND TH...</td>\n",
       "      <td>1 Contributor\\nМАРЕВО (MIRAGE) Lyrics\\nЯкий же...</td>\n",
       "      <td>February 14, 2025</td>\n",
       "      <td>[]</td>\n",
       "      <td>[Rap, Український реп (Ukrainian Rap), Україна...</td>\n",
       "      <td>1274</td>\n",
       "    </tr>\n",
       "    <tr>\n",
       "      <th>4</th>\n",
       "      <td>Seni Kaybettim</td>\n",
       "      <td>Feridun Düzağaç</td>\n",
       "      <td>None</td>\n",
       "      <td>1 Contributor\\nSeni Kaybettim Lyrics\\n[\"Seni K...</td>\n",
       "      <td>August 2, 2024</td>\n",
       "      <td>[]</td>\n",
       "      <td>[Pop, Türkçe Pop, Türkçe, Türkiye]</td>\n",
       "      <td>1163</td>\n",
       "    </tr>\n",
       "  </tbody>\n",
       "</table>\n",
       "</div>"
      ],
      "text/plain": [
       "                                    song_name       artist_name  \\\n",
       "0                       ІНТЕРСІТІ (Intercity)     NORD DIVISION   \n",
       "1                                       Ya ya        Hurriganes   \n",
       "2  #ДЕНЬГИБЛЯНУЖНЫМНЕ (#INEEDTHEFUCKINGMONEY)           huzzy b   \n",
       "3                             МАРЕВО (MIRAGE)  FCK FAMOUS GROUP   \n",
       "4                              Seni Kaybettim   Feridun Düzağaç   \n",
       "\n",
       "                                          album_name  \\\n",
       "0                                         АЗАРТ - EP   \n",
       "1                                           Jailbird   \n",
       "2                                               None   \n",
       "3  ХОРОШИЙ ПОГАНИЙ ЗЛИЙ (THE GOOD, THE BAD AND TH...   \n",
       "4                                               None   \n",
       "\n",
       "                                              lyrics       release_date  \\\n",
       "0  1 Contributor\\nІНТЕРСІТІ (Intercity) Lyrics\\nЗ...      March 1, 2025   \n",
       "1  1 Contributor\\nYa ya Lyrics\\nSitting in the la...               None   \n",
       "2  3 Contributors\\n#ДЕНЬГИБЛЯНУЖНЫМНЕ (#INEEDTHEF...    August 23, 2024   \n",
       "3  1 Contributor\\nМАРЕВО (MIRAGE) Lyrics\\nЯкий же...  February 14, 2025   \n",
       "4  1 Contributor\\nSeni Kaybettim Lyrics\\n[\"Seni K...     August 2, 2024   \n",
       "\n",
       "  producers                                               tags  length  \n",
       "0        []  [Rap, Українською (In Ukrainian), Український ...    2614  \n",
       "1        []                                              [Pop]     257  \n",
       "2        []  [Rap, Trap, Русский трэп (Russian Trap), Русск...    1368  \n",
       "3        []  [Rap, Український реп (Ukrainian Rap), Україна...    1274  \n",
       "4        []                 [Pop, Türkçe Pop, Türkçe, Türkiye]    1163  "
      ]
     },
     "execution_count": 107,
     "metadata": {},
     "output_type": "execute_result"
    }
   ],
   "source": [
    "df['length'] = df['lyrics'].str.len()\n",
    "df.head()"
   ]
  },
  {
   "cell_type": "markdown",
   "id": "5b89c2e8",
   "metadata": {},
   "source": [
    "# Calculo de resúmenes estadísticos por columna\n",
    "\n",
    "El método `describe()` sin parámetros genera cinco estadísticos de las variables numéricas ([doc](https://pandas.pydata.org/docs/reference/api/pandas.DataFrame.describe.html))."
   ]
  },
  {
   "cell_type": "code",
   "execution_count": 108,
   "id": "6a974de9",
   "metadata": {},
   "outputs": [
    {
     "data": {
      "text/html": [
       "<div>\n",
       "<style scoped>\n",
       "    .dataframe tbody tr th:only-of-type {\n",
       "        vertical-align: middle;\n",
       "    }\n",
       "\n",
       "    .dataframe tbody tr th {\n",
       "        vertical-align: top;\n",
       "    }\n",
       "\n",
       "    .dataframe thead th {\n",
       "        text-align: right;\n",
       "    }\n",
       "</style>\n",
       "<table border=\"1\" class=\"dataframe\">\n",
       "  <thead>\n",
       "    <tr style=\"text-align: right;\">\n",
       "      <th></th>\n",
       "      <th>length</th>\n",
       "    </tr>\n",
       "  </thead>\n",
       "  <tbody>\n",
       "    <tr>\n",
       "      <th>count</th>\n",
       "      <td>10098.000000</td>\n",
       "    </tr>\n",
       "    <tr>\n",
       "      <th>mean</th>\n",
       "      <td>1825.714696</td>\n",
       "    </tr>\n",
       "    <tr>\n",
       "      <th>std</th>\n",
       "      <td>3167.818532</td>\n",
       "    </tr>\n",
       "    <tr>\n",
       "      <th>min</th>\n",
       "      <td>0.000000</td>\n",
       "    </tr>\n",
       "    <tr>\n",
       "      <th>25%</th>\n",
       "      <td>1018.000000</td>\n",
       "    </tr>\n",
       "    <tr>\n",
       "      <th>50%</th>\n",
       "      <td>1549.000000</td>\n",
       "    </tr>\n",
       "    <tr>\n",
       "      <th>75%</th>\n",
       "      <td>2257.750000</td>\n",
       "    </tr>\n",
       "    <tr>\n",
       "      <th>max</th>\n",
       "      <td>190146.000000</td>\n",
       "    </tr>\n",
       "  </tbody>\n",
       "</table>\n",
       "</div>"
      ],
      "text/plain": [
       "              length\n",
       "count   10098.000000\n",
       "mean     1825.714696\n",
       "std      3167.818532\n",
       "min         0.000000\n",
       "25%      1018.000000\n",
       "50%      1549.000000\n",
       "75%      2257.750000\n",
       "max    190146.000000"
      ]
     },
     "execution_count": 108,
     "metadata": {},
     "output_type": "execute_result"
    }
   ],
   "source": [
    "df.describe()"
   ]
  },
  {
   "cell_type": "markdown",
   "id": "61b2f43e",
   "metadata": {},
   "source": [
    "El método `describe()` con el parámetro `include = O` genera cinco estadísticos de las variables no numéricas."
   ]
  },
  {
   "cell_type": "code",
   "execution_count": 109,
   "id": "93a53378",
   "metadata": {},
   "outputs": [
    {
     "data": {
      "text/html": [
       "<div>\n",
       "<style scoped>\n",
       "    .dataframe tbody tr th:only-of-type {\n",
       "        vertical-align: middle;\n",
       "    }\n",
       "\n",
       "    .dataframe tbody tr th {\n",
       "        vertical-align: top;\n",
       "    }\n",
       "\n",
       "    .dataframe thead th {\n",
       "        text-align: right;\n",
       "    }\n",
       "</style>\n",
       "<table border=\"1\" class=\"dataframe\">\n",
       "  <thead>\n",
       "    <tr style=\"text-align: right;\">\n",
       "      <th></th>\n",
       "      <th>song_name</th>\n",
       "      <th>artist_name</th>\n",
       "      <th>album_name</th>\n",
       "      <th>lyrics</th>\n",
       "      <th>release_date</th>\n",
       "      <th>producers</th>\n",
       "      <th>tags</th>\n",
       "    </tr>\n",
       "  </thead>\n",
       "  <tbody>\n",
       "    <tr>\n",
       "      <th>count</th>\n",
       "      <td>10098</td>\n",
       "      <td>10098</td>\n",
       "      <td>7276</td>\n",
       "      <td>10098</td>\n",
       "      <td>8523</td>\n",
       "      <td>10098</td>\n",
       "      <td>10098</td>\n",
       "    </tr>\n",
       "    <tr>\n",
       "      <th>unique</th>\n",
       "      <td>9780</td>\n",
       "      <td>2429</td>\n",
       "      <td>3022</td>\n",
       "      <td>9709</td>\n",
       "      <td>3016</td>\n",
       "      <td>1765</td>\n",
       "      <td>4075</td>\n",
       "    </tr>\n",
       "    <tr>\n",
       "      <th>top</th>\n",
       "      <td>Forever</td>\n",
       "      <td>​yngblеss</td>\n",
       "      <td>Alma Mater &amp; Fight Song</td>\n",
       "      <td></td>\n",
       "      <td>March 14, 2025</td>\n",
       "      <td>[]</td>\n",
       "      <td>[Pop]</td>\n",
       "    </tr>\n",
       "    <tr>\n",
       "      <th>freq</th>\n",
       "      <td>8</td>\n",
       "      <td>21</td>\n",
       "      <td>28</td>\n",
       "      <td>390</td>\n",
       "      <td>57</td>\n",
       "      <td>7770</td>\n",
       "      <td>1348</td>\n",
       "    </tr>\n",
       "  </tbody>\n",
       "</table>\n",
       "</div>"
      ],
      "text/plain": [
       "       song_name artist_name               album_name lyrics    release_date  \\\n",
       "count      10098       10098                     7276  10098            8523   \n",
       "unique      9780        2429                     3022   9709            3016   \n",
       "top      Forever   ​yngblеss  Alma Mater & Fight Song         March 14, 2025   \n",
       "freq           8          21                       28    390              57   \n",
       "\n",
       "       producers   tags  \n",
       "count      10098  10098  \n",
       "unique      1765   4075  \n",
       "top           []  [Pop]  \n",
       "freq        7770   1348  "
      ]
     },
     "execution_count": 109,
     "metadata": {},
     "output_type": "execute_result"
    }
   ],
   "source": [
    "df.describe(include='O')"
   ]
  },
  {
   "cell_type": "markdown",
   "id": "7ba98886",
   "metadata": {},
   "source": [
    "\n",
    "\n",
    "# Revisar datos faltantes\n",
    "\n",
    "El método `isna()` detecta los valores faltantes, por lo que retorna un valor booleano si el valor es un NA (valores None o `Numpy.NaN`). docs/reference/api/pandas.DataFrame.isna.html)"
   ]
  },
  {
   "cell_type": "code",
   "execution_count": 110,
   "id": "bc9f63ea",
   "metadata": {},
   "outputs": [
    {
     "data": {
      "text/plain": [
       "song_name          0\n",
       "artist_name        0\n",
       "album_name      2822\n",
       "lyrics             0\n",
       "release_date    1575\n",
       "producers          0\n",
       "tags               0\n",
       "length             0\n",
       "dtype: int64"
      ]
     },
     "execution_count": 110,
     "metadata": {},
     "output_type": "execute_result"
    }
   ],
   "source": [
    "\"\"\"\n",
    "Se usa este método sum() para contabilizar el número \n",
    "de valores NA por columna \n",
    "\"\"\"\n",
    "df_isna = df.isna().sum() \n",
    "df_isna"
   ]
  },
  {
   "cell_type": "markdown",
   "id": "1e192a7c",
   "metadata": {},
   "source": [
    "El método `fillna()` permite llena los valores NA/NaN. Para este caso solo existen dos columnas con valores nulos, por lo que los cambios serán muy particulares en estas columnas. Se usa inplace=True para modificar el dataframe original. "
   ]
  },
  {
   "cell_type": "code",
   "execution_count": 111,
   "id": "dee8df5d",
   "metadata": {},
   "outputs": [
    {
     "name": "stderr",
     "output_type": "stream",
     "text": [
      "/tmp/ipykernel_9640/1024341154.py:1: FutureWarning: A value is trying to be set on a copy of a DataFrame or Series through chained assignment using an inplace method.\n",
      "The behavior will change in pandas 3.0. This inplace method will never work because the intermediate object on which we are setting values always behaves as a copy.\n",
      "\n",
      "For example, when doing 'df[col].method(value, inplace=True)', try using 'df.method({col: value}, inplace=True)' or df[col] = df[col].method(value) instead, to perform the operation inplace on the original object.\n",
      "\n",
      "\n",
      "  df['album_name'].fillna(\"No album\",inplace=True)\n",
      "/tmp/ipykernel_9640/1024341154.py:2: FutureWarning: A value is trying to be set on a copy of a DataFrame or Series through chained assignment using an inplace method.\n",
      "The behavior will change in pandas 3.0. This inplace method will never work because the intermediate object on which we are setting values always behaves as a copy.\n",
      "\n",
      "For example, when doing 'df[col].method(value, inplace=True)', try using 'df.method({col: value}, inplace=True)' or df[col] = df[col].method(value) instead, to perform the operation inplace on the original object.\n",
      "\n",
      "\n",
      "  df['release_date'].fillna(\"No release date\",inplace=True)\n"
     ]
    },
    {
     "data": {
      "text/plain": [
       "song_name       0\n",
       "artist_name     0\n",
       "album_name      0\n",
       "lyrics          0\n",
       "release_date    0\n",
       "producers       0\n",
       "tags            0\n",
       "length          0\n",
       "dtype: int64"
      ]
     },
     "execution_count": 111,
     "metadata": {},
     "output_type": "execute_result"
    }
   ],
   "source": [
    "df['album_name'].fillna(\"No album\",inplace=True)\n",
    "df['release_date'].fillna(\"No release date\",inplace=True)\n",
    "\n",
    "df.isna().sum()"
   ]
  },
  {
   "cell_type": "markdown",
   "id": "7bdd8d67",
   "metadata": {},
   "source": [
    "El método 'contains()' permite encontrar coincidencias que estás contenidas dentro de las cadenas de texto de una Serie o un índice de pandas. Por ejemplo se puede buscar canciones de Above & Beyond o Mac Miller. Para este caso se usa value_counts() para asegurarse que los artistas no tienen canciones con nombres repetidos. "
   ]
  },
  {
   "cell_type": "code",
   "execution_count": 112,
   "id": "4a2d54df",
   "metadata": {},
   "outputs": [
    {
     "name": "stdout",
     "output_type": "stream",
     "text": [
      "Canciones de Above & Beyond: \n",
      " song_name\n",
      "Crazy Love                      1\n",
      "Peace of Mind (Acoustic)        1\n",
      "Fly to New York                 1\n",
      "Reverie                         1\n",
      "We’re All We Need               1\n",
      "No One On Earth                 1\n",
      "We’re All We Need (Acoustic)    1\n",
      "Alchemy                         1\n",
      "Sahara Love                     1\n",
      "There’s Only You                1\n",
      "You Got to Go                   1\n",
      "Good For Me                     1\n",
      "Peace of Mind                   1\n",
      "My Own Hymn                     1\n",
      "Love Is Not Enough              1\n",
      "Always                          1\n",
      "Name: count, dtype: int64\n"
     ]
    }
   ],
   "source": [
    "resultado_a_and_b = df[df['artist_name'].str.contains('Above & Beyond')]\n",
    "resultado_mac_miller = df[df['artist_name'].str.contains('Mac Miller')]\n",
    "\n",
    "print(\"Canciones de Above & Beyond: \\n\",resultado_a_and_b['song_name'].value_counts())"
   ]
  },
  {
   "cell_type": "code",
   "execution_count": 113,
   "id": "5ee4b360",
   "metadata": {},
   "outputs": [
    {
     "data": {
      "text/html": [
       "<div>\n",
       "<style scoped>\n",
       "    .dataframe tbody tr th:only-of-type {\n",
       "        vertical-align: middle;\n",
       "    }\n",
       "\n",
       "    .dataframe tbody tr th {\n",
       "        vertical-align: top;\n",
       "    }\n",
       "\n",
       "    .dataframe thead th {\n",
       "        text-align: right;\n",
       "    }\n",
       "</style>\n",
       "<table border=\"1\" class=\"dataframe\">\n",
       "  <thead>\n",
       "    <tr style=\"text-align: right;\">\n",
       "      <th></th>\n",
       "      <th>song_name</th>\n",
       "      <th>artist_name</th>\n",
       "      <th>album_name</th>\n",
       "      <th>lyrics</th>\n",
       "      <th>release_date</th>\n",
       "      <th>producers</th>\n",
       "      <th>tags</th>\n",
       "      <th>length</th>\n",
       "    </tr>\n",
       "  </thead>\n",
       "  <tbody>\n",
       "    <tr>\n",
       "      <th>3735</th>\n",
       "      <td>Planet God Damn</td>\n",
       "      <td>Mac Miller</td>\n",
       "      <td>The Divine Feminine</td>\n",
       "      <td>48 Contributors\\nTranslations\\nEspañol\\nSvensk...</td>\n",
       "      <td>September 16, 2016</td>\n",
       "      <td>[Vinylz, Ging]</td>\n",
       "      <td>[Rap, USA, In English]</td>\n",
       "      <td>2539</td>\n",
       "    </tr>\n",
       "    <tr>\n",
       "      <th>3740</th>\n",
       "      <td>Skin</td>\n",
       "      <td>Mac Miller</td>\n",
       "      <td>The Divine Feminine</td>\n",
       "      <td>70 Contributors\\nTranslations\\nFrançais\\nEspañ...</td>\n",
       "      <td>September 16, 2016</td>\n",
       "      <td>[]</td>\n",
       "      <td>[R&amp;B, Rap, USA, In English, Soul Jazz]</td>\n",
       "      <td>2630</td>\n",
       "    </tr>\n",
       "  </tbody>\n",
       "</table>\n",
       "</div>"
      ],
      "text/plain": [
       "            song_name artist_name           album_name  \\\n",
       "3735  Planet God Damn  Mac Miller  The Divine Feminine   \n",
       "3740             Skin  Mac Miller  The Divine Feminine   \n",
       "\n",
       "                                                 lyrics        release_date  \\\n",
       "3735  48 Contributors\\nTranslations\\nEspañol\\nSvensk...  September 16, 2016   \n",
       "3740  70 Contributors\\nTranslations\\nFrançais\\nEspañ...  September 16, 2016   \n",
       "\n",
       "           producers                                    tags  length  \n",
       "3735  [Vinylz, Ging]                  [Rap, USA, In English]    2539  \n",
       "3740              []  [R&B, Rap, USA, In English, Soul Jazz]    2630  "
      ]
     },
     "execution_count": 113,
     "metadata": {},
     "output_type": "execute_result"
    }
   ],
   "source": [
    "resultado_mac_miller.head()"
   ]
  },
  {
   "cell_type": "code",
   "execution_count": 114,
   "id": "1fa411c8",
   "metadata": {},
   "outputs": [
    {
     "name": "stdout",
     "output_type": "stream",
     "text": [
      "Canciones de Mac miller: \n",
      " song_name\n",
      "Planet God Damn    1\n",
      "Skin               1\n",
      "Name: count, dtype: int64\n"
     ]
    }
   ],
   "source": [
    "print(\"Canciones de Mac miller: \\n\",resultado_mac_miller['song_name'].value_counts())"
   ]
  },
  {
   "cell_type": "markdown",
   "id": "d1bed8ff",
   "metadata": {},
   "source": [
    "# Representación grafica de la distribución de los valores\n",
    "\n",
    "## Gráfica de caja o Boxplot\n",
    "\n",
    "Un boxplot es útil para resumir la distribución de los datos, destacando valores mínimos, máximos, la mediana y posibles outliers."
   ]
  },
  {
   "cell_type": "markdown",
   "id": "87469de3",
   "metadata": {},
   "source": [
    "Se puede hacer un boxplot con respecto al numero de productores"
   ]
  },
  {
   "cell_type": "code",
   "execution_count": 115,
   "id": "f555f192",
   "metadata": {},
   "outputs": [
    {
     "data": {
      "image/png": "[encoded data removed]",
      "text/plain": [
       "<Figure size 640x480 with 1 Axes>"
      ]
     },
     "metadata": {},
     "output_type": "display_data"
    }
   ],
   "source": [
    "import pandas as pd\n",
    "import seaborn as sns\n",
    "import matplotlib.pyplot as plt\n",
    "\n",
    "df['num_producers'] = df['producers'].apply(lambda x: len(str(x).split(',')))\n",
    "\n",
    "\n",
    "df.boxplot(column=\"num_producers\", grid=False)\n",
    "\n",
    "plt.title(\"Boxplot por Categorías\")\n",
    "plt.suptitle(\"\")  \n",
    "plt.xlabel(\"Categoría\")\n",
    "plt.ylabel(\"Valores\")\n",
    "plt.show()"
   ]
  },
  {
   "cell_type": "markdown",
   "id": "7949c198",
   "metadata": {},
   "source": [
    "De igual manera se puede hacer con respecto a la longitud de la letra de las canciones\n"
   ]
  },
  {
   "cell_type": "code",
   "execution_count": 116,
   "id": "3680cb66",
   "metadata": {},
   "outputs": [
    {
     "data": {
      "image/png": "[encoded data removed]",
      "text/plain": [
       "<Figure size 640x480 with 1 Axes>"
      ]
     },
     "metadata": {},
     "output_type": "display_data"
    }
   ],
   "source": [
    "\n",
    "df.boxplot(column=\"length\", grid=False)\n",
    "\n",
    "\n",
    "plt.title(\"Boxplot por longitud de letras\")\n",
    "plt.suptitle(\"\")  \n",
    "plt.xlabel(\"Categoría\")\n",
    "plt.ylabel(\"Valores\")\n",
    "plt.show()"
   ]
  },
  {
   "cell_type": "markdown",
   "id": "ce70f93b",
   "metadata": {},
   "source": [
    "## Gráfica de barras o barplot\n",
    "\n",
    "Un barplot (gráfico de barras) es una representación visual que utiliza barras para comparar diferentes categorías o grupos de datos de forma clara y efectiva. La longitud o altura de las barras es proporcional al valor que representan, lo que permite observar rápidamente diferencias y patrones."
   ]
  },
  {
   "cell_type": "markdown",
   "id": "f644d8ee",
   "metadata": {},
   "source": [
    "Se puede aplicar una gráfica de barras al número de productores"
   ]
  },
  {
   "cell_type": "code",
   "execution_count": 117,
   "id": "dc99528d",
   "metadata": {},
   "outputs": [
    {
     "data": {
      "image/png": "[encoded data removed]",
      "text/plain": [
       "<Figure size 640x480 with 1 Axes>"
      ]
     },
     "metadata": {},
     "output_type": "display_data"
    }
   ],
   "source": [
    "df['num_producers'].plot.hist(bins=50,edgecolor = \"black\")\n",
    "\n",
    "plt.title(\"Histograma de número de productores\")\n",
    "plt.xlabel(\"Rango de Valores\")\n",
    "plt.ylabel(\"Frecuencia\")\n",
    "\n",
    "plt.show()\n"
   ]
  },
  {
   "cell_type": "markdown",
   "id": "a55c5126",
   "metadata": {},
   "source": [
    "De igual forma se puede realizar lo mismo para la longitud de las canciones"
   ]
  },
  {
   "cell_type": "code",
   "execution_count": 118,
   "id": "f5853978",
   "metadata": {},
   "outputs": [
    {
     "data": {
      "image/png": "[encoded data removed]",
      "text/plain": [
       "<Figure size 640x480 with 1 Axes>"
      ]
     },
     "metadata": {},
     "output_type": "display_data"
    }
   ],
   "source": [
    "df['length'].plot.hist(bins = 50, edgecolor=\"black\")\n",
    "\n",
    "plt.title(\"Histograma de longitud de canciones\")\n",
    "plt.xlabel(\"Rango de Valores\")\n",
    "plt.ylabel(\"Frecuencia\")\n",
    "\n",
    "plt.show()"
   ]
  },
  {
   "cell_type": "markdown",
   "id": "2d2d46ad",
   "metadata": {},
   "source": [
    "# Comparación de valores de distribución sobre categorías\n",
    "\n",
    "__Seaborn__ es una biblioteca de visualización de datos basada en Matplotlib que proporciona una interfaz de alto nivel para crear gráficos estadísticos de manera sencilla y con estilos preconfigurados. Está diseñada para trabajar de manera efectiva con estructuras de datos como DataFrames de pandas, lo que facilita la exploración y representación visual de datos en proyectos de análisis."
   ]
  },
  {
   "cell_type": "markdown",
   "id": "4ca071c1",
   "metadata": {},
   "source": [
    "## isin\n",
    "\n",
    "El método `isin` en pandas se utiliza para filtrar filas en un `DataFrame` o `Series` que contienen valores específicos de una lista, conjunto u otro iterable. Es especialmente útil para realizar búsquedas rápidas o verificaciones de pertenencia en un conjunto de datos."
   ]
  },
  {
   "cell_type": "markdown",
   "id": "51986659",
   "metadata": {},
   "source": [
    "Se puede realizar para detectar las palabras 'love' y 'drug' en el nombre de canciones"
   ]
  },
  {
   "cell_type": "code",
   "execution_count": 119,
   "id": "3eccc1b5",
   "metadata": {},
   "outputs": [
    {
     "data": {
      "text/html": [
       "<div>\n",
       "<style scoped>\n",
       "    .dataframe tbody tr th:only-of-type {\n",
       "        vertical-align: middle;\n",
       "    }\n",
       "\n",
       "    .dataframe tbody tr th {\n",
       "        vertical-align: top;\n",
       "    }\n",
       "\n",
       "    .dataframe thead th {\n",
       "        text-align: right;\n",
       "    }\n",
       "</style>\n",
       "<table border=\"1\" class=\"dataframe\">\n",
       "  <thead>\n",
       "    <tr style=\"text-align: right;\">\n",
       "      <th></th>\n",
       "      <th>song_name</th>\n",
       "      <th>artist_name</th>\n",
       "      <th>album_name</th>\n",
       "      <th>lyrics</th>\n",
       "      <th>release_date</th>\n",
       "      <th>producers</th>\n",
       "      <th>tags</th>\n",
       "      <th>length</th>\n",
       "      <th>num_producers</th>\n",
       "    </tr>\n",
       "  </thead>\n",
       "  <tbody>\n",
       "    <tr>\n",
       "      <th>1029</th>\n",
       "      <td>Love</td>\n",
       "      <td>4L JAVI</td>\n",
       "      <td>4 L</td>\n",
       "      <td>2 Contributors\\nLove Lyrics\\n[Intro]\\nI usuall...</td>\n",
       "      <td>May 9, 2019</td>\n",
       "      <td>[]</td>\n",
       "      <td>[R&amp;B]</td>\n",
       "      <td>1337</td>\n",
       "      <td>1</td>\n",
       "    </tr>\n",
       "    <tr>\n",
       "      <th>3871</th>\n",
       "      <td>Love</td>\n",
       "      <td>Nasty</td>\n",
       "      <td>Love</td>\n",
       "      <td>2 Contributors\\nLove Lyrics\\nWe're all the sam...</td>\n",
       "      <td>No release date</td>\n",
       "      <td>[]</td>\n",
       "      <td>[Pop]</td>\n",
       "      <td>1037</td>\n",
       "      <td>1</td>\n",
       "    </tr>\n",
       "    <tr>\n",
       "      <th>8375</th>\n",
       "      <td>Love</td>\n",
       "      <td>Trousdale</td>\n",
       "      <td>What Happiness Is</td>\n",
       "      <td>2 Contributors\\nLove Lyrics\\n[Verse 1]\\nI ain'...</td>\n",
       "      <td>November 12, 2021</td>\n",
       "      <td>[Georgia Greene, Lauren Jones, Quinn D’Andrea]</td>\n",
       "      <td>[Country]</td>\n",
       "      <td>2018</td>\n",
       "      <td>3</td>\n",
       "    </tr>\n",
       "    <tr>\n",
       "      <th>9878</th>\n",
       "      <td>Love</td>\n",
       "      <td>USED &amp; Jamie McCool</td>\n",
       "      <td>No album</td>\n",
       "      <td>1 Contributor\\nLove Lyrics\\n[Verse]\\nThis time...</td>\n",
       "      <td>November 15, 2024</td>\n",
       "      <td>[]</td>\n",
       "      <td>[Pop, Electronic, EDM, Drum &amp; Bass]</td>\n",
       "      <td>1172</td>\n",
       "      <td>1</td>\n",
       "    </tr>\n",
       "  </tbody>\n",
       "</table>\n",
       "</div>"
      ],
      "text/plain": [
       "     song_name          artist_name         album_name  \\\n",
       "1029      Love              4L JAVI                4 L   \n",
       "3871      Love                Nasty               Love   \n",
       "8375      Love            Trousdale  What Happiness Is   \n",
       "9878      Love  USED & Jamie McCool           No album   \n",
       "\n",
       "                                                 lyrics       release_date  \\\n",
       "1029  2 Contributors\\nLove Lyrics\\n[Intro]\\nI usuall...        May 9, 2019   \n",
       "3871  2 Contributors\\nLove Lyrics\\nWe're all the sam...    No release date   \n",
       "8375  2 Contributors\\nLove Lyrics\\n[Verse 1]\\nI ain'...  November 12, 2021   \n",
       "9878  1 Contributor\\nLove Lyrics\\n[Verse]\\nThis time...  November 15, 2024   \n",
       "\n",
       "                                           producers  \\\n",
       "1029                                              []   \n",
       "3871                                              []   \n",
       "8375  [Georgia Greene, Lauren Jones, Quinn D’Andrea]   \n",
       "9878                                              []   \n",
       "\n",
       "                                     tags  length  num_producers  \n",
       "1029                                [R&B]    1337              1  \n",
       "3871                                [Pop]    1037              1  \n",
       "8375                            [Country]    2018              3  \n",
       "9878  [Pop, Electronic, EDM, Drum & Bass]    1172              1  "
      ]
     },
     "execution_count": 119,
     "metadata": {},
     "output_type": "execute_result"
    }
   ],
   "source": [
    "palabras_deseadas = ['Love','Drug']\n",
    "filtro = df[df[\"song_name\"].isin(palabras_deseadas)]\n",
    "filtro.head()\n"
   ]
  },
  {
   "cell_type": "markdown",
   "id": "549d28ab",
   "metadata": {},
   "source": [
    "El método `catplot` en Seaborn se utiliza para crear gráficos categóricos, lo que permite visualizar datos categóricos y sus relaciones con variables numéricas o categóricas adicionales. Es altamente versátil y puede generar varios tipos de gráficos categóricos, como gráficos de barras, gráficos de puntos, gráficos de cajas, etc.\n",
    "\n",
    "Se puede utilizar catplot para verificar los datos estadísticos de los nomnres de las canciones filtradas con el número de productores. "
   ]
  },
  {
   "cell_type": "code",
   "execution_count": 120,
   "id": "5f3f6c15",
   "metadata": {},
   "outputs": [
    {
     "data": {
      "image/png": "[encoded data removed]",
      "text/plain": [
       "<Figure size 511.111x500 with 1 Axes>"
      ]
     },
     "metadata": {},
     "output_type": "display_data"
    }
   ],
   "source": [
    "sns.catplot(data=filtro, x=\"song_name\", y=\"num_producers\", kind=\"bar\")\n",
    "plt.xlabel(\"Canción\")\n",
    "plt.ylabel(\"Número de productores\")\n",
    "plt.title(\"Número de productores por canción filtrada\")\n",
    "plt.show()\n"
   ]
  },
  {
   "cell_type": "markdown",
   "id": "5d17e134",
   "metadata": {},
   "source": [
    "Una variación de `catplot` son los gráficos de violín"
   ]
  },
  {
   "cell_type": "code",
   "execution_count": 121,
   "id": "06e22cba",
   "metadata": {},
   "outputs": [
    {
     "data": {
      "image/png": "[encoded data removed]",
      "text/plain": [
       "<Figure size 511.111x500 with 1 Axes>"
      ]
     },
     "metadata": {},
     "output_type": "display_data"
    }
   ],
   "source": [
    "sns.catplot(data=filtro, x=\"song_name\",y= \"num_producers\", kind=\"violin\")\n",
    "plt.xlabel(\"Canción\")\n",
    "plt.ylabel(\"Número de productores\")\n",
    "plt.title(\"Número de productores por canción filtrada\")\n",
    "plt.show()"
   ]
  },
  {
   "cell_type": "markdown",
   "id": "72db52a0",
   "metadata": {},
   "source": [
    "# Visualización de desarrollo sobre el tiempo \n",
    "\n",
    "En algunos casos, alguna de las columnas (características) de nuestro conjunto de datos, permitirá un análisis en un periodo de tiempo. En nuestro caso columna `year` permite realizar una visualización del desarrollo de las longitudes de los discursos cada año. \n",
    "\n",
    "Para este análisis, utilizaremos el método `groupby` del dataframe permite grupar y realizar operaciones agregadas sobre datos. Es decir, permite dividir un conjunto de datos en grupos basados en valores de una o más columnas y luego aplicar funciones como suma, promedio, conteo, etc., a cada grupo.\n"
   ]
  },
  {
   "cell_type": "code",
   "execution_count": 122,
   "id": "ced55bf5",
   "metadata": {},
   "outputs": [
    {
     "name": "stdout",
     "output_type": "stream",
     "text": [
      "    year  cantidad_canciones\n",
      "0   0001                   2\n",
      "1   1894                   2\n",
      "2   1897                   1\n",
      "3   1900                   1\n",
      "4   1901                   1\n",
      "..   ...                 ...\n",
      "77  2021                 734\n",
      "78  2022                 794\n",
      "79  2023                 932\n",
      "80  2024                1346\n",
      "81  2025                 745\n",
      "\n",
      "[82 rows x 2 columns]\n"
     ]
    }
   ],
   "source": [
    "df['year'] = df['release_date'].str.extract(r'(\\d{4})')\n",
    "\n",
    "resultado_groupby = df.groupby('year').size().reset_index(name='cantidad_canciones')\n",
    "print(resultado_groupby.head(100))"
   ]
  },
  {
   "cell_type": "markdown",
   "id": "77b36289",
   "metadata": {},
   "source": [
    "Se pudiese ver cuantas canciones existen por album "
   ]
  },
  {
   "cell_type": "code",
   "execution_count": 123,
   "id": "5322011a",
   "metadata": {},
   "outputs": [
    {
     "name": "stdout",
     "output_type": "stream",
     "text": [
      "\n",
      "Número de canciones por álbum:\n",
      " album_name\n",
      " My Dogs for Life                                            2\n",
      " Posse EP Volume 2                                           1\n",
      " Reckless (Deluxe Edition)                                  11\n",
      " The Best of JUNIOR M.A.F.I.A.                               1\n",
      " To Markos III                                               2\n",
      "                                                            ..\n",
      "유플래쉬 (Yoo Flash)                                             1\n",
      "하이라키 OST [Hierarchy (Soundtrack from the Netfilx Series)     1\n",
      "학교 2021 (School 2021) OST Part.2                             1\n",
      "홈타운 OST (Hometown Original Television Soundtrack) Part 1     1\n",
      "﹤3                                                           1\n",
      "Name: song_name, Length: 3023, dtype: int64\n"
     ]
    }
   ],
   "source": [
    "df_album = df.groupby('album_name')['song_name'].count()\n",
    "print(\"\\nNúmero de canciones por álbum:\\n\", df_album)"
   ]
  },
  {
   "cell_type": "markdown",
   "id": "bd0ee937",
   "metadata": {},
   "source": [
    "De igual forma visualizar el numero de canciones por artista"
   ]
  },
  {
   "cell_type": "code",
   "execution_count": 124,
   "id": "bcb0ba75",
   "metadata": {},
   "outputs": [
    {
     "name": "stdout",
     "output_type": "stream",
     "text": [
      "Número de canciones por artista:\n",
      " artist_name\n",
      "#LVLUP GRIME CLASH     1\n",
      "#LikeMe Cast           1\n",
      "$kyhook                1\n",
      "$neep                  1\n",
      "$tupid Young           1\n",
      "                      ..\n",
      "花冷え。(HANABIE.)         1\n",
      "蔡依林 (Jolin Tsai)       1\n",
      "薛之谦 (Joker Xue)        1\n",
      "许佳琪 (Xu JiaQi)         1\n",
      "郑润泽 (Zheng Run Ze)    19\n",
      "Name: song_name, Length: 2429, dtype: int64\n"
     ]
    }
   ],
   "source": [
    "canciones_por_artista = df.groupby('artist_name')['song_name'].count()\n",
    "print(\"Número de canciones por artista:\\n\", canciones_por_artista)"
   ]
  },
  {
   "cell_type": "markdown",
   "id": "273be002",
   "metadata": {},
   "source": [
    "O la longitud promedio de canciones (caracteres) "
   ]
  },
  {
   "cell_type": "code",
   "execution_count": 125,
   "id": "42f1a15c",
   "metadata": {},
   "outputs": [
    {
     "name": "stdout",
     "output_type": "stream",
     "text": [
      "Longitud promedio de las letras por canciones:  song_name\n",
      "#1 Hit Song                         167.0\n",
      "#4BarFriday                        2417.0\n",
      "#AYFKM (Freestyle)                 1851.0\n",
      "#ETHEREALSHAWTY                    1641.0\n",
      "#Frenchmen - Saison 1 - Nusky      1611.0\n",
      "                                    ...  \n",
      "환상동화 (Secret Story of the Swan)    1786.0\n",
      "회전목마 (MERRY-GO-ROUND)              1383.0\n",
      "︎i of the storm                    1795.0\n",
      "󠁪obvio..                           1379.0\n",
      "󠁪solo un nombre                    1572.0\n",
      "Name: length, Length: 9780, dtype: float64\n"
     ]
    }
   ],
   "source": [
    "longitud_prom_por_cancion = df.groupby('song_name')['length'].mean()\n",
    "print(\"Longitud promedio de las letras por canciones: \",longitud_prom_por_cancion)"
   ]
  },
  {
   "cell_type": "markdown",
   "id": "d59363f7",
   "metadata": {},
   "source": [
    "Se puede visualizar gráficamente los resultados de estas operaciones. \n",
    "\n",
    "Númer de canciones por artista: "
   ]
  },
  {
   "cell_type": "code",
   "execution_count": 126,
   "id": "46149565",
   "metadata": {},
   "outputs": [
    {
     "data": {
      "image/png": "[encoded data removed]",
      "text/plain": [
       "<Figure size 640x480 with 1 Axes>"
      ]
     },
     "metadata": {},
     "output_type": "display_data"
    }
   ],
   "source": [
    "import matplotlib.pyplot as plt\n",
    "\n",
    "canciones_por_artista.plot.hist(bins=50)\n",
    "plt.xlabel(\"Número de canciones\")\n",
    "plt.ylabel(\"Frecuencia\")\n",
    "plt.title(\"Histograma de número de canciones por artista\")\n",
    "plt.show()"
   ]
  },
  {
   "cell_type": "markdown",
   "id": "1d497099",
   "metadata": {},
   "source": [
    "Longitud promedio por canción: "
   ]
  },
  {
   "cell_type": "code",
   "execution_count": 127,
   "id": "d185cae9",
   "metadata": {},
   "outputs": [
    {
     "data": {
      "image/png": "[encoded data removed]",
      "text/plain": [
       "<Figure size 640x480 with 1 Axes>"
      ]
     },
     "metadata": {},
     "output_type": "display_data"
    }
   ],
   "source": [
    "import matplotlib.pyplot as plt\n",
    "\n",
    "longitud_prom_por_cancion.plot.hist(bins=200)\n",
    "plt.xlabel(\"Número de canciones\")\n",
    "plt.ylabel(\"Frecuencia\")\n",
    "plt.title(\"Histograma de longitud de las canciones\")\n",
    "plt.xlim(-500,20000)\n",
    "plt.show()"
   ]
  }
 ],
 "metadata": {
  "kernelspec": {
   "display_name": "regex",
   "language": "python",
   "name": "python3"
  },
  "language_info": {
   "codemirror_mode": {
    "name": "ipython",
    "version": 3
   },
   "file_extension": ".py",
   "mimetype": "text/x-python",
   "name": "python",
   "nbconvert_exporter": "python",
   "pygments_lexer": "ipython3",
   "version": "3.13.2"
  }
 },
 "nbformat": 4,
 "nbformat_minor": 5
}

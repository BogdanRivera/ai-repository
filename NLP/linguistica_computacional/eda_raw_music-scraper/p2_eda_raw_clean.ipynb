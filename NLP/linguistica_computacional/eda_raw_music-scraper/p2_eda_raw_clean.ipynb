{
 "cells": [
  {
   "cell_type": "markdown",
   "id": "0433da09",
   "metadata": {},
   "source": [
    "# Proyecto 2.2.  EDA con limpieza\n",
    "## Bogdan Kaleb García Rivera\n",
    "\n",
    "El objetivo de este proyecto es realizar la limpieza del conjunto de datos del EDA de música adquirido con webscraping a través de la plataforma Genius.com, además de realizar la comparación con respecto al mismo conjunto pero sin limpieza. \n"
   ]
  },
  {
   "cell_type": "markdown",
   "id": "37d22c88",
   "metadata": {},
   "source": [
    "Importar el conjunto de datos"
   ]
  },
  {
   "cell_type": "code",
   "execution_count": 149,
   "id": "fdff3328",
   "metadata": {},
   "outputs": [
    {
     "name": "stdout",
     "output_type": "stream",
     "text": [
      "Columnas del dataset:  Index(['song_name', 'artist_name', 'album_name', 'lyrics', 'release_date',\n",
      "       'producers', 'tags'],\n",
      "      dtype='object')\n"
     ]
    },
    {
     "data": {
      "text/html": [
       "<div>\n",
       "<style scoped>\n",
       "    .dataframe tbody tr th:only-of-type {\n",
       "        vertical-align: middle;\n",
       "    }\n",
       "\n",
       "    .dataframe tbody tr th {\n",
       "        vertical-align: top;\n",
       "    }\n",
       "\n",
       "    .dataframe thead th {\n",
       "        text-align: right;\n",
       "    }\n",
       "</style>\n",
       "<table border=\"1\" class=\"dataframe\">\n",
       "  <thead>\n",
       "    <tr style=\"text-align: right;\">\n",
       "      <th></th>\n",
       "      <th>song_name</th>\n",
       "      <th>artist_name</th>\n",
       "      <th>album_name</th>\n",
       "      <th>lyrics</th>\n",
       "      <th>release_date</th>\n",
       "      <th>producers</th>\n",
       "      <th>tags</th>\n",
       "    </tr>\n",
       "  </thead>\n",
       "  <tbody>\n",
       "    <tr>\n",
       "      <th>0</th>\n",
       "      <td>ІНТЕРСІТІ (Intercity)</td>\n",
       "      <td>NORD DIVISION</td>\n",
       "      <td>АЗАРТ - EP</td>\n",
       "      <td>1 Contributor\\nІНТЕРСІТІ (Intercity) Lyrics\\nЗ...</td>\n",
       "      <td>March 1, 2025</td>\n",
       "      <td>[]</td>\n",
       "      <td>[Rap, Українською (In Ukrainian), Український ...</td>\n",
       "    </tr>\n",
       "    <tr>\n",
       "      <th>1</th>\n",
       "      <td>Ya ya</td>\n",
       "      <td>Hurriganes</td>\n",
       "      <td>Jailbird</td>\n",
       "      <td>1 Contributor\\nYa ya Lyrics\\nSitting in the la...</td>\n",
       "      <td>None</td>\n",
       "      <td>[]</td>\n",
       "      <td>[Pop]</td>\n",
       "    </tr>\n",
       "    <tr>\n",
       "      <th>2</th>\n",
       "      <td>#ДЕНЬГИБЛЯНУЖНЫМНЕ (#INEEDTHEFUCKINGMONEY)</td>\n",
       "      <td>huzzy b</td>\n",
       "      <td>None</td>\n",
       "      <td>3 Contributors\\n#ДЕНЬГИБЛЯНУЖНЫМНЕ (#INEEDTHEF...</td>\n",
       "      <td>August 23, 2024</td>\n",
       "      <td>[]</td>\n",
       "      <td>[Rap, Trap, Русский трэп (Russian Trap), Русск...</td>\n",
       "    </tr>\n",
       "    <tr>\n",
       "      <th>3</th>\n",
       "      <td>МАРЕВО (MIRAGE)</td>\n",
       "      <td>FCK FAMOUS GROUP</td>\n",
       "      <td>ХОРОШИЙ ПОГАНИЙ ЗЛИЙ (THE GOOD, THE BAD AND TH...</td>\n",
       "      <td>1 Contributor\\nМАРЕВО (MIRAGE) Lyrics\\nЯкий же...</td>\n",
       "      <td>February 14, 2025</td>\n",
       "      <td>[]</td>\n",
       "      <td>[Rap, Український реп (Ukrainian Rap), Україна...</td>\n",
       "    </tr>\n",
       "    <tr>\n",
       "      <th>4</th>\n",
       "      <td>Seni Kaybettim</td>\n",
       "      <td>Feridun Düzağaç</td>\n",
       "      <td>None</td>\n",
       "      <td>1 Contributor\\nSeni Kaybettim Lyrics\\n[\"Seni K...</td>\n",
       "      <td>August 2, 2024</td>\n",
       "      <td>[]</td>\n",
       "      <td>[Pop, Türkçe Pop, Türkçe, Türkiye]</td>\n",
       "    </tr>\n",
       "  </tbody>\n",
       "</table>\n",
       "</div>"
      ],
      "text/plain": [
       "                                    song_name       artist_name  \\\n",
       "0                       ІНТЕРСІТІ (Intercity)     NORD DIVISION   \n",
       "1                                       Ya ya        Hurriganes   \n",
       "2  #ДЕНЬГИБЛЯНУЖНЫМНЕ (#INEEDTHEFUCKINGMONEY)           huzzy b   \n",
       "3                             МАРЕВО (MIRAGE)  FCK FAMOUS GROUP   \n",
       "4                              Seni Kaybettim   Feridun Düzağaç   \n",
       "\n",
       "                                          album_name  \\\n",
       "0                                         АЗАРТ - EP   \n",
       "1                                           Jailbird   \n",
       "2                                               None   \n",
       "3  ХОРОШИЙ ПОГАНИЙ ЗЛИЙ (THE GOOD, THE BAD AND TH...   \n",
       "4                                               None   \n",
       "\n",
       "                                              lyrics       release_date  \\\n",
       "0  1 Contributor\\nІНТЕРСІТІ (Intercity) Lyrics\\nЗ...      March 1, 2025   \n",
       "1  1 Contributor\\nYa ya Lyrics\\nSitting in the la...               None   \n",
       "2  3 Contributors\\n#ДЕНЬГИБЛЯНУЖНЫМНЕ (#INEEDTHEF...    August 23, 2024   \n",
       "3  1 Contributor\\nМАРЕВО (MIRAGE) Lyrics\\nЯкий же...  February 14, 2025   \n",
       "4  1 Contributor\\nSeni Kaybettim Lyrics\\n[\"Seni K...     August 2, 2024   \n",
       "\n",
       "  producers                                               tags  \n",
       "0        []  [Rap, Українською (In Ukrainian), Український ...  \n",
       "1        []                                              [Pop]  \n",
       "2        []  [Rap, Trap, Русский трэп (Russian Trap), Русск...  \n",
       "3        []  [Rap, Український реп (Ukrainian Rap), Україна...  \n",
       "4        []                 [Pop, Türkçe Pop, Türkçe, Türkiye]  "
      ]
     },
     "execution_count": 149,
     "metadata": {},
     "output_type": "execute_result"
    }
   ],
   "source": [
    "import pandas as pd\n",
    "\n",
    "df = pd.read_json('./songs_fixed.json')\n",
    "print(\"Columnas del dataset: \",df.columns)\n",
    "df.head()"
   ]
  },
  {
   "cell_type": "markdown",
   "id": "bcff6c77",
   "metadata": {},
   "source": [
    "Para utilizar la librería NLTK se necesitan realizar ajustes adicionales"
   ]
  },
  {
   "cell_type": "code",
   "execution_count": 150,
   "id": "6a817994",
   "metadata": {},
   "outputs": [
    {
     "name": "stderr",
     "output_type": "stream",
     "text": [
      "[nltk_data] Downloading package punkt_tab to\n",
      "[nltk_data]     c:\\Users\\bugy1\\OneDrive\\Escritorio\\eda_raw_v2\\nltk_dat\n",
      "[nltk_data]     a...\n",
      "[nltk_data]   Package punkt_tab is already up-to-date!\n"
     ]
    }
   ],
   "source": [
    "import nltk\n",
    "from nltk.tokenize import word_tokenize\n",
    "import os\n",
    "\n",
    "ruta_descarga = os.path.join(os.getcwd(), 'nltk_data') # Descargar en el directorio actual\n",
    "nltk.download('punkt_tab', download_dir=ruta_descarga)\n",
    "\n",
    "# Agregar la ruta de descarga a las rutas de búsqueda de NLTK\n",
    "nltk.data.path.append(ruta_descarga)"
   ]
  },
  {
   "cell_type": "markdown",
   "id": "38c490e4",
   "metadata": {},
   "source": [
    "1. Determinar que puede considerarse como  ruido e implementar el conteo de ruido\n",
    "\n",
    "En este análisis, solo se tomarán en cuenta canciones cuyas letras estén escritas exclusivamente con caracteres alfanuméricos. Cualquier elemento de otros sistemas de escritura (como chino mandarín o japonés) se considerará ruido y se omitirá. De manera similar, se tratarán como ruido los símbolos de puntuación, los caracteres de escape, los símbolos musicales o artísticos, así como elementos HTML y marcas de tiempo (como '[13:55]'). El análisis se centrará principalmente en la columna 'lyrics'. "
   ]
  },
  {
   "cell_type": "code",
   "execution_count": null,
   "id": "34457722",
   "metadata": {},
   "outputs": [
    {
     "name": "stdout",
     "output_type": "stream",
     "text": [
      "Porcentaje de ruido total (promedio): 14.00%\n",
      "\n",
      "Primeras filas con su porcentaje:\n"
     ]
    },
    {
     "data": {
      "text/html": [
       "<div>\n",
       "<style scoped>\n",
       "    .dataframe tbody tr th:only-of-type {\n",
       "        vertical-align: middle;\n",
       "    }\n",
       "\n",
       "    .dataframe tbody tr th {\n",
       "        vertical-align: top;\n",
       "    }\n",
       "\n",
       "    .dataframe thead th {\n",
       "        text-align: right;\n",
       "    }\n",
       "</style>\n",
       "<table border=\"1\" class=\"dataframe\">\n",
       "  <thead>\n",
       "    <tr style=\"text-align: right;\">\n",
       "      <th></th>\n",
       "      <th>song_name</th>\n",
       "      <th>artist_name</th>\n",
       "      <th>porcentaje_ruido</th>\n",
       "    </tr>\n",
       "  </thead>\n",
       "  <tbody>\n",
       "    <tr>\n",
       "      <th>0</th>\n",
       "      <td>ІНТЕРСІТІ (Intercity)</td>\n",
       "      <td>NORD DIVISION</td>\n",
       "      <td>81.675593</td>\n",
       "    </tr>\n",
       "    <tr>\n",
       "      <th>1</th>\n",
       "      <td>Ya ya</td>\n",
       "      <td>Hurriganes</td>\n",
       "      <td>3.112840</td>\n",
       "    </tr>\n",
       "    <tr>\n",
       "      <th>2</th>\n",
       "      <td>#ДЕНЬГИБЛЯНУЖНЫМНЕ (#INEEDTHEFUCKINGMONEY)</td>\n",
       "      <td>huzzy b</td>\n",
       "      <td>70.614035</td>\n",
       "    </tr>\n",
       "    <tr>\n",
       "      <th>3</th>\n",
       "      <td>МАРЕВО (MIRAGE)</td>\n",
       "      <td>FCK FAMOUS GROUP</td>\n",
       "      <td>80.612245</td>\n",
       "    </tr>\n",
       "    <tr>\n",
       "      <th>4</th>\n",
       "      <td>Seni Kaybettim</td>\n",
       "      <td>Feridun Düzağaç</td>\n",
       "      <td>6.878762</td>\n",
       "    </tr>\n",
       "  </tbody>\n",
       "</table>\n",
       "</div>"
      ],
      "text/plain": [
       "                                    song_name       artist_name  \\\n",
       "0                       ІНТЕРСІТІ (Intercity)     NORD DIVISION   \n",
       "1                                       Ya ya        Hurriganes   \n",
       "2  #ДЕНЬГИБЛЯНУЖНЫМНЕ (#INEEDTHEFUCKINGMONEY)           huzzy b   \n",
       "3                             МАРЕВО (MIRAGE)  FCK FAMOUS GROUP   \n",
       "4                              Seni Kaybettim   Feridun Düzağaç   \n",
       "\n",
       "   porcentaje_ruido  \n",
       "0         81.675593  \n",
       "1          3.112840  \n",
       "2         70.614035  \n",
       "3         80.612245  \n",
       "4          6.878762  "
      ]
     },
     "execution_count": 151,
     "metadata": {},
     "output_type": "execute_result"
    }
   ],
   "source": [
    "import pandas as pd\n",
    "import re\n",
    "\n",
    "def calcular_ruido(texto, patron):\n",
    "    if not isinstance(texto, str) or len(texto) == 0:\n",
    "        return 0\n",
    "    caracteres_ruido = len(re.sub(patron, '', texto))\n",
    "    return (caracteres_ruido / len(texto)) * 100\n",
    "\n",
    "patron_permitido = re.compile(\n",
    "    r'[a-zA-ZáéíóúÁÉÍÓÚàèìòùÀÈÌÒÙäëïöüÄËÏÖÜâêîôûÂÊÎÔÛñÑçÇ\\s\\[\\]]', #Caracteres alfanuméricos y corchetes no vacíos\n",
    "    re.UNICODE\n",
    ")\n",
    "\n",
    "\n",
    "df['porcentaje_ruido'] = df['lyrics'].apply(calcular_ruido, args=(patron_permitido,))\n",
    "\n",
    "porcentaje_ruido_total = df['porcentaje_ruido'].mean()\n",
    "\n",
    "print(f\"Porcentaje de ruido total (promedio): {porcentaje_ruido_total:.2f}%\")\n",
    "print(\"\\nPrimeras filas con porcentaje de ruido:\")\n",
    "df[['song_name', 'artist_name', 'porcentaje_ruido']].head()"
   ]
  },
  {
   "cell_type": "markdown",
   "id": "1504582b",
   "metadata": {},
   "source": [
    "2. Eliminar el ruido y contar el ruido final (recuerda que no debe ser 0.0%, puede quedar algunas impurezas)\n",
    "\n",
    "Para este caso se considerará únicamente los idiomas inglés, portugues, francés y español, adicional a lo que se consideró como ruido también se debe quitar las frases \"1 contributor\" o sus variantes, al igual que todas las canciones comienzan con \"nombre_del_artista lyrics\". Existe de igual manera una variación de traducciones que existen en algunas canciones las cuales también se omitirán para este análisis. "
   ]
  },
  {
   "cell_type": "code",
   "execution_count": null,
   "id": "c770d1b1",
   "metadata": {},
   "outputs": [],
   "source": [
    "import re\n",
    "\n",
    "def limpiar_lyrics(texto):\n",
    "    if not isinstance(texto, str):\n",
    "        return \"\"\n",
    "    \n",
    "    patrones = [\n",
    "        r'\\d+\\s*contributors?',  # Elimina n_contribuidores Contributor(s) y sus variantes. Ej: \"3 contributors\"\n",
    "        r'.*lyrics\\s*',          # Elimina la frase cancion lyrics. Ej: \"Love Lyrics\"\n",
    "        r'\\[\\s*\\]',              # Corchetes vacíos []\n",
    "        r'translations?\\s*\\w+\\s*\\w+',  # Elimina variaciónes de traducción. Ej: \"translation español svenska\"\n",
    "        r'\\b(?:lyrics|translation|traducción|versión)\\b.*\\n?',  # Variantes comunes\n",
    "        r'\\b\\w+\\s*:\\s*\\w+',      # Elimina expansión de la anterior expresión. Ej: \"español: svenska\"\n",
    "        r'^\\s*[\\w\\s]+\\|\\s*[\\w\\s]+$',  # Elimina expansión de las anteriores expresiones Ej: \"english | français\"\n",
    "    ]\n",
    "    \n",
    "    for patron in patrones:\n",
    "        texto = re.sub(patron, ' ', texto, flags=re.IGNORECASE)\n",
    "    \n",
    "    # Elimina más de espacios y líneas vacías\n",
    "    texto = re.sub(r'\\s+', ' ', texto).strip()\n",
    "    \n",
    "    return texto"
   ]
  },
  {
   "cell_type": "markdown",
   "id": "7dc2a5f1",
   "metadata": {},
   "source": [
    "Para la detección de idioma se hace uso de una librería llamada langdetect"
   ]
  },
  {
   "cell_type": "code",
   "execution_count": 153,
   "id": "2191d692",
   "metadata": {},
   "outputs": [
    {
     "name": "stdout",
     "output_type": "stream",
     "text": [
      "Total original: 10098 | Filtrado: 6556\n",
      "idioma\n",
      "en    5239\n",
      "es     724\n",
      "pt     318\n",
      "fr     275\n",
      "Name: count, dtype: int64\n"
     ]
    }
   ],
   "source": [
    "from langdetect import detect, DetectorFactory\n",
    "\n",
    "\n",
    "DetectorFactory.seed = 0  # Semilla que evita la aleatoriedad en los resultados\n",
    "\n",
    "def detectar_idioma(texto):\n",
    "    try:\n",
    "        if not isinstance(texto, str) or len(texto.strip()) < 20:  # Filtra textos muy cortos o que no sean texto\n",
    "            return None\n",
    "        idioma = detect(texto)\n",
    "        # Los idiomas a filtrar son español, inglés, francés y portugues\n",
    "        return idioma if idioma in ['es', 'en', 'fr', 'pt'] else None \n",
    "    except:\n",
    "        return None  # Si no detecta nada\n",
    "    \n",
    "df_limpio = df.copy()\n",
    "df_limpio['lyrics'] = df_limpio['lyrics'].apply(limpiar_lyrics)\n",
    "\n",
    "\n",
    "df_limpio['idioma'] = df_limpio['lyrics'].apply(detectar_idioma)  \n",
    "df_filtrado = df_limpio.copy()\n",
    "df_filtrado = df_filtrado.dropna(subset=['idioma'])  # Filtra las filas por idioma\n",
    "\n",
    "# Resultado\n",
    "print(f\"Total original: {len(df)} | Filtrado: {len(df_filtrado)}\")\n",
    "print(df_filtrado['idioma'].value_counts())  # Conteo por idioma"
   ]
  },
  {
   "cell_type": "code",
   "execution_count": 154,
   "id": "ecff7cc3",
   "metadata": {},
   "outputs": [
    {
     "name": "stdout",
     "output_type": "stream",
     "text": [
      "Antes de limpiar:\n",
      "- Porcentaje promedio de ruido original: 14.00%\n",
      "Después de limpiar:\n",
      "- Porcentaje promedio de ruido en df_filtrado: 4.68%\n"
     ]
    },
    {
     "data": {
      "text/html": [
       "<div>\n",
       "<style scoped>\n",
       "    .dataframe tbody tr th:only-of-type {\n",
       "        vertical-align: middle;\n",
       "    }\n",
       "\n",
       "    .dataframe tbody tr th {\n",
       "        vertical-align: top;\n",
       "    }\n",
       "\n",
       "    .dataframe thead th {\n",
       "        text-align: right;\n",
       "    }\n",
       "</style>\n",
       "<table border=\"1\" class=\"dataframe\">\n",
       "  <thead>\n",
       "    <tr style=\"text-align: right;\">\n",
       "      <th></th>\n",
       "      <th>song_name</th>\n",
       "      <th>artist_name</th>\n",
       "      <th>album_name</th>\n",
       "      <th>lyrics</th>\n",
       "      <th>release_date</th>\n",
       "      <th>producers</th>\n",
       "      <th>tags</th>\n",
       "      <th>porcentaje_ruido</th>\n",
       "      <th>idioma</th>\n",
       "      <th>porcentaje_ruido_limpio</th>\n",
       "    </tr>\n",
       "  </thead>\n",
       "  <tbody>\n",
       "    <tr>\n",
       "      <th>1</th>\n",
       "      <td>Ya ya</td>\n",
       "      <td>Hurriganes</td>\n",
       "      <td>Jailbird</td>\n",
       "      <td>Sitting in the la la Waiting for the ya ya, uh...</td>\n",
       "      <td>None</td>\n",
       "      <td>[]</td>\n",
       "      <td>[Pop]</td>\n",
       "      <td>3.112840</td>\n",
       "      <td>en</td>\n",
       "      <td>3.043478</td>\n",
       "    </tr>\n",
       "    <tr>\n",
       "      <th>7</th>\n",
       "      <td>You Already Know</td>\n",
       "      <td>Fergie</td>\n",
       "      <td>Double Dutchess (Target Exclusive)</td>\n",
       "      <td>[Part I] [ &amp; Nicki Minaj ] Life's a movie, let...</td>\n",
       "      <td>August 25, 2017</td>\n",
       "      <td>[]</td>\n",
       "      <td>[R&amp;B, Rap, Pop, USA, In English, Electro-Hop, ...</td>\n",
       "      <td>5.072793</td>\n",
       "      <td>en</td>\n",
       "      <td>4.873387</td>\n",
       "    </tr>\n",
       "    <tr>\n",
       "      <th>11</th>\n",
       "      <td>Our Embrace</td>\n",
       "      <td>Uneven Structure</td>\n",
       "      <td>La Partition</td>\n",
       "      <td>You processed me to bile, vulgar and featurele...</td>\n",
       "      <td>None</td>\n",
       "      <td>[]</td>\n",
       "      <td>[Rock]</td>\n",
       "      <td>0.608696</td>\n",
       "      <td>en</td>\n",
       "      <td>0.537153</td>\n",
       "    </tr>\n",
       "    <tr>\n",
       "      <th>12</th>\n",
       "      <td>Higher quiddity</td>\n",
       "      <td>Uneven Structure</td>\n",
       "      <td>None</td>\n",
       "      <td>Being tricked as a tool of anti-evolution A po...</td>\n",
       "      <td>None</td>\n",
       "      <td>[]</td>\n",
       "      <td>[Pop]</td>\n",
       "      <td>1.129944</td>\n",
       "      <td>en</td>\n",
       "      <td>0.714286</td>\n",
       "    </tr>\n",
       "    <tr>\n",
       "      <th>13</th>\n",
       "      <td>Egocentric Focus</td>\n",
       "      <td>Uneven Structure</td>\n",
       "      <td>8 - EP</td>\n",
       "      <td>With that egocentric focus The unending whirl ...</td>\n",
       "      <td>None</td>\n",
       "      <td>[]</td>\n",
       "      <td>[Pop]</td>\n",
       "      <td>1.184834</td>\n",
       "      <td>en</td>\n",
       "      <td>1.041667</td>\n",
       "    </tr>\n",
       "  </tbody>\n",
       "</table>\n",
       "</div>"
      ],
      "text/plain": [
       "           song_name       artist_name                          album_name  \\\n",
       "1              Ya ya        Hurriganes                            Jailbird   \n",
       "7   You Already Know            Fergie  Double Dutchess (Target Exclusive)   \n",
       "11       Our Embrace  Uneven Structure                        La Partition   \n",
       "12   Higher quiddity  Uneven Structure                                None   \n",
       "13  Egocentric Focus  Uneven Structure                              8 - EP   \n",
       "\n",
       "                                               lyrics     release_date  \\\n",
       "1   Sitting in the la la Waiting for the ya ya, uh...             None   \n",
       "7   [Part I] [ & Nicki Minaj ] Life's a movie, let...  August 25, 2017   \n",
       "11  You processed me to bile, vulgar and featurele...             None   \n",
       "12  Being tricked as a tool of anti-evolution A po...             None   \n",
       "13  With that egocentric focus The unending whirl ...             None   \n",
       "\n",
       "   producers                                               tags  \\\n",
       "1         []                                              [Pop]   \n",
       "7         []  [R&B, Rap, Pop, USA, In English, Electro-Hop, ...   \n",
       "11        []                                             [Rock]   \n",
       "12        []                                              [Pop]   \n",
       "13        []                                              [Pop]   \n",
       "\n",
       "    porcentaje_ruido idioma  porcentaje_ruido_limpio  \n",
       "1           3.112840     en                 3.043478  \n",
       "7           5.072793     en                 4.873387  \n",
       "11          0.608696     en                 0.537153  \n",
       "12          1.129944     en                 0.714286  \n",
       "13          1.184834     en                 1.041667  "
      ]
     },
     "execution_count": 154,
     "metadata": {},
     "output_type": "execute_result"
    }
   ],
   "source": [
    "df_filtrado['porcentaje_ruido_limpio'] = df_filtrado['lyrics'].apply(calcular_ruido,args=(patron_permitido,))\n",
    "\n",
    "print(\"Antes de limpiar:\")\n",
    "print(f\"- Porcentaje promedio de ruido original: {df['porcentaje_ruido'].mean():.2f}%\")\n",
    "\n",
    "print(\"Después de limpiar:\")\n",
    "print(f\"- Porcentaje promedio de ruido en df_filtrado: {df_filtrado['porcentaje_ruido_limpio'].mean():.2f}%\")\n",
    "\n",
    "df_filtrado.head()"
   ]
  },
  {
   "cell_type": "markdown",
   "id": "ceba8e09",
   "metadata": {},
   "source": [
    "Para el caso anterior, el ruido restante puede deberse a que no se omitieron los corchetes ya que estos albergan información acerca de los coros, versos, etc."
   ]
  },
  {
   "cell_type": "markdown",
   "id": "d5358bfa",
   "metadata": {},
   "source": [
    "3. Normalizar etiquetas de tipo [intro][chorus], etc."
   ]
  },
  {
   "cell_type": "code",
   "execution_count": 155,
   "id": "34eba18a",
   "metadata": {},
   "outputs": [
    {
     "data": {
      "text/html": [
       "<div>\n",
       "<style scoped>\n",
       "    .dataframe tbody tr th:only-of-type {\n",
       "        vertical-align: middle;\n",
       "    }\n",
       "\n",
       "    .dataframe tbody tr th {\n",
       "        vertical-align: top;\n",
       "    }\n",
       "\n",
       "    .dataframe thead th {\n",
       "        text-align: right;\n",
       "    }\n",
       "</style>\n",
       "<table border=\"1\" class=\"dataframe\">\n",
       "  <thead>\n",
       "    <tr style=\"text-align: right;\">\n",
       "      <th></th>\n",
       "      <th>song_name</th>\n",
       "      <th>artist_name</th>\n",
       "      <th>album_name</th>\n",
       "      <th>lyrics</th>\n",
       "      <th>release_date</th>\n",
       "      <th>producers</th>\n",
       "      <th>tags</th>\n",
       "      <th>porcentaje_ruido</th>\n",
       "      <th>idioma</th>\n",
       "      <th>porcentaje_ruido_limpio</th>\n",
       "    </tr>\n",
       "  </thead>\n",
       "  <tbody>\n",
       "    <tr>\n",
       "      <th>1</th>\n",
       "      <td>Ya ya</td>\n",
       "      <td>Hurriganes</td>\n",
       "      <td>Jailbird</td>\n",
       "      <td>Sitting in the la la Waiting for the ya ya, uh...</td>\n",
       "      <td>None</td>\n",
       "      <td>[]</td>\n",
       "      <td>[Pop]</td>\n",
       "      <td>3.112840</td>\n",
       "      <td>en</td>\n",
       "      <td>3.043478</td>\n",
       "    </tr>\n",
       "    <tr>\n",
       "      <th>7</th>\n",
       "      <td>You Already Know</td>\n",
       "      <td>Fergie</td>\n",
       "      <td>Double Dutchess (Target Exclusive)</td>\n",
       "      <td>[part]  Life's a movie, let the camera roll Fa...</td>\n",
       "      <td>August 25, 2017</td>\n",
       "      <td>[]</td>\n",
       "      <td>[R&amp;B, Rap, Pop, USA, In English, Electro-Hop, ...</td>\n",
       "      <td>5.072793</td>\n",
       "      <td>en</td>\n",
       "      <td>4.873387</td>\n",
       "    </tr>\n",
       "    <tr>\n",
       "      <th>11</th>\n",
       "      <td>Our Embrace</td>\n",
       "      <td>Uneven Structure</td>\n",
       "      <td>La Partition</td>\n",
       "      <td>You processed me to bile, vulgar and featurele...</td>\n",
       "      <td>None</td>\n",
       "      <td>[]</td>\n",
       "      <td>[Rock]</td>\n",
       "      <td>0.608696</td>\n",
       "      <td>en</td>\n",
       "      <td>0.537153</td>\n",
       "    </tr>\n",
       "    <tr>\n",
       "      <th>12</th>\n",
       "      <td>Higher quiddity</td>\n",
       "      <td>Uneven Structure</td>\n",
       "      <td>None</td>\n",
       "      <td>Being tricked as a tool of anti-evolution A po...</td>\n",
       "      <td>None</td>\n",
       "      <td>[]</td>\n",
       "      <td>[Pop]</td>\n",
       "      <td>1.129944</td>\n",
       "      <td>en</td>\n",
       "      <td>0.714286</td>\n",
       "    </tr>\n",
       "    <tr>\n",
       "      <th>13</th>\n",
       "      <td>Egocentric Focus</td>\n",
       "      <td>Uneven Structure</td>\n",
       "      <td>8 - EP</td>\n",
       "      <td>With that egocentric focus The unending whirl ...</td>\n",
       "      <td>None</td>\n",
       "      <td>[]</td>\n",
       "      <td>[Pop]</td>\n",
       "      <td>1.184834</td>\n",
       "      <td>en</td>\n",
       "      <td>1.041667</td>\n",
       "    </tr>\n",
       "  </tbody>\n",
       "</table>\n",
       "</div>"
      ],
      "text/plain": [
       "           song_name       artist_name                          album_name  \\\n",
       "1              Ya ya        Hurriganes                            Jailbird   \n",
       "7   You Already Know            Fergie  Double Dutchess (Target Exclusive)   \n",
       "11       Our Embrace  Uneven Structure                        La Partition   \n",
       "12   Higher quiddity  Uneven Structure                                None   \n",
       "13  Egocentric Focus  Uneven Structure                              8 - EP   \n",
       "\n",
       "                                               lyrics     release_date  \\\n",
       "1   Sitting in the la la Waiting for the ya ya, uh...             None   \n",
       "7   [part]  Life's a movie, let the camera roll Fa...  August 25, 2017   \n",
       "11  You processed me to bile, vulgar and featurele...             None   \n",
       "12  Being tricked as a tool of anti-evolution A po...             None   \n",
       "13  With that egocentric focus The unending whirl ...             None   \n",
       "\n",
       "   producers                                               tags  \\\n",
       "1         []                                              [Pop]   \n",
       "7         []  [R&B, Rap, Pop, USA, In English, Electro-Hop, ...   \n",
       "11        []                                             [Rock]   \n",
       "12        []                                              [Pop]   \n",
       "13        []                                              [Pop]   \n",
       "\n",
       "    porcentaje_ruido idioma  porcentaje_ruido_limpio  \n",
       "1           3.112840     en                 3.043478  \n",
       "7           5.072793     en                 4.873387  \n",
       "11          0.608696     en                 0.537153  \n",
       "12          1.129944     en                 0.714286  \n",
       "13          1.184834     en                 1.041667  "
      ]
     },
     "execution_count": 155,
     "metadata": {},
     "output_type": "execute_result"
    }
   ],
   "source": [
    "import re\n",
    "\n",
    "def procesar_etiqueta(match):\n",
    "\n",
    "    contenido = match.group(1)  \n",
    "    \n",
    "    # Tomar solo la primera palabra y limpiar caracteres\n",
    "    primera_palabra = re.split(r'[\\s\\-_]', contenido)[0]  # Separa por espacios, guiones o subrayados\n",
    "    palabra_limpia = re.sub(r'[^a-zA-ZáéíóúÁÉÍÓÚñÑ]', '', primera_palabra).lower() # Caracteres alfanuméricos y pasa a minúsculas\n",
    "    \n",
    "    return f\"[{palabra_limpia}]\" if palabra_limpia else \"\" \n",
    "\n",
    "def normalizar_etiquetas(texto):\n",
    "    if not isinstance(texto, str): #Si no es texto\n",
    "        return texto\n",
    "    \n",
    "    return re.sub(r'\\[([^\\]]+)\\]', procesar_etiqueta, texto) #Retorna la etiqueta normalizada con una sola palabra\n",
    "\n",
    "df_filtrado['lyrics'] = df_filtrado['lyrics'].apply(normalizar_etiquetas)\n",
    "\n",
    "df_filtrado.head()"
   ]
  },
  {
   "cell_type": "markdown",
   "id": "4a770761",
   "metadata": {},
   "source": [
    "4. Enmascarar las etiquetas anteriores\n"
   ]
  },
  {
   "cell_type": "code",
   "execution_count": null,
   "id": "6cced406",
   "metadata": {},
   "outputs": [
    {
     "data": {
      "text/plain": [
       "\"<justin> There comes a time When we heed a certain call <nicole> When the world must come together as one <jennifer> There are people dying <jennifer> And it's time to lend a hand to life <jennifer> The greatest gift of all <josh> We can't go on Pretending day by day <tony> That someone somehow will soon make a change <mary> We are all a part of God's great big family And the truth, you know <mary> Love is all we need  We are the world We are the children We are the ones who make a brighter day So let's start giving There's a choice we're making We're saving our own lives It's true we'll make a better day Just you and me <verse> Well, send them your heart So they'll know that someone cares So their cries for help Will not be in vain We can't let them suffer No, we cannot turn away Right now they need a helping hand  Nou sé mond la We are the Children We are the ones who make a brighter day So let's start giving There's a choice we're making We're saving our own lives It's true we'll make a better day Just you and me <verse> When you're down and out And there seems no hope at all But if you just believe There's no way we can fall Well, well, well, let us realize That a change can only come when we Stand together as one <chorus> <everyone> We are the world We are the children We are the ones who make a brighter day So let's start giving <nick> Better start giving <everyone> There's a choice we're making We're saving our own lives <toni> It's true we'll make a better day Just you and me <mary> We are the world We are the children <tony> It's for the children <isaac> We are the ones who make a brighter day <toni> So let's start giving <lil> There's a choice we're making We're saving our own lives It's true we'll make a better day Just you and me <everyone> We are the world We are the children We are the ones who make a brighter day So let's start giving <akon> There's a choice we're making We're saving our own lives It's true we make a better day Just you and me <fergie> Come on now let me hear you <t> We are the world We are the children We are the ones who make a brighter day So let's start giving <jamie> Choice were making Saving our own lives It's true we'll make a better day Just you and me <verse> We all need somebody that we can lean on When you wake up look around and see that your dream's gone When the earthquakes we'll help you make it through the storm When the floor breaks a magic carpet to stand on We are the world united by love so strong When the radio isn't on you can hear the songs A guided light on the dark road you're walking on A signpost to find the dreams you thought was gone Someone to help you move the obstacles you stumbled on Someone to help you rebuild after the rubble's gone We are the world connected by a common bond Love the whole planet's singing along  We are the world We are the children We are the ones who make a brighter day So let's start giving There's a choice we're making We're saving our own lives It's true we make a better day Just you and me  Everyday citizens Everybody pitching in Nou sé mond la Nou sé timoun yo You and I You and I Uh, twelve days, no water What's your will to live? We amplified the love we watching multiply Feeling like the world's end We can make the world win Like Katrina, Africa, Indonesia And now Haiti needs us, they need us, they need us  We are the world We are the children We are the ones who make a brighter day So let's start giving Nou sé mond la There's a choice we're making We're saving our own lives It's true we make a better day Just you and me  Haiti, Haiti, ha, ha, ha, ha, ha Haiti, Haiti, ha, ha, ha, ha, ha Haiti, Haiti, ha, ha, ha, ha, ha Haiti\""
      ]
     },
     "execution_count": 156,
     "metadata": {},
     "output_type": "execute_result"
    }
   ],
   "source": [
    "def enmascarar_etiquetas(texto):\n",
    "    if not isinstance(texto, str):\n",
    "        return \"\"\n",
    "    \n",
    "    # Reemplaza [etiqueta] por <etiqueta> a través de grupos\n",
    "    return re.sub(r'\\[([^\\]]+)\\]', r'<\\1>', texto)\n",
    "\n",
    "df_filtrado['lyrics'] = df_filtrado['lyrics'].apply(enmascarar_etiquetas)\n",
    "\n",
    "df_con_chorus = df_filtrado[df_filtrado['lyrics'].str.contains(\"chorus\", case=False, na=False)]\n",
    "#Ejemplo de chorus\n",
    "df_con_chorus.iloc[8]['lyrics']"
   ]
  },
  {
   "cell_type": "markdown",
   "id": "8e4ad17c",
   "metadata": {},
   "source": [
    "5. Aplicar expansiones \n",
    "\n",
    "Para este caso se podrían quitar las contracciones inicialmente con el texto normalizado"
   ]
  },
  {
   "cell_type": "code",
   "execution_count": 157,
   "id": "86c081ee",
   "metadata": {},
   "outputs": [],
   "source": [
    "import contractions\n",
    "\n",
    "df_filtrado['lyrics'] = df_filtrado['lyrics'].str.normalize('NFKC')\n",
    "df_filtrado['lyrics'] = df_filtrado['lyrics'].str.lower()\n",
    "df_filtrado['lyrics']=df_filtrado['lyrics'].apply(contractions.fix)"
   ]
  },
  {
   "cell_type": "markdown",
   "id": "40e2dc39",
   "metadata": {},
   "source": [
    "6. Tokenización\n",
    "\n"
   ]
  },
  {
   "cell_type": "code",
   "execution_count": 158,
   "id": "0c62c35e",
   "metadata": {},
   "outputs": [
    {
     "data": {
      "text/html": [
       "<div>\n",
       "<style scoped>\n",
       "    .dataframe tbody tr th:only-of-type {\n",
       "        vertical-align: middle;\n",
       "    }\n",
       "\n",
       "    .dataframe tbody tr th {\n",
       "        vertical-align: top;\n",
       "    }\n",
       "\n",
       "    .dataframe thead th {\n",
       "        text-align: right;\n",
       "    }\n",
       "</style>\n",
       "<table border=\"1\" class=\"dataframe\">\n",
       "  <thead>\n",
       "    <tr style=\"text-align: right;\">\n",
       "      <th></th>\n",
       "      <th>song_name</th>\n",
       "      <th>artist_name</th>\n",
       "      <th>album_name</th>\n",
       "      <th>lyrics</th>\n",
       "      <th>release_date</th>\n",
       "      <th>producers</th>\n",
       "      <th>tags</th>\n",
       "      <th>porcentaje_ruido</th>\n",
       "      <th>idioma</th>\n",
       "      <th>porcentaje_ruido_limpio</th>\n",
       "      <th>tokens</th>\n",
       "    </tr>\n",
       "  </thead>\n",
       "  <tbody>\n",
       "    <tr>\n",
       "      <th>1</th>\n",
       "      <td>Ya ya</td>\n",
       "      <td>Hurriganes</td>\n",
       "      <td>Jailbird</td>\n",
       "      <td>sitting in the la la waiting for the ya ya, uh...</td>\n",
       "      <td>None</td>\n",
       "      <td>[]</td>\n",
       "      <td>[Pop]</td>\n",
       "      <td>3.112840</td>\n",
       "      <td>en</td>\n",
       "      <td>3.043478</td>\n",
       "      <td>[sitting, in, the, la, la, waiting, for, the, ...</td>\n",
       "    </tr>\n",
       "    <tr>\n",
       "      <th>7</th>\n",
       "      <td>You Already Know</td>\n",
       "      <td>Fergie</td>\n",
       "      <td>Double Dutchess (Target Exclusive)</td>\n",
       "      <td>&lt;part&gt;  life's a movie, let the camera roll fa...</td>\n",
       "      <td>August 25, 2017</td>\n",
       "      <td>[]</td>\n",
       "      <td>[R&amp;B, Rap, Pop, USA, In English, Electro-Hop, ...</td>\n",
       "      <td>5.072793</td>\n",
       "      <td>en</td>\n",
       "      <td>4.873387</td>\n",
       "      <td>[&lt;, part, &gt;, life, 's, a, movie, ,, let, the, ...</td>\n",
       "    </tr>\n",
       "    <tr>\n",
       "      <th>14</th>\n",
       "      <td>#AYFKM (Freestyle)</td>\n",
       "      <td>ECKO</td>\n",
       "      <td>None</td>\n",
       "      <td>&lt;letra&gt; &lt;intro&gt; ey (young golden) ajá okay (or...</td>\n",
       "      <td>August 30, 2019</td>\n",
       "      <td>[]</td>\n",
       "      <td>[Rap, Freestyle, Argentina, En Español, Trap, ...</td>\n",
       "      <td>8.265802</td>\n",
       "      <td>es</td>\n",
       "      <td>8.232044</td>\n",
       "      <td>[&lt;, letra, &gt;, &lt;, intro, &gt;, ey, (, young, golde...</td>\n",
       "    </tr>\n",
       "    <tr>\n",
       "      <th>20</th>\n",
       "      <td>Ecko: Bzrp Freestyle Sessions, Vol. 5</td>\n",
       "      <td>Bizarrap</td>\n",
       "      <td>BZRP Freestyle Sessions</td>\n",
       "      <td>&lt;letra&gt;  (ey) ey ajá  se paraliza el track sue...</td>\n",
       "      <td>March 23, 2019</td>\n",
       "      <td>[]</td>\n",
       "      <td>[Rap, Latin Urban, Argentina, Freestyle, Latin...</td>\n",
       "      <td>3.886256</td>\n",
       "      <td>es</td>\n",
       "      <td>3.319502</td>\n",
       "      <td>[&lt;, letra, &gt;, (, ey, ), ey, ajá, se, paraliza,...</td>\n",
       "    </tr>\n",
       "    <tr>\n",
       "      <th>673</th>\n",
       "      <td>A Saudade Continua</td>\n",
       "      <td>509-E</td>\n",
       "      <td>MMII DC (2002 Depois de Cristo)</td>\n",
       "      <td>&lt;intro&gt; oh o carteiro! brigada viu.. vai com d...</td>\n",
       "      <td>February 5, 2002</td>\n",
       "      <td>[]</td>\n",
       "      <td>[Rap, Brasil, Em Português]</td>\n",
       "      <td>2.765648</td>\n",
       "      <td>pt</td>\n",
       "      <td>2.515567</td>\n",
       "      <td>[&lt;, intro, &gt;, oh, o, carteiro, !, brigada, viu...</td>\n",
       "    </tr>\n",
       "    <tr>\n",
       "      <th>674</th>\n",
       "      <td>Apenas um Sonho</td>\n",
       "      <td>509-E</td>\n",
       "      <td>MMII DC (2002 Depois de Cristo)</td>\n",
       "      <td>eu logo saio daqui, e vou voltar a sorrir, tri...</td>\n",
       "      <td>None</td>\n",
       "      <td>[]</td>\n",
       "      <td>[Rap, Brasil, Em Português]</td>\n",
       "      <td>3.449198</td>\n",
       "      <td>pt</td>\n",
       "      <td>3.457590</td>\n",
       "      <td>[eu, logo, saio, daqui, ,, e, vou, voltar, a, ...</td>\n",
       "    </tr>\n",
       "    <tr>\n",
       "      <th>1062</th>\n",
       "      <td>Galactique</td>\n",
       "      <td>1D1R</td>\n",
       "      <td>Meraki</td>\n",
       "      <td>&lt;paroles&gt; &lt;couplet&gt; toujours pas raisonnable, ...</td>\n",
       "      <td>March 21, 2025</td>\n",
       "      <td>[]</td>\n",
       "      <td>[Rap, En Français, French Rap, France]</td>\n",
       "      <td>6.165590</td>\n",
       "      <td>fr</td>\n",
       "      <td>6.227545</td>\n",
       "      <td>[&lt;, paroles, &gt;, &lt;, couplet, &gt;, toujours, pas, ...</td>\n",
       "    </tr>\n",
       "    <tr>\n",
       "      <th>1063</th>\n",
       "      <td>10x10</td>\n",
       "      <td>1D1R</td>\n",
       "      <td>Meraki</td>\n",
       "      <td>&lt;paroles&gt; &lt;couplet&gt; j’ai pas l’temps, j’vais p...</td>\n",
       "      <td>March 21, 2025</td>\n",
       "      <td>[]</td>\n",
       "      <td>[Rap, En Français, France, French Rap]</td>\n",
       "      <td>8.555400</td>\n",
       "      <td>fr</td>\n",
       "      <td>7.754801</td>\n",
       "      <td>[&lt;, paroles, &gt;, &lt;, couplet, &gt;, j, ’, ai, pas, ...</td>\n",
       "    </tr>\n",
       "  </tbody>\n",
       "</table>\n",
       "</div>"
      ],
      "text/plain": [
       "                                  song_name artist_name  \\\n",
       "1                                     Ya ya  Hurriganes   \n",
       "7                          You Already Know      Fergie   \n",
       "14                       #AYFKM (Freestyle)        ECKO   \n",
       "20    Ecko: Bzrp Freestyle Sessions, Vol. 5    Bizarrap   \n",
       "673                      A Saudade Continua       509-E   \n",
       "674                         Apenas um Sonho       509-E   \n",
       "1062                             Galactique        1D1R   \n",
       "1063                                  10x10        1D1R   \n",
       "\n",
       "                              album_name  \\\n",
       "1                               Jailbird   \n",
       "7     Double Dutchess (Target Exclusive)   \n",
       "14                                  None   \n",
       "20               BZRP Freestyle Sessions   \n",
       "673      MMII DC (2002 Depois de Cristo)   \n",
       "674      MMII DC (2002 Depois de Cristo)   \n",
       "1062                              Meraki   \n",
       "1063                              Meraki   \n",
       "\n",
       "                                                 lyrics      release_date  \\\n",
       "1     sitting in the la la waiting for the ya ya, uh...              None   \n",
       "7     <part>  life's a movie, let the camera roll fa...   August 25, 2017   \n",
       "14    <letra> <intro> ey (young golden) ajá okay (or...   August 30, 2019   \n",
       "20    <letra>  (ey) ey ajá  se paraliza el track sue...    March 23, 2019   \n",
       "673   <intro> oh o carteiro! brigada viu.. vai com d...  February 5, 2002   \n",
       "674   eu logo saio daqui, e vou voltar a sorrir, tri...              None   \n",
       "1062  <paroles> <couplet> toujours pas raisonnable, ...    March 21, 2025   \n",
       "1063  <paroles> <couplet> j’ai pas l’temps, j’vais p...    March 21, 2025   \n",
       "\n",
       "     producers                                               tags  \\\n",
       "1           []                                              [Pop]   \n",
       "7           []  [R&B, Rap, Pop, USA, In English, Electro-Hop, ...   \n",
       "14          []  [Rap, Freestyle, Argentina, En Español, Trap, ...   \n",
       "20          []  [Rap, Latin Urban, Argentina, Freestyle, Latin...   \n",
       "673         []                        [Rap, Brasil, Em Português]   \n",
       "674         []                        [Rap, Brasil, Em Português]   \n",
       "1062        []             [Rap, En Français, French Rap, France]   \n",
       "1063        []             [Rap, En Français, France, French Rap]   \n",
       "\n",
       "      porcentaje_ruido idioma  porcentaje_ruido_limpio  \\\n",
       "1             3.112840     en                 3.043478   \n",
       "7             5.072793     en                 4.873387   \n",
       "14            8.265802     es                 8.232044   \n",
       "20            3.886256     es                 3.319502   \n",
       "673           2.765648     pt                 2.515567   \n",
       "674           3.449198     pt                 3.457590   \n",
       "1062          6.165590     fr                 6.227545   \n",
       "1063          8.555400     fr                 7.754801   \n",
       "\n",
       "                                                 tokens  \n",
       "1     [sitting, in, the, la, la, waiting, for, the, ...  \n",
       "7     [<, part, >, life, 's, a, movie, ,, let, the, ...  \n",
       "14    [<, letra, >, <, intro, >, ey, (, young, golde...  \n",
       "20    [<, letra, >, (, ey, ), ey, ajá, se, paraliza,...  \n",
       "673   [<, intro, >, oh, o, carteiro, !, brigada, viu...  \n",
       "674   [eu, logo, saio, daqui, ,, e, vou, voltar, a, ...  \n",
       "1062  [<, paroles, >, <, couplet, >, toujours, pas, ...  \n",
       "1063  [<, paroles, >, <, couplet, >, j, ’, ai, pas, ...  "
      ]
     },
     "execution_count": 158,
     "metadata": {},
     "output_type": "execute_result"
    }
   ],
   "source": [
    "import nltk\n",
    "from nltk.tokenize import word_tokenize\n",
    "\n",
    "mapeo_idiomas = {\n",
    "    'en': 'english',\n",
    "    'es': 'spanish',\n",
    "    'fr': 'french',\n",
    "    'pt': 'portuguese'\n",
    "}\n",
    "\n",
    "def tokenizar_por_idioma(fila):\n",
    "    texto = fila['lyrics']\n",
    "    lang = fila['idioma']\n",
    "    \n",
    "    if not isinstance(texto, str) or lang not in mapeo_idiomas:\n",
    "        return []\n",
    "    \n",
    "    return word_tokenize(texto, language=mapeo_idiomas[lang])\n",
    "\n",
    "df_filtrado['tokens'] = df_filtrado.apply(tokenizar_por_idioma, axis=1)\n",
    "\n",
    "#Dos muestras por idioma\n",
    "muestras_por_idioma = df_filtrado.groupby('idioma').head(2)\n",
    "muestras_por_idioma.head(8)"
   ]
  },
  {
   "cell_type": "markdown",
   "id": "45ad69ae",
   "metadata": {},
   "source": [
    "7. Identificar repeticiones y realizar algun tratamiento"
   ]
  },
  {
   "cell_type": "code",
   "execution_count": 159,
   "id": "0a6a0e9c",
   "metadata": {},
   "outputs": [],
   "source": [
    "def quitar_repeticiones(texto):\n",
    "    if not isinstance(texto, str):\n",
    "        return texto\n",
    "    # Elimina palabras repetidas consecutivas \n",
    "    return re.sub(r'\\b(\\w+)(\\s+\\1\\b)+', r'\\1', texto, flags=re.IGNORECASE)\n",
    "\n",
    "def quitar_repeticiones_en_tokens(tokens):\n",
    "    if not isinstance(tokens, list):\n",
    "        return tokens\n",
    "    \n",
    "    tokens_limpios = []\n",
    "    prev_token = None\n",
    "    \n",
    "    for token in tokens:\n",
    "        if token != prev_token:  # Solo se agrega si el token no es igual al anterior\n",
    "            tokens_limpios.append(token)\n",
    "            prev_token = token\n",
    "    \n",
    "    return tokens_limpios\n",
    "\n",
    "df_filtrado['lyrics'] = df_filtrado['lyrics'].apply(quitar_repeticiones)\n",
    "df_filtrado['tokens'] = df_filtrado['tokens'].apply(quitar_repeticiones_en_tokens)\n"
   ]
  },
  {
   "cell_type": "code",
   "execution_count": 160,
   "id": "6bba4a4f",
   "metadata": {},
   "outputs": [
    {
     "data": {
      "text/html": [
       "<div>\n",
       "<style scoped>\n",
       "    .dataframe tbody tr th:only-of-type {\n",
       "        vertical-align: middle;\n",
       "    }\n",
       "\n",
       "    .dataframe tbody tr th {\n",
       "        vertical-align: top;\n",
       "    }\n",
       "\n",
       "    .dataframe thead th {\n",
       "        text-align: right;\n",
       "    }\n",
       "</style>\n",
       "<table border=\"1\" class=\"dataframe\">\n",
       "  <thead>\n",
       "    <tr style=\"text-align: right;\">\n",
       "      <th></th>\n",
       "      <th>song_name</th>\n",
       "      <th>artist_name</th>\n",
       "      <th>album_name</th>\n",
       "      <th>lyrics</th>\n",
       "      <th>release_date</th>\n",
       "      <th>producers</th>\n",
       "      <th>tags</th>\n",
       "      <th>porcentaje_ruido</th>\n",
       "      <th>idioma</th>\n",
       "      <th>porcentaje_ruido_limpio</th>\n",
       "      <th>tokens</th>\n",
       "    </tr>\n",
       "  </thead>\n",
       "  <tbody>\n",
       "    <tr>\n",
       "      <th>1</th>\n",
       "      <td>Ya ya</td>\n",
       "      <td>Hurriganes</td>\n",
       "      <td>Jailbird</td>\n",
       "      <td>sitting in the la waiting for the ya, uh huh s...</td>\n",
       "      <td>None</td>\n",
       "      <td>[]</td>\n",
       "      <td>[Pop]</td>\n",
       "      <td>3.112840</td>\n",
       "      <td>en</td>\n",
       "      <td>3.043478</td>\n",
       "      <td>[sitting, in, the, la, waiting, for, the, ya, ...</td>\n",
       "    </tr>\n",
       "    <tr>\n",
       "      <th>7</th>\n",
       "      <td>You Already Know</td>\n",
       "      <td>Fergie</td>\n",
       "      <td>Double Dutchess (Target Exclusive)</td>\n",
       "      <td>&lt;part&gt;  life's a movie, let the camera roll fa...</td>\n",
       "      <td>August 25, 2017</td>\n",
       "      <td>[]</td>\n",
       "      <td>[R&amp;B, Rap, Pop, USA, In English, Electro-Hop, ...</td>\n",
       "      <td>5.072793</td>\n",
       "      <td>en</td>\n",
       "      <td>4.873387</td>\n",
       "      <td>[&lt;, part, &gt;, life, 's, a, movie, ,, let, the, ...</td>\n",
       "    </tr>\n",
       "    <tr>\n",
       "      <th>11</th>\n",
       "      <td>Our Embrace</td>\n",
       "      <td>Uneven Structure</td>\n",
       "      <td>La Partition</td>\n",
       "      <td>you processed me to bile, vulgar and featurele...</td>\n",
       "      <td>None</td>\n",
       "      <td>[]</td>\n",
       "      <td>[Rock]</td>\n",
       "      <td>0.608696</td>\n",
       "      <td>en</td>\n",
       "      <td>0.537153</td>\n",
       "      <td>[you, processed, me, to, bile, ,, vulgar, and,...</td>\n",
       "    </tr>\n",
       "    <tr>\n",
       "      <th>12</th>\n",
       "      <td>Higher quiddity</td>\n",
       "      <td>Uneven Structure</td>\n",
       "      <td>None</td>\n",
       "      <td>being tricked as a tool of anti-evolution a po...</td>\n",
       "      <td>None</td>\n",
       "      <td>[]</td>\n",
       "      <td>[Pop]</td>\n",
       "      <td>1.129944</td>\n",
       "      <td>en</td>\n",
       "      <td>0.714286</td>\n",
       "      <td>[being, tricked, as, a, tool, of, anti-evoluti...</td>\n",
       "    </tr>\n",
       "    <tr>\n",
       "      <th>13</th>\n",
       "      <td>Egocentric Focus</td>\n",
       "      <td>Uneven Structure</td>\n",
       "      <td>8 - EP</td>\n",
       "      <td>with that egocentric focus the unending whirl ...</td>\n",
       "      <td>None</td>\n",
       "      <td>[]</td>\n",
       "      <td>[Pop]</td>\n",
       "      <td>1.184834</td>\n",
       "      <td>en</td>\n",
       "      <td>1.041667</td>\n",
       "      <td>[with, that, egocentric, focus, the, unending,...</td>\n",
       "    </tr>\n",
       "  </tbody>\n",
       "</table>\n",
       "</div>"
      ],
      "text/plain": [
       "           song_name       artist_name                          album_name  \\\n",
       "1              Ya ya        Hurriganes                            Jailbird   \n",
       "7   You Already Know            Fergie  Double Dutchess (Target Exclusive)   \n",
       "11       Our Embrace  Uneven Structure                        La Partition   \n",
       "12   Higher quiddity  Uneven Structure                                None   \n",
       "13  Egocentric Focus  Uneven Structure                              8 - EP   \n",
       "\n",
       "                                               lyrics     release_date  \\\n",
       "1   sitting in the la waiting for the ya, uh huh s...             None   \n",
       "7   <part>  life's a movie, let the camera roll fa...  August 25, 2017   \n",
       "11  you processed me to bile, vulgar and featurele...             None   \n",
       "12  being tricked as a tool of anti-evolution a po...             None   \n",
       "13  with that egocentric focus the unending whirl ...             None   \n",
       "\n",
       "   producers                                               tags  \\\n",
       "1         []                                              [Pop]   \n",
       "7         []  [R&B, Rap, Pop, USA, In English, Electro-Hop, ...   \n",
       "11        []                                             [Rock]   \n",
       "12        []                                              [Pop]   \n",
       "13        []                                              [Pop]   \n",
       "\n",
       "    porcentaje_ruido idioma  porcentaje_ruido_limpio  \\\n",
       "1           3.112840     en                 3.043478   \n",
       "7           5.072793     en                 4.873387   \n",
       "11          0.608696     en                 0.537153   \n",
       "12          1.129944     en                 0.714286   \n",
       "13          1.184834     en                 1.041667   \n",
       "\n",
       "                                               tokens  \n",
       "1   [sitting, in, the, la, waiting, for, the, ya, ...  \n",
       "7   [<, part, >, life, 's, a, movie, ,, let, the, ...  \n",
       "11  [you, processed, me, to, bile, ,, vulgar, and,...  \n",
       "12  [being, tricked, as, a, tool, of, anti-evoluti...  \n",
       "13  [with, that, egocentric, focus, the, unending,...  "
      ]
     },
     "execution_count": 160,
     "metadata": {},
     "output_type": "execute_result"
    }
   ],
   "source": [
    "df_filtrado.head()"
   ]
  },
  {
   "cell_type": "markdown",
   "id": "e6c73e00",
   "metadata": {},
   "source": [
    "## Aplicación del EDA \n",
    "Para esta sección se aplicará el EDA tanto para los datos límipios como para los datos sin limpiar "
   ]
  },
  {
   "cell_type": "markdown",
   "id": "9c8ed36a",
   "metadata": {},
   "source": [
    "Creación de la columna 'length' para ambos tipos de datos: "
   ]
  },
  {
   "cell_type": "code",
   "execution_count": 161,
   "id": "0a35ff6f",
   "metadata": {},
   "outputs": [],
   "source": [
    "df['length'] = df['lyrics'].str.len()\n",
    "df_filtrado['length'] = df_filtrado['lyrics'].str.len()"
   ]
  },
  {
   "cell_type": "markdown",
   "id": "0150bc0f",
   "metadata": {},
   "source": [
    "### Resumen estadístico\n",
    "\n",
    "El método `describe()` sin parámetros genera cinco estadísticos de las variables numéricas ([doc](https://pandas.pydata.org/docs/reference/api/pandas.DataFrame.describe.html)).\n",
    "\n",
    "#### Datos sin filtrar: "
   ]
  },
  {
   "cell_type": "code",
   "execution_count": 162,
   "id": "75c92981",
   "metadata": {},
   "outputs": [
    {
     "data": {
      "text/html": [
       "<div>\n",
       "<style scoped>\n",
       "    .dataframe tbody tr th:only-of-type {\n",
       "        vertical-align: middle;\n",
       "    }\n",
       "\n",
       "    .dataframe tbody tr th {\n",
       "        vertical-align: top;\n",
       "    }\n",
       "\n",
       "    .dataframe thead th {\n",
       "        text-align: right;\n",
       "    }\n",
       "</style>\n",
       "<table border=\"1\" class=\"dataframe\">\n",
       "  <thead>\n",
       "    <tr style=\"text-align: right;\">\n",
       "      <th></th>\n",
       "      <th>porcentaje_ruido</th>\n",
       "      <th>length</th>\n",
       "    </tr>\n",
       "  </thead>\n",
       "  <tbody>\n",
       "    <tr>\n",
       "      <th>count</th>\n",
       "      <td>10098.000000</td>\n",
       "      <td>10098.000000</td>\n",
       "    </tr>\n",
       "    <tr>\n",
       "      <th>mean</th>\n",
       "      <td>13.998041</td>\n",
       "      <td>1825.714696</td>\n",
       "    </tr>\n",
       "    <tr>\n",
       "      <th>std</th>\n",
       "      <td>24.013072</td>\n",
       "      <td>3167.818532</td>\n",
       "    </tr>\n",
       "    <tr>\n",
       "      <th>min</th>\n",
       "      <td>0.000000</td>\n",
       "      <td>0.000000</td>\n",
       "    </tr>\n",
       "    <tr>\n",
       "      <th>25%</th>\n",
       "      <td>2.658278</td>\n",
       "      <td>1018.000000</td>\n",
       "    </tr>\n",
       "    <tr>\n",
       "      <th>50%</th>\n",
       "      <td>4.327677</td>\n",
       "      <td>1549.000000</td>\n",
       "    </tr>\n",
       "    <tr>\n",
       "      <th>75%</th>\n",
       "      <td>7.609936</td>\n",
       "      <td>2257.750000</td>\n",
       "    </tr>\n",
       "    <tr>\n",
       "      <th>max</th>\n",
       "      <td>94.786175</td>\n",
       "      <td>190146.000000</td>\n",
       "    </tr>\n",
       "  </tbody>\n",
       "</table>\n",
       "</div>"
      ],
      "text/plain": [
       "       porcentaje_ruido         length\n",
       "count      10098.000000   10098.000000\n",
       "mean          13.998041    1825.714696\n",
       "std           24.013072    3167.818532\n",
       "min            0.000000       0.000000\n",
       "25%            2.658278    1018.000000\n",
       "50%            4.327677    1549.000000\n",
       "75%            7.609936    2257.750000\n",
       "max           94.786175  190146.000000"
      ]
     },
     "execution_count": 162,
     "metadata": {},
     "output_type": "execute_result"
    }
   ],
   "source": [
    "df.describe()"
   ]
  },
  {
   "cell_type": "code",
   "execution_count": 163,
   "id": "4cf81fb1",
   "metadata": {},
   "outputs": [
    {
     "data": {
      "text/html": [
       "<div>\n",
       "<style scoped>\n",
       "    .dataframe tbody tr th:only-of-type {\n",
       "        vertical-align: middle;\n",
       "    }\n",
       "\n",
       "    .dataframe tbody tr th {\n",
       "        vertical-align: top;\n",
       "    }\n",
       "\n",
       "    .dataframe thead th {\n",
       "        text-align: right;\n",
       "    }\n",
       "</style>\n",
       "<table border=\"1\" class=\"dataframe\">\n",
       "  <thead>\n",
       "    <tr style=\"text-align: right;\">\n",
       "      <th></th>\n",
       "      <th>song_name</th>\n",
       "      <th>artist_name</th>\n",
       "      <th>album_name</th>\n",
       "      <th>lyrics</th>\n",
       "      <th>release_date</th>\n",
       "      <th>producers</th>\n",
       "      <th>tags</th>\n",
       "    </tr>\n",
       "  </thead>\n",
       "  <tbody>\n",
       "    <tr>\n",
       "      <th>count</th>\n",
       "      <td>10098</td>\n",
       "      <td>10098</td>\n",
       "      <td>7276</td>\n",
       "      <td>10098</td>\n",
       "      <td>8523</td>\n",
       "      <td>10098</td>\n",
       "      <td>10098</td>\n",
       "    </tr>\n",
       "    <tr>\n",
       "      <th>unique</th>\n",
       "      <td>9780</td>\n",
       "      <td>2429</td>\n",
       "      <td>3022</td>\n",
       "      <td>9709</td>\n",
       "      <td>3016</td>\n",
       "      <td>1765</td>\n",
       "      <td>4075</td>\n",
       "    </tr>\n",
       "    <tr>\n",
       "      <th>top</th>\n",
       "      <td>Forever</td>\n",
       "      <td>​yngblеss</td>\n",
       "      <td>Alma Mater &amp; Fight Song</td>\n",
       "      <td></td>\n",
       "      <td>October 25, 2024</td>\n",
       "      <td>[]</td>\n",
       "      <td>[Pop]</td>\n",
       "    </tr>\n",
       "    <tr>\n",
       "      <th>freq</th>\n",
       "      <td>8</td>\n",
       "      <td>21</td>\n",
       "      <td>28</td>\n",
       "      <td>390</td>\n",
       "      <td>57</td>\n",
       "      <td>7770</td>\n",
       "      <td>1348</td>\n",
       "    </tr>\n",
       "  </tbody>\n",
       "</table>\n",
       "</div>"
      ],
      "text/plain": [
       "       song_name artist_name               album_name lyrics  \\\n",
       "count      10098       10098                     7276  10098   \n",
       "unique      9780        2429                     3022   9709   \n",
       "top      Forever   ​yngblеss  Alma Mater & Fight Song          \n",
       "freq           8          21                       28    390   \n",
       "\n",
       "            release_date producers   tags  \n",
       "count               8523     10098  10098  \n",
       "unique              3016      1765   4075  \n",
       "top     October 25, 2024        []  [Pop]  \n",
       "freq                  57      7770   1348  "
      ]
     },
     "execution_count": 163,
     "metadata": {},
     "output_type": "execute_result"
    }
   ],
   "source": [
    "df.describe(include='O')"
   ]
  },
  {
   "cell_type": "markdown",
   "id": "243879d4",
   "metadata": {},
   "source": [
    "#### Datos filtrados:"
   ]
  },
  {
   "cell_type": "code",
   "execution_count": 164,
   "id": "62d229dd",
   "metadata": {},
   "outputs": [
    {
     "data": {
      "text/html": [
       "<div>\n",
       "<style scoped>\n",
       "    .dataframe tbody tr th:only-of-type {\n",
       "        vertical-align: middle;\n",
       "    }\n",
       "\n",
       "    .dataframe tbody tr th {\n",
       "        vertical-align: top;\n",
       "    }\n",
       "\n",
       "    .dataframe thead th {\n",
       "        text-align: right;\n",
       "    }\n",
       "</style>\n",
       "<table border=\"1\" class=\"dataframe\">\n",
       "  <thead>\n",
       "    <tr style=\"text-align: right;\">\n",
       "      <th></th>\n",
       "      <th>porcentaje_ruido</th>\n",
       "      <th>porcentaje_ruido_limpio</th>\n",
       "      <th>length</th>\n",
       "    </tr>\n",
       "  </thead>\n",
       "  <tbody>\n",
       "    <tr>\n",
       "      <th>count</th>\n",
       "      <td>6556.000000</td>\n",
       "      <td>6556.000000</td>\n",
       "      <td>6556.000000</td>\n",
       "    </tr>\n",
       "    <tr>\n",
       "      <th>mean</th>\n",
       "      <td>4.741498</td>\n",
       "      <td>4.679176</td>\n",
       "      <td>1896.912752</td>\n",
       "    </tr>\n",
       "    <tr>\n",
       "      <th>std</th>\n",
       "      <td>4.737276</td>\n",
       "      <td>4.954550</td>\n",
       "      <td>3715.597989</td>\n",
       "    </tr>\n",
       "    <tr>\n",
       "      <th>min</th>\n",
       "      <td>0.067069</td>\n",
       "      <td>0.000000</td>\n",
       "      <td>20.000000</td>\n",
       "    </tr>\n",
       "    <tr>\n",
       "      <th>25%</th>\n",
       "      <td>2.564103</td>\n",
       "      <td>2.430428</td>\n",
       "      <td>1060.000000</td>\n",
       "    </tr>\n",
       "    <tr>\n",
       "      <th>50%</th>\n",
       "      <td>3.744295</td>\n",
       "      <td>3.644240</td>\n",
       "      <td>1574.500000</td>\n",
       "    </tr>\n",
       "    <tr>\n",
       "      <th>75%</th>\n",
       "      <td>5.398964</td>\n",
       "      <td>5.312592</td>\n",
       "      <td>2293.500000</td>\n",
       "    </tr>\n",
       "    <tr>\n",
       "      <th>max</th>\n",
       "      <td>56.692362</td>\n",
       "      <td>57.932520</td>\n",
       "      <td>191210.000000</td>\n",
       "    </tr>\n",
       "  </tbody>\n",
       "</table>\n",
       "</div>"
      ],
      "text/plain": [
       "       porcentaje_ruido  porcentaje_ruido_limpio         length\n",
       "count       6556.000000              6556.000000    6556.000000\n",
       "mean           4.741498                 4.679176    1896.912752\n",
       "std            4.737276                 4.954550    3715.597989\n",
       "min            0.067069                 0.000000      20.000000\n",
       "25%            2.564103                 2.430428    1060.000000\n",
       "50%            3.744295                 3.644240    1574.500000\n",
       "75%            5.398964                 5.312592    2293.500000\n",
       "max           56.692362                57.932520  191210.000000"
      ]
     },
     "execution_count": 164,
     "metadata": {},
     "output_type": "execute_result"
    }
   ],
   "source": [
    "df_filtrado.describe()"
   ]
  },
  {
   "cell_type": "code",
   "execution_count": 165,
   "id": "b8dbfba2",
   "metadata": {},
   "outputs": [
    {
     "data": {
      "text/html": [
       "<div>\n",
       "<style scoped>\n",
       "    .dataframe tbody tr th:only-of-type {\n",
       "        vertical-align: middle;\n",
       "    }\n",
       "\n",
       "    .dataframe tbody tr th {\n",
       "        vertical-align: top;\n",
       "    }\n",
       "\n",
       "    .dataframe thead th {\n",
       "        text-align: right;\n",
       "    }\n",
       "</style>\n",
       "<table border=\"1\" class=\"dataframe\">\n",
       "  <thead>\n",
       "    <tr style=\"text-align: right;\">\n",
       "      <th></th>\n",
       "      <th>song_name</th>\n",
       "      <th>artist_name</th>\n",
       "      <th>album_name</th>\n",
       "      <th>lyrics</th>\n",
       "      <th>release_date</th>\n",
       "      <th>producers</th>\n",
       "      <th>tags</th>\n",
       "      <th>idioma</th>\n",
       "      <th>tokens</th>\n",
       "    </tr>\n",
       "  </thead>\n",
       "  <tbody>\n",
       "    <tr>\n",
       "      <th>count</th>\n",
       "      <td>6556</td>\n",
       "      <td>6556</td>\n",
       "      <td>4938</td>\n",
       "      <td>6556</td>\n",
       "      <td>5436</td>\n",
       "      <td>6556</td>\n",
       "      <td>6556</td>\n",
       "      <td>6556</td>\n",
       "      <td>6556</td>\n",
       "    </tr>\n",
       "    <tr>\n",
       "      <th>unique</th>\n",
       "      <td>6330</td>\n",
       "      <td>1694</td>\n",
       "      <td>2128</td>\n",
       "      <td>6542</td>\n",
       "      <td>2367</td>\n",
       "      <td>1274</td>\n",
       "      <td>2670</td>\n",
       "      <td>4</td>\n",
       "      <td>6542</td>\n",
       "    </tr>\n",
       "    <tr>\n",
       "      <th>top</th>\n",
       "      <td>The Christmas Song</td>\n",
       "      <td>Isak | SMORRA</td>\n",
       "      <td>Alma Mater &amp; Fight Song</td>\n",
       "      <td>for this song have yet to be transcribed</td>\n",
       "      <td>March 14, 2025</td>\n",
       "      <td>[]</td>\n",
       "      <td>[Pop]</td>\n",
       "      <td>en</td>\n",
       "      <td>[for, this, song, have, yet, to, be, transcribed]</td>\n",
       "    </tr>\n",
       "    <tr>\n",
       "      <th>freq</th>\n",
       "      <td>7</td>\n",
       "      <td>20</td>\n",
       "      <td>27</td>\n",
       "      <td>5</td>\n",
       "      <td>32</td>\n",
       "      <td>4866</td>\n",
       "      <td>1062</td>\n",
       "      <td>5239</td>\n",
       "      <td>5</td>\n",
       "    </tr>\n",
       "  </tbody>\n",
       "</table>\n",
       "</div>"
      ],
      "text/plain": [
       "                 song_name    artist_name               album_name  \\\n",
       "count                 6556           6556                     4938   \n",
       "unique                6330           1694                     2128   \n",
       "top     The Christmas Song  Isak | SMORRA  Alma Mater & Fight Song   \n",
       "freq                     7             20                       27   \n",
       "\n",
       "                                          lyrics    release_date producers  \\\n",
       "count                                       6556            5436      6556   \n",
       "unique                                      6542            2367      1274   \n",
       "top     for this song have yet to be transcribed  March 14, 2025        []   \n",
       "freq                                           5              32      4866   \n",
       "\n",
       "         tags idioma                                             tokens  \n",
       "count    6556   6556                                               6556  \n",
       "unique   2670      4                                               6542  \n",
       "top     [Pop]     en  [for, this, song, have, yet, to, be, transcribed]  \n",
       "freq     1062   5239                                                  5  "
      ]
     },
     "execution_count": 165,
     "metadata": {},
     "output_type": "execute_result"
    }
   ],
   "source": [
    "df_filtrado.describe(include='O')"
   ]
  },
  {
   "cell_type": "markdown",
   "id": "84405ef6",
   "metadata": {},
   "source": [
    "Para este caso se puede observar que las estadísticas de cada dataframe varian considerablemente debido a la limitación del idioma por parde del df filtrado. "
   ]
  },
  {
   "cell_type": "markdown",
   "id": "e1f4ddea",
   "metadata": {},
   "source": [
    "### Revisar datos faltantes\n",
    "El método `isna()` detecta los valores faltantes, por lo que retorna un valor booleano si el valor es un NA (valores None o `Numpy.NaN`). docs/reference/api/pandas.DataFrame.isna.html)\n",
    "#### Datos sin filtrar: "
   ]
  },
  {
   "cell_type": "code",
   "execution_count": 166,
   "id": "d74f5374",
   "metadata": {},
   "outputs": [
    {
     "data": {
      "text/plain": [
       "song_name              0\n",
       "artist_name            0\n",
       "album_name          2822\n",
       "lyrics                 0\n",
       "release_date        1575\n",
       "producers              0\n",
       "tags                   0\n",
       "porcentaje_ruido       0\n",
       "length                 0\n",
       "dtype: int64"
      ]
     },
     "execution_count": 166,
     "metadata": {},
     "output_type": "execute_result"
    }
   ],
   "source": [
    "df_isna = df.isna().sum() \n",
    "df_isna"
   ]
  },
  {
   "cell_type": "markdown",
   "id": "bc0c1708",
   "metadata": {},
   "source": [
    "#### Datos filtrados: "
   ]
  },
  {
   "cell_type": "code",
   "execution_count": 167,
   "id": "aa3d8d83",
   "metadata": {},
   "outputs": [
    {
     "data": {
      "text/plain": [
       "song_name                     0\n",
       "artist_name                   0\n",
       "album_name                 1618\n",
       "lyrics                        0\n",
       "release_date               1120\n",
       "producers                     0\n",
       "tags                          0\n",
       "porcentaje_ruido              0\n",
       "idioma                        0\n",
       "porcentaje_ruido_limpio       0\n",
       "tokens                        0\n",
       "length                        0\n",
       "dtype: int64"
      ]
     },
     "execution_count": 167,
     "metadata": {},
     "output_type": "execute_result"
    }
   ],
   "source": [
    "df_isna_f = df_filtrado.isna().sum() \n",
    "df_isna_f"
   ]
  },
  {
   "cell_type": "markdown",
   "id": "63c8f798",
   "metadata": {},
   "source": [
    "Con respecto al método isna() se puede observar que el número de datos nulos es distinto en ambos dataset, nuevamente por la limitación del lenguaje de las canciones "
   ]
  },
  {
   "cell_type": "markdown",
   "id": "3856d8f1",
   "metadata": {},
   "source": [
    "El método `fillna()` permite llena los valores NA/NaN. Para este caso solo existen dos columnas con valores nulos, por lo que los cambios serán muy particulares en estas columnas. Se usa inplace=True para modificar el dataframe original. \n",
    "\n",
    "#### Datos sin filtrar: "
   ]
  },
  {
   "cell_type": "code",
   "execution_count": 168,
   "id": "68f4cd50",
   "metadata": {},
   "outputs": [
    {
     "data": {
      "text/plain": [
       "song_name           0\n",
       "artist_name         0\n",
       "album_name          0\n",
       "lyrics              0\n",
       "release_date        0\n",
       "producers           0\n",
       "tags                0\n",
       "porcentaje_ruido    0\n",
       "length              0\n",
       "dtype: int64"
      ]
     },
     "execution_count": 168,
     "metadata": {},
     "output_type": "execute_result"
    }
   ],
   "source": [
    "df['album_name'].fillna(\"No album\",inplace=True)\n",
    "df['release_date'].fillna(\"No release date\",inplace=True)\n",
    "\n",
    "df.isna().sum()"
   ]
  },
  {
   "cell_type": "markdown",
   "id": "a2cb088a",
   "metadata": {},
   "source": [
    "#### Datos filtrados"
   ]
  },
  {
   "cell_type": "code",
   "execution_count": 169,
   "id": "bc7b64e9",
   "metadata": {},
   "outputs": [
    {
     "data": {
      "text/plain": [
       "song_name                  0\n",
       "artist_name                0\n",
       "album_name                 0\n",
       "lyrics                     0\n",
       "release_date               0\n",
       "producers                  0\n",
       "tags                       0\n",
       "porcentaje_ruido           0\n",
       "idioma                     0\n",
       "porcentaje_ruido_limpio    0\n",
       "tokens                     0\n",
       "length                     0\n",
       "dtype: int64"
      ]
     },
     "execution_count": 169,
     "metadata": {},
     "output_type": "execute_result"
    }
   ],
   "source": [
    "df_filtrado['album_name'].fillna(\"No album\",inplace=True)\n",
    "df_filtrado['release_date'].fillna(\"No release date\",inplace=True)\n",
    "\n",
    "df_filtrado.isna().sum()"
   ]
  },
  {
   "cell_type": "markdown",
   "id": "bf1d1daa",
   "metadata": {},
   "source": [
    "El método 'contains()' permite encontrar coincidencias que estás contenidas dentro de las cadenas de texto de una Serie o un índice de pandas. Por ejemplo se puede buscar canciones de Above & Beyond o Mac Miller. Para este caso se usa value_counts() para asegurarse que los artistas no tienen canciones con nombres repetidos. "
   ]
  },
  {
   "cell_type": "markdown",
   "id": "e390e0bd",
   "metadata": {},
   "source": [
    "#### Datos sin filtrar: "
   ]
  },
  {
   "cell_type": "code",
   "execution_count": 170,
   "id": "1fbf963e",
   "metadata": {},
   "outputs": [
    {
     "name": "stdout",
     "output_type": "stream",
     "text": [
      "Canciones de Above & Beyond: \n",
      " song_name\n",
      "Crazy Love                      1\n",
      "Peace of Mind (Acoustic)        1\n",
      "Fly to New York                 1\n",
      "Reverie                         1\n",
      "We’re All We Need               1\n",
      "No One On Earth                 1\n",
      "We’re All We Need (Acoustic)    1\n",
      "Alchemy                         1\n",
      "Sahara Love                     1\n",
      "There’s Only You                1\n",
      "You Got to Go                   1\n",
      "Good For Me                     1\n",
      "Peace of Mind                   1\n",
      "My Own Hymn                     1\n",
      "Love Is Not Enough              1\n",
      "Always                          1\n",
      "Name: count, dtype: int64\n"
     ]
    },
    {
     "data": {
      "text/html": [
       "<div>\n",
       "<style scoped>\n",
       "    .dataframe tbody tr th:only-of-type {\n",
       "        vertical-align: middle;\n",
       "    }\n",
       "\n",
       "    .dataframe tbody tr th {\n",
       "        vertical-align: top;\n",
       "    }\n",
       "\n",
       "    .dataframe thead th {\n",
       "        text-align: right;\n",
       "    }\n",
       "</style>\n",
       "<table border=\"1\" class=\"dataframe\">\n",
       "  <thead>\n",
       "    <tr style=\"text-align: right;\">\n",
       "      <th></th>\n",
       "      <th>song_name</th>\n",
       "      <th>artist_name</th>\n",
       "      <th>album_name</th>\n",
       "      <th>lyrics</th>\n",
       "      <th>release_date</th>\n",
       "      <th>producers</th>\n",
       "      <th>tags</th>\n",
       "      <th>porcentaje_ruido</th>\n",
       "      <th>length</th>\n",
       "    </tr>\n",
       "  </thead>\n",
       "  <tbody>\n",
       "    <tr>\n",
       "      <th>3735</th>\n",
       "      <td>Planet God Damn</td>\n",
       "      <td>Mac Miller</td>\n",
       "      <td>The Divine Feminine</td>\n",
       "      <td>48 Contributors\\nTranslations\\nEspañol\\nSvensk...</td>\n",
       "      <td>September 16, 2016</td>\n",
       "      <td>[Vinylz, Ging]</td>\n",
       "      <td>[Rap, USA, In English]</td>\n",
       "      <td>5.395825</td>\n",
       "      <td>2539</td>\n",
       "    </tr>\n",
       "    <tr>\n",
       "      <th>3740</th>\n",
       "      <td>Skin</td>\n",
       "      <td>Mac Miller</td>\n",
       "      <td>The Divine Feminine</td>\n",
       "      <td>70 Contributors\\nTranslations\\nFrançais\\nEspañ...</td>\n",
       "      <td>September 16, 2016</td>\n",
       "      <td>[]</td>\n",
       "      <td>[R&amp;B, Rap, USA, In English, Soul Jazz]</td>\n",
       "      <td>6.463878</td>\n",
       "      <td>2630</td>\n",
       "    </tr>\n",
       "  </tbody>\n",
       "</table>\n",
       "</div>"
      ],
      "text/plain": [
       "            song_name artist_name           album_name  \\\n",
       "3735  Planet God Damn  Mac Miller  The Divine Feminine   \n",
       "3740             Skin  Mac Miller  The Divine Feminine   \n",
       "\n",
       "                                                 lyrics        release_date  \\\n",
       "3735  48 Contributors\\nTranslations\\nEspañol\\nSvensk...  September 16, 2016   \n",
       "3740  70 Contributors\\nTranslations\\nFrançais\\nEspañ...  September 16, 2016   \n",
       "\n",
       "           producers                                    tags  \\\n",
       "3735  [Vinylz, Ging]                  [Rap, USA, In English]   \n",
       "3740              []  [R&B, Rap, USA, In English, Soul Jazz]   \n",
       "\n",
       "      porcentaje_ruido  length  \n",
       "3735          5.395825    2539  \n",
       "3740          6.463878    2630  "
      ]
     },
     "execution_count": 170,
     "metadata": {},
     "output_type": "execute_result"
    }
   ],
   "source": [
    "resultado_a_and_b_sf = df[df['artist_name'].str.contains('Above & Beyond')]\n",
    "resultado_mac_miller_sf = df[df['artist_name'].str.contains('Mac Miller')]\n",
    "\n",
    "print(\"Canciones de Above & Beyond: \\n\",resultado_a_and_b_sf['song_name'].value_counts())\n",
    "resultado_mac_miller_sf.head()"
   ]
  },
  {
   "cell_type": "markdown",
   "id": "cd4158f9",
   "metadata": {},
   "source": [
    "#### Datos filtrados: "
   ]
  },
  {
   "cell_type": "code",
   "execution_count": 171,
   "id": "33c655da",
   "metadata": {},
   "outputs": [
    {
     "name": "stdout",
     "output_type": "stream",
     "text": [
      "Canciones de Above & Beyond: \n",
      " song_name\n",
      "Crazy Love                      1\n",
      "Peace of Mind (Acoustic)        1\n",
      "Fly to New York                 1\n",
      "Reverie                         1\n",
      "We’re All We Need               1\n",
      "No One On Earth                 1\n",
      "We’re All We Need (Acoustic)    1\n",
      "Alchemy                         1\n",
      "Sahara Love                     1\n",
      "There’s Only You                1\n",
      "You Got to Go                   1\n",
      "Good For Me                     1\n",
      "Peace of Mind                   1\n",
      "My Own Hymn                     1\n",
      "Love Is Not Enough              1\n",
      "Always                          1\n",
      "Name: count, dtype: int64\n"
     ]
    },
    {
     "data": {
      "text/html": [
       "<div>\n",
       "<style scoped>\n",
       "    .dataframe tbody tr th:only-of-type {\n",
       "        vertical-align: middle;\n",
       "    }\n",
       "\n",
       "    .dataframe tbody tr th {\n",
       "        vertical-align: top;\n",
       "    }\n",
       "\n",
       "    .dataframe thead th {\n",
       "        text-align: right;\n",
       "    }\n",
       "</style>\n",
       "<table border=\"1\" class=\"dataframe\">\n",
       "  <thead>\n",
       "    <tr style=\"text-align: right;\">\n",
       "      <th></th>\n",
       "      <th>song_name</th>\n",
       "      <th>artist_name</th>\n",
       "      <th>album_name</th>\n",
       "      <th>lyrics</th>\n",
       "      <th>release_date</th>\n",
       "      <th>producers</th>\n",
       "      <th>tags</th>\n",
       "      <th>porcentaje_ruido</th>\n",
       "      <th>idioma</th>\n",
       "      <th>porcentaje_ruido_limpio</th>\n",
       "      <th>tokens</th>\n",
       "      <th>length</th>\n",
       "    </tr>\n",
       "  </thead>\n",
       "  <tbody>\n",
       "    <tr>\n",
       "      <th>3735</th>\n",
       "      <td>Planet God Damn</td>\n",
       "      <td>Mac Miller</td>\n",
       "      <td>The Divine Feminine</td>\n",
       "      <td>&lt;verse&gt; yeah, i think i am stuck inside nostal...</td>\n",
       "      <td>September 16, 2016</td>\n",
       "      <td>[Vinylz, Ging]</td>\n",
       "      <td>[Rap, USA, In English]</td>\n",
       "      <td>5.395825</td>\n",
       "      <td>en</td>\n",
       "      <td>5.263158</td>\n",
       "      <td>[&lt;, verse, &gt;, yeah, ,, i, think, i, am, stuck,...</td>\n",
       "      <td>2373</td>\n",
       "    </tr>\n",
       "    <tr>\n",
       "      <th>3740</th>\n",
       "      <td>Skin</td>\n",
       "      <td>Mac Miller</td>\n",
       "      <td>The Divine Feminine</td>\n",
       "      <td>&lt;verse&gt; you hide your skin like ya shy or did ...</td>\n",
       "      <td>September 16, 2016</td>\n",
       "      <td>[]</td>\n",
       "      <td>[R&amp;B, Rap, USA, In English, Soul Jazz]</td>\n",
       "      <td>6.463878</td>\n",
       "      <td>en</td>\n",
       "      <td>6.531882</td>\n",
       "      <td>[&lt;, verse, &gt;, you, hide, your, skin, like, ya,...</td>\n",
       "      <td>2580</td>\n",
       "    </tr>\n",
       "  </tbody>\n",
       "</table>\n",
       "</div>"
      ],
      "text/plain": [
       "            song_name artist_name           album_name  \\\n",
       "3735  Planet God Damn  Mac Miller  The Divine Feminine   \n",
       "3740             Skin  Mac Miller  The Divine Feminine   \n",
       "\n",
       "                                                 lyrics        release_date  \\\n",
       "3735  <verse> yeah, i think i am stuck inside nostal...  September 16, 2016   \n",
       "3740  <verse> you hide your skin like ya shy or did ...  September 16, 2016   \n",
       "\n",
       "           producers                                    tags  \\\n",
       "3735  [Vinylz, Ging]                  [Rap, USA, In English]   \n",
       "3740              []  [R&B, Rap, USA, In English, Soul Jazz]   \n",
       "\n",
       "      porcentaje_ruido idioma  porcentaje_ruido_limpio  \\\n",
       "3735          5.395825     en                 5.263158   \n",
       "3740          6.463878     en                 6.531882   \n",
       "\n",
       "                                                 tokens  length  \n",
       "3735  [<, verse, >, yeah, ,, i, think, i, am, stuck,...    2373  \n",
       "3740  [<, verse, >, you, hide, your, skin, like, ya,...    2580  "
      ]
     },
     "execution_count": 171,
     "metadata": {},
     "output_type": "execute_result"
    }
   ],
   "source": [
    "resultado_a_and_b_fil = df_filtrado[df_filtrado['artist_name'].str.contains('Above & Beyond')]\n",
    "resultado_mac_miller_fil = df_filtrado[df_filtrado['artist_name'].str.contains('Mac Miller')]\n",
    "\n",
    "print(\"Canciones de Above & Beyond: \\n\",resultado_a_and_b_fil['song_name'].value_counts())\n",
    "resultado_mac_miller_fil.head()"
   ]
  },
  {
   "cell_type": "markdown",
   "id": "ed412850",
   "metadata": {},
   "source": [
    "En esta ocasión no existen muchas diferencias con respecto a las canciones en inglés, debido al filtrado por idioma. Lo que se puede visualizar diferente es la columna lyrics ya que en la misma se realizó el análisis. "
   ]
  },
  {
   "cell_type": "markdown",
   "id": "f00086b8",
   "metadata": {},
   "source": [
    "## Representación grafica de la distribución de los valores\n",
    "\n",
    "### Gráfica de caja o Boxplot\n",
    "\n",
    "Un boxplot es útil para resumir la distribución de los datos, destacando valores mínimos, máximos, la mediana y posibles outliers.\n",
    "\n",
    "Se puede hacer un boxplot con respecto al numero de productores\n",
    "\n",
    "#### Datos no filtrados: "
   ]
  },
  {
   "cell_type": "code",
   "execution_count": 172,
   "id": "f38802c3",
   "metadata": {},
   "outputs": [
    {
     "data": {
      "image/png": "[encoded data removed]",
      "text/plain": [
       "<Figure size 640x480 with 1 Axes>"
      ]
     },
     "metadata": {},
     "output_type": "display_data"
    }
   ],
   "source": [
    "import seaborn as sns\n",
    "import matplotlib.pyplot as plt\n",
    "\n",
    "df['num_producers'] = df['producers'].apply(lambda x: len(str(x).split(',')))\n",
    "\n",
    "\n",
    "df.boxplot(column=\"num_producers\", grid=False)\n",
    "\n",
    "plt.title(\"Boxplot por Categorías sin filtrar\")\n",
    "plt.suptitle(\"\")  \n",
    "plt.xlabel(\"Categoría\")\n",
    "plt.ylabel(\"Valores\")\n",
    "plt.show()"
   ]
  },
  {
   "cell_type": "markdown",
   "id": "52418759",
   "metadata": {},
   "source": [
    "#### Datos filtrados: "
   ]
  },
  {
   "cell_type": "code",
   "execution_count": 173,
   "id": "763e91b0",
   "metadata": {},
   "outputs": [
    {
     "data": {
      "image/png": "[encoded data removed]",
      "text/plain": [
       "<Figure size 640x480 with 1 Axes>"
      ]
     },
     "metadata": {},
     "output_type": "display_data"
    }
   ],
   "source": [
    "import pandas as pd\n",
    "import seaborn as sns\n",
    "import matplotlib.pyplot as plt\n",
    "\n",
    "df_filtrado['num_producers'] = df_filtrado['producers'].apply(lambda x: len(str(x).split(',')))\n",
    "\n",
    "\n",
    "df_filtrado.boxplot(column=\"num_producers\", grid=False)\n",
    "\n",
    "plt.title(\"Boxplot por categorias filtrado\")\n",
    "plt.suptitle(\"\")  \n",
    "plt.xlabel(\"Categoría\")\n",
    "plt.ylabel(\"Valores\")\n",
    "plt.show()"
   ]
  },
  {
   "cell_type": "markdown",
   "id": "b9b5727e",
   "metadata": {},
   "source": [
    "Debido a la disminución de canciones en el dataset filtrado, los cuartiles aumentaron, así como se redujeron \"los outliers\". La mediana parece ser igual o parecida en ambos datasets. "
   ]
  },
  {
   "cell_type": "markdown",
   "id": "7ec5ac03",
   "metadata": {},
   "source": [
    "De igual manera se puede hacer con respecto a la longitud de las letras\n"
   ]
  },
  {
   "cell_type": "markdown",
   "id": "0ddda51f",
   "metadata": {},
   "source": [
    "#### Datos no filtrados: "
   ]
  },
  {
   "cell_type": "code",
   "execution_count": 174,
   "id": "39234473",
   "metadata": {},
   "outputs": [
    {
     "data": {
      "image/png": "[encoded data removed]",
      "text/plain": [
       "<Figure size 640x480 with 1 Axes>"
      ]
     },
     "metadata": {},
     "output_type": "display_data"
    }
   ],
   "source": [
    "df.boxplot(column=\"length\", grid=False)\n",
    "\n",
    "\n",
    "plt.title(\"Boxplot por longitud de letras en datos no filtrados\")\n",
    "plt.suptitle(\"\")  \n",
    "plt.xlabel(\"Categoría\")\n",
    "plt.ylabel(\"Valores\")\n",
    "plt.show()"
   ]
  },
  {
   "cell_type": "markdown",
   "id": "ba59d2ee",
   "metadata": {},
   "source": [
    "#### Datos filtrados: "
   ]
  },
  {
   "cell_type": "code",
   "execution_count": 175,
   "id": "7c0b32a6",
   "metadata": {},
   "outputs": [
    {
     "data": {
      "image/png": "[encoded data removed]",
      "text/plain": [
       "<Figure size 640x480 with 1 Axes>"
      ]
     },
     "metadata": {},
     "output_type": "display_data"
    }
   ],
   "source": [
    "df_filtrado.boxplot(column=\"length\", grid=False)\n",
    "\n",
    "\n",
    "plt.title(\"Boxplot por longitud de letras en datos filtrados\")\n",
    "plt.suptitle(\"\")  \n",
    "plt.xlabel(\"Categoría\")\n",
    "plt.ylabel(\"Valores\")\n",
    "plt.show()"
   ]
  },
  {
   "cell_type": "markdown",
   "id": "421a8d8d",
   "metadata": {},
   "source": [
    "Con respecto a la longitud de las letras, estas parecen estar similares o significativamente parecidas. "
   ]
  },
  {
   "cell_type": "markdown",
   "id": "a9067175",
   "metadata": {},
   "source": [
    "## Gráfica de barras o barplot\n",
    "\n",
    "Un barplot (gráfico de barras) es una representación visual que utiliza barras para comparar diferentes categorías o grupos de datos de forma clara y efectiva. La longitud o altura de las barras es proporcional al valor que representan, lo que permite observar rápidamente diferencias y patrones.\n",
    "\n",
    "#### Para datos no filtrados: "
   ]
  },
  {
   "cell_type": "code",
   "execution_count": 176,
   "id": "d366ea6d",
   "metadata": {},
   "outputs": [
    {
     "data": {
      "image/png": "[encoded data removed]",
      "text/plain": [
       "<Figure size 640x480 with 1 Axes>"
      ]
     },
     "metadata": {},
     "output_type": "display_data"
    }
   ],
   "source": [
    "df['num_producers'].plot.hist(bins=50,edgecolor = \"black\")\n",
    "\n",
    "plt.title(\"Histograma de número de productores (datos no filtrados)\")\n",
    "plt.xlabel(\"Rango de Valores\")\n",
    "plt.ylabel(\"Frecuencia\")\n",
    "\n",
    "plt.show()\n"
   ]
  },
  {
   "cell_type": "markdown",
   "id": "aaa3374e",
   "metadata": {},
   "source": [
    "#### Datos filtrados: "
   ]
  },
  {
   "cell_type": "code",
   "execution_count": 177,
   "id": "7982f505",
   "metadata": {},
   "outputs": [
    {
     "data": {
      "image/png": "[encoded data removed]",
      "text/plain": [
       "<Figure size 640x480 with 1 Axes>"
      ]
     },
     "metadata": {},
     "output_type": "display_data"
    }
   ],
   "source": [
    "df_filtrado['num_producers'].plot.hist(bins=50,edgecolor = \"black\")\n",
    "\n",
    "plt.title(\"Histograma de número de productores (datos filtrados)\")\n",
    "plt.xlabel(\"Rango de Valores\")\n",
    "plt.ylabel(\"Frecuencia\")\n",
    "\n",
    "plt.show()\n"
   ]
  },
  {
   "cell_type": "markdown",
   "id": "cce36798",
   "metadata": {},
   "source": [
    "La forma de ambas gráficas parecen ser las mismas, sin embargo la distribución de frecuencia es menor en el dataset filtrado. "
   ]
  },
  {
   "cell_type": "markdown",
   "id": "1f9a7ab2",
   "metadata": {},
   "source": [
    "# Comparación de valores de distribución sobre categorías\n",
    "\n",
    "__Seaborn__ es una biblioteca de visualización de datos basada en Matplotlib que proporciona una interfaz de alto nivel para crear gráficos estadísticos de manera sencilla y con estilos preconfigurados. Está diseñada para trabajar de manera efectiva con estructuras de datos como DataFrames de pandas, lo que facilita la exploración y representación visual de datos en proyectos de análisis."
   ]
  },
  {
   "cell_type": "markdown",
   "id": "6b4cb01c",
   "metadata": {},
   "source": [
    "## isin\n",
    "\n",
    "El método `isin` en pandas se utiliza para filtrar filas en un `DataFrame` o `Series` que contienen valores específicos de una lista, conjunto u otro iterable. Es especialmente útil para realizar búsquedas rápidas o verificaciones de pertenencia en un conjunto de datos.\n",
    "\n",
    "El método `catplot` en Seaborn se utiliza para crear gráficos categóricos, lo que permite visualizar datos categóricos y sus relaciones con variables numéricas o categóricas adicionales. Es altamente versátil y puede generar varios tipos de gráficos categóricos, como gráficos de barras, gráficos de puntos, gráficos de cajas, etc.\n",
    "\n",
    "Se puede realizar para detectar las palabras 'love' y 'drug' en el nombre de canciones y verificar los datos estadísticos de los nomnres de las canciones filtradas con el número de productores.\n",
    "\n",
    "#### Canciones no filtradas: "
   ]
  },
  {
   "cell_type": "code",
   "execution_count": 178,
   "id": "14cc77a1",
   "metadata": {},
   "outputs": [
    {
     "name": "stderr",
     "output_type": "stream",
     "text": [
      "c:\\Users\\bugy1\\anaconda3\\envs\\regex\\lib\\site-packages\\seaborn\\axisgrid.py:123: UserWarning: The figure layout has changed to tight\n",
      "  self._figure.tight_layout(*args, **kwargs)\n"
     ]
    },
    {
     "data": {
      "image/png": "[encoded data removed]",
      "text/plain": [
       "<Figure size 511.111x500 with 1 Axes>"
      ]
     },
     "metadata": {},
     "output_type": "display_data"
    }
   ],
   "source": [
    "palabras_deseadas = ['Love','Drug']\n",
    "filtro = df[df[\"song_name\"].isin(palabras_deseadas)]\n",
    "\n",
    "sns.catplot(data=filtro, x=\"song_name\", y=\"num_producers\", kind=\"bar\")\n",
    "plt.xlabel(\"Canción\")\n",
    "plt.ylabel(\"Número de productores\")\n",
    "plt.title(\"Número de productores por canción filtrada (datos sin filtrar)\")\n",
    "plt.show()\n"
   ]
  },
  {
   "cell_type": "markdown",
   "id": "55eec8d7",
   "metadata": {},
   "source": [
    "Variación con gráfico de violín. "
   ]
  },
  {
   "cell_type": "code",
   "execution_count": 179,
   "id": "29f0fb4b",
   "metadata": {},
   "outputs": [
    {
     "name": "stderr",
     "output_type": "stream",
     "text": [
      "c:\\Users\\bugy1\\anaconda3\\envs\\regex\\lib\\site-packages\\seaborn\\axisgrid.py:123: UserWarning: The figure layout has changed to tight\n",
      "  self._figure.tight_layout(*args, **kwargs)\n"
     ]
    },
    {
     "data": {
      "image/png": "[encoded data removed]",
      "text/plain": [
       "<Figure size 511.111x500 with 1 Axes>"
      ]
     },
     "metadata": {},
     "output_type": "display_data"
    }
   ],
   "source": [
    "sns.catplot(data=filtro, x=\"song_name\",y= \"num_producers\", kind=\"violin\")\n",
    "plt.xlabel(\"Canción\")\n",
    "plt.ylabel(\"Número de productores\")\n",
    "plt.title(\"Número de productores por canción filtrada (datos sin filtrar)\")\n",
    "plt.show()"
   ]
  },
  {
   "cell_type": "markdown",
   "id": "36903a72",
   "metadata": {},
   "source": [
    "#### Canciones filtradas: "
   ]
  },
  {
   "cell_type": "code",
   "execution_count": 180,
   "id": "4d408e1d",
   "metadata": {},
   "outputs": [
    {
     "name": "stderr",
     "output_type": "stream",
     "text": [
      "c:\\Users\\bugy1\\anaconda3\\envs\\regex\\lib\\site-packages\\seaborn\\axisgrid.py:123: UserWarning: The figure layout has changed to tight\n",
      "  self._figure.tight_layout(*args, **kwargs)\n"
     ]
    },
    {
     "data": {
      "image/png": "[encoded data removed]",
      "text/plain": [
       "<Figure size 511.111x500 with 1 Axes>"
      ]
     },
     "metadata": {},
     "output_type": "display_data"
    }
   ],
   "source": [
    "filtro_f = df_filtrado[df_filtrado[\"song_name\"].isin(palabras_deseadas)]\n",
    "\n",
    "sns.catplot(data=filtro_f, x=\"song_name\", y=\"num_producers\", kind=\"bar\")\n",
    "plt.xlabel(\"Canción\")\n",
    "plt.ylabel(\"Número de productores\")\n",
    "plt.title(\"Número de productores por canción filtrada (datos filtrados)\")\n",
    "plt.show()\n"
   ]
  },
  {
   "cell_type": "markdown",
   "id": "71f305dc",
   "metadata": {},
   "source": [
    "Variación con gráfico de violin. "
   ]
  },
  {
   "cell_type": "code",
   "execution_count": 181,
   "id": "56c6567e",
   "metadata": {},
   "outputs": [
    {
     "name": "stderr",
     "output_type": "stream",
     "text": [
      "c:\\Users\\bugy1\\anaconda3\\envs\\regex\\lib\\site-packages\\seaborn\\axisgrid.py:123: UserWarning: The figure layout has changed to tight\n",
      "  self._figure.tight_layout(*args, **kwargs)\n"
     ]
    },
    {
     "data": {
      "image/png": "[encoded data removed]",
      "text/plain": [
       "<Figure size 511.111x500 with 1 Axes>"
      ]
     },
     "metadata": {},
     "output_type": "display_data"
    }
   ],
   "source": [
    "sns.catplot(data=filtro_f, x=\"song_name\",y= \"num_producers\", kind=\"violin\")\n",
    "plt.xlabel(\"Canción\")\n",
    "plt.ylabel(\"Número de productores\")\n",
    "plt.title(\"Número de productores por canción filtrada (datos filtrados)\")\n",
    "plt.show()"
   ]
  },
  {
   "cell_type": "markdown",
   "id": "29ef0d6c",
   "metadata": {},
   "source": [
    "En estas visualizaciones, la palabra 'love' presenta una distribución similar en los nombres de las canciones, lo cual se debe a que el filtro aplicado a las canciones sí incluye los idiomas seleccionados."
   ]
  },
  {
   "cell_type": "markdown",
   "id": "ac007f59",
   "metadata": {},
   "source": [
    "# Visualización de desarrollo sobre el tiempo \n",
    "\n",
    "En algunos casos, alguna de las columnas (características) de nuestro conjunto de datos, permitirá un análisis en un periodo de tiempo. En nuestro caso columna `year` permite realizar una visualización del desarrollo de las longitudes de los discursos cada año. \n",
    "\n",
    "Para este análisis, utilizaremos el método `groupby` del dataframe permite grupar y realizar operaciones agregadas sobre datos. Es decir, permite dividir un conjunto de datos en grupos basados en valores de una o más columnas y luego aplicar funciones como suma, promedio, conteo, etc., a cada grupo.\n",
    "\n",
    "#### Datos sin filtrar: "
   ]
  },
  {
   "cell_type": "code",
   "execution_count": 182,
   "id": "4394f087",
   "metadata": {},
   "outputs": [
    {
     "name": "stdout",
     "output_type": "stream",
     "text": [
      "    year  cantidad_canciones\n",
      "0   0001                   2\n",
      "1   1894                   2\n",
      "2   1897                   1\n",
      "3   1900                   1\n",
      "4   1901                   1\n",
      "..   ...                 ...\n",
      "77  2021                 734\n",
      "78  2022                 794\n",
      "79  2023                 932\n",
      "80  2024                1346\n",
      "81  2025                 745\n",
      "\n",
      "[82 rows x 2 columns]\n"
     ]
    }
   ],
   "source": [
    "df['year'] = df['release_date'].str.extract(r'(\\d{4})')\n",
    "\n",
    "resultado_groupby = df.groupby('year').size().reset_index(name='cantidad_canciones')\n",
    "print(resultado_groupby.head(100))"
   ]
  },
  {
   "cell_type": "markdown",
   "id": "df18ae7c",
   "metadata": {},
   "source": [
    "Agrupando canciones por artista y longitud promedio de canciones (caracteres):  "
   ]
  },
  {
   "cell_type": "code",
   "execution_count": 183,
   "id": "e657de2b",
   "metadata": {},
   "outputs": [
    {
     "name": "stdout",
     "output_type": "stream",
     "text": [
      "Número de canciones por artista:\n",
      " artist_name\n",
      "#LVLUP GRIME CLASH     1\n",
      "#LikeMe Cast           1\n",
      "$kyhook                1\n",
      "$neep                  1\n",
      "$tupid Young           1\n",
      "                      ..\n",
      "花冷え。(HANABIE.)         1\n",
      "蔡依林 (Jolin Tsai)       1\n",
      "薛之谦 (Joker Xue)        1\n",
      "许佳琪 (Xu JiaQi)         1\n",
      "郑润泽 (Zheng Run Ze)    19\n",
      "Name: song_name, Length: 2429, dtype: int64\n",
      "\n",
      "\n",
      "Longitud promedio de las letras por canciones: \n",
      " song_name\n",
      "#1 Hit Song                         167.0\n",
      "#4BarFriday                        2417.0\n",
      "#AYFKM (Freestyle)                 1851.0\n",
      "#ETHEREALSHAWTY                    1641.0\n",
      "#Frenchmen - Saison 1 - Nusky      1611.0\n",
      "                                    ...  \n",
      "환상동화 (Secret Story of the Swan)    1786.0\n",
      "회전목마 (MERRY-GO-ROUND)              1383.0\n",
      "︎i of the storm                    1795.0\n",
      "󠁪obvio..                           1379.0\n",
      "󠁪solo un nombre                    1572.0\n",
      "Name: length, Length: 9780, dtype: float64\n"
     ]
    }
   ],
   "source": [
    "canciones_por_artista = df.groupby('artist_name')['song_name'].count()\n",
    "print(\"Número de canciones por artista:\\n\", canciones_por_artista)\n",
    "\n",
    "longitud_prom_por_cancion = df.groupby('song_name')['length'].mean()\n",
    "print(\"\\n\\nLongitud promedio de las letras por canciones: \\n\",longitud_prom_por_cancion)"
   ]
  },
  {
   "cell_type": "markdown",
   "id": "51fe9977",
   "metadata": {},
   "source": [
    "Graficando numero de canciones por artista: "
   ]
  },
  {
   "cell_type": "code",
   "execution_count": 184,
   "id": "cf332d09",
   "metadata": {},
   "outputs": [
    {
     "data": {
      "image/png": "[encoded data removed]",
      "text/plain": [
       "<Figure size 640x480 with 1 Axes>"
      ]
     },
     "metadata": {},
     "output_type": "display_data"
    }
   ],
   "source": [
    "import matplotlib.pyplot as plt\n",
    "\n",
    "canciones_por_artista.plot.hist(bins=50)\n",
    "plt.xlabel(\"Número de canciones\")\n",
    "plt.ylabel(\"Frecuencia\")\n",
    "plt.title(\"Histograma de número de canciones por artista (datos no filtrados)\")\n",
    "plt.show()"
   ]
  },
  {
   "cell_type": "markdown",
   "id": "da1512bd",
   "metadata": {},
   "source": [
    "Graficando longitud promedio por canción: "
   ]
  },
  {
   "cell_type": "code",
   "execution_count": 185,
   "id": "9ce17a30",
   "metadata": {},
   "outputs": [
    {
     "data": {
      "image/png": "[encoded data removed]",
      "text/plain": [
       "<Figure size 640x480 with 1 Axes>"
      ]
     },
     "metadata": {},
     "output_type": "display_data"
    }
   ],
   "source": [
    "import matplotlib.pyplot as plt\n",
    "\n",
    "longitud_prom_por_cancion.plot.hist(bins=200)\n",
    "plt.xlabel(\"Número de canciones\")\n",
    "plt.ylabel(\"Frecuencia\")\n",
    "plt.title(\"Histograma de longitud de las canciones (datos no filtrados)\")\n",
    "plt.xlim(-500,20000)\n",
    "plt.show()"
   ]
  },
  {
   "cell_type": "markdown",
   "id": "0f2ede2b",
   "metadata": {},
   "source": [
    "#### Datos filtrados: "
   ]
  },
  {
   "cell_type": "code",
   "execution_count": 186,
   "id": "ad6723ad",
   "metadata": {},
   "outputs": [
    {
     "name": "stdout",
     "output_type": "stream",
     "text": [
      "    year  cantidad_canciones\n",
      "0   0001                   1\n",
      "1   1894                   2\n",
      "2   1897                   1\n",
      "3   1900                   1\n",
      "4   1901                   1\n",
      "..   ...                 ...\n",
      "76  2021                 449\n",
      "77  2022                 484\n",
      "78  2023                 585\n",
      "79  2024                 739\n",
      "80  2025                 407\n",
      "\n",
      "[81 rows x 2 columns]\n"
     ]
    }
   ],
   "source": [
    "df_filtrado['year'] = df_filtrado['release_date'].str.extract(r'(\\d{4})')\n",
    "\n",
    "resultado_groupby_f = df_filtrado.groupby('year').size().reset_index(name='cantidad_canciones')\n",
    "print(resultado_groupby_f.head(100))"
   ]
  },
  {
   "cell_type": "code",
   "execution_count": 187,
   "id": "6cf2bb52",
   "metadata": {},
   "outputs": [
    {
     "name": "stdout",
     "output_type": "stream",
     "text": [
      "Número de canciones por artista:\n",
      " artist_name\n",
      "$tupid Young                         1\n",
      "$uicideboy$                          1\n",
      "015B                                 2\n",
      "031choppa & Qwellers                 1\n",
      "03osc                                1\n",
      "                                    ..\n",
      "梅林太郎 (Taro Umebayashi)               5\n",
      "楊丞琳 (Rainie Yang)                    1\n",
      "王心凌 (Cyndi Wang), 张远 (Zhang Yuan)    1\n",
      "羽多野渉 (Wataru Hatano)                 2\n",
      "许佳琪 (Xu JiaQi)                       1\n",
      "Name: song_name, Length: 1694, dtype: int64\n",
      "\n",
      "\n",
      "Longitud promedio de las letras por canciones: \n",
      " song_name\n",
      "#1 Hit Song                       133.0\n",
      "#4BarFriday                      2318.0\n",
      "#AYFKM (Freestyle)               1785.0\n",
      "#Frenchmen - Saison 1 - Nusky    1554.0\n",
      "#ROFL                            2292.0\n",
      "                                  ...  \n",
      "하루 (Leave)                        664.0\n",
      "해적왕 (Pirate King)                1445.0\n",
      "︎i of the storm                  1635.0\n",
      "󠁪obvio..                         1175.0\n",
      "󠁪solo un nombre                  1509.0\n",
      "Name: length, Length: 6330, dtype: float64\n"
     ]
    }
   ],
   "source": [
    "canciones_por_artista_f = df_filtrado.groupby('artist_name')['song_name'].count()\n",
    "print(\"Número de canciones por artista:\\n\", canciones_por_artista_f)\n",
    "\n",
    "longitud_prom_por_cancion_f = df_filtrado.groupby('song_name')['length'].mean()\n",
    "print(\"\\n\\nLongitud promedio de las letras por canciones: \\n\",longitud_prom_por_cancion_f)"
   ]
  },
  {
   "cell_type": "code",
   "execution_count": 188,
   "id": "1177b13e",
   "metadata": {},
   "outputs": [
    {
     "data": {
      "image/png": "[encoded data removed]",
      "text/plain": [
       "<Figure size 640x480 with 1 Axes>"
      ]
     },
     "metadata": {},
     "output_type": "display_data"
    }
   ],
   "source": [
    "import matplotlib.pyplot as plt\n",
    "\n",
    "canciones_por_artista_f.plot.hist(bins=50)\n",
    "plt.xlabel(\"Número de canciones\")\n",
    "plt.ylabel(\"Frecuencia\")\n",
    "plt.title(\"Histograma de número de canciones por artista (datos filtrados)\")\n",
    "plt.show()"
   ]
  },
  {
   "cell_type": "code",
   "execution_count": 189,
   "id": "715260fd",
   "metadata": {},
   "outputs": [
    {
     "data": {
      "image/png": "[encoded data removed]",
      "text/plain": [
       "<Figure size 640x480 with 1 Axes>"
      ]
     },
     "metadata": {},
     "output_type": "display_data"
    }
   ],
   "source": [
    "import matplotlib.pyplot as plt\n",
    "\n",
    "longitud_prom_por_cancion_f.plot.hist(bins=200)\n",
    "plt.xlabel(\"Número de canciones\")\n",
    "plt.ylabel(\"Frecuencia\")\n",
    "plt.title(\"Histograma de longitud de las canciones (datos filtrados)\")\n",
    "plt.xlim(-500,20000)\n",
    "plt.show()"
   ]
  },
  {
   "cell_type": "markdown",
   "id": "c625d4b6",
   "metadata": {},
   "source": [
    "Al igual que los análisis anteriores, las distribuciones son iguales, sin embargo la diferencia radica en la frecuencia ya que existe una disminución de canciones con respecto al dataset original"
   ]
  },
  {
   "cell_type": "markdown",
   "id": "890fe135",
   "metadata": {},
   "source": [
    "## Conclusión \n",
    "De manera general, este proyecto logró la representación visual comparativa de un dataset tras aplicarle un proceso de filtrado. El análisis realizado mostró diferencias notables al hacer énfasis en datos normalizados con datos brutos. Un ejemplo de esto es cómo la frecuencia de una palabra en el dataset puede variar considerablemente al remover duplicados, influyendo en las estadísticas descriptivas."
   ]
  }
 ],
 "metadata": {
  "kernelspec": {
   "display_name": "regex",
   "language": "python",
   "name": "python3"
  },
  "language_info": {
   "codemirror_mode": {
    "name": "ipython",
    "version": 3
   },
   "file_extension": ".py",
   "mimetype": "text/x-python",
   "name": "python",
   "nbconvert_exporter": "python",
   "pygments_lexer": "ipython3",
   "version": "3.8.20"
  }
 },
 "nbformat": 4,
 "nbformat_minor": 5
}

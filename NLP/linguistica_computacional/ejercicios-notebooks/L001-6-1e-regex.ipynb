{
 "cells": [
  {
   "cell_type": "markdown",
   "id": "139e8bd7",
   "metadata": {},
   "source": [
    "# Ejercicio. Regex\n",
    "## Bogdan Kaleb García Rivera MIA-2\n",
    "\n",
    "__Objetivo__\n",
    "\n",
    "- Practicar expresiones regulares con un conjunto de datos real\n",
    "___\n",
    "\n",
    "__Desarrollo__\n",
    "\n",
    "Vamos a practicar expresiones regulares utilizando un conjunto de datos llamado `'amazon_fine_food_reviews-clean.csv'`. Este conjunto de datos es en realidad un subconjunto de un conjunto más grande que proviene de [esta fuente](https://www.kaggle.com/snap/amazon-fine-food-reviews). Contiene evaluaciones de muchos diversos productos realizadas por usuarios de Amazon. La columna `'text'` contiene el texto de la evaluación, y ésa es la columna que nos interesa.\n",
    "\n",
    "Vamos a practicar expresiones regulares con esa columna. Con cada búsqueda que realices vas a obtener un nuevo subconjunto de datos de un tamaño específico. Al terminar tus búsquedas compara el tamaño de tus subconjuntos de datos con los de tus compañeros, para checar que tus respuestas fueron correctas.\n",
    "\n",
    "Obtener subconjuntos de datos que tengan estas características:\n",
    "\n",
    "1. Todas las evaluaciones que contengan la palabra 'food' (en minúsculas).\n",
    "2. Todas las evaluaciones que contengan algún número de dos digitos.\n",
    "3. Todas las evaluaciones que contengan algún porcentaje (uno o más digitos seguidos de un signo de porcentaje).\n",
    "4. Todas las evaluaciones que comiencen con la palabra 'Dog' o 'dog'.\n",
    "5. Todas las evaluaciones que terminen con el fragmento 'awesome.' (fíjate que hay específicamente un punto después de la palabra 'awesome').\n",
    "6. Todas las evaluaciones que contengan las palabras 'horrible' o 'terrible'.\n",
    "7. Todas las evaluaciones que contengan solamente letras minúsculas.\n",
    "\n",
    "Después de realizar estas exploraciones, limpia tu conjunto de datos para remover lo siguiente de todos tus textos:\n",
    "\n",
    "1. Cualquier forma parecida a la siguiente: `<br>` o `<br/>` (revisa variaciones de estos tags, con espacios intermedios, por ejemplo)\n",
    "2. Signos en general\n",
    "3. Digitos\n",
    "4. Cualquier otra cosa que no te parezca relevante para nuestro análisis de lenguaje natural\n",
    "5. También convierte todas las letras en minúsculas para homogeneizar nuestro conjunto de datos.\n",
    "\n",
    "Guarda tu conjunto de datos como un archivo 'csv' (asegúrate de incluir por lo menos las columnas 'text' y 'score').\n",
    "___"
   ]
  },
  {
   "cell_type": "markdown",
   "id": "c2bc45cc",
   "metadata": {},
   "source": [
    "Primeramente se realiza la lectura y visualización de los datos"
   ]
  },
  {
   "cell_type": "code",
   "execution_count": 1,
   "id": "5b84d3bf",
   "metadata": {},
   "outputs": [
    {
     "name": "stdout",
     "output_type": "stream",
     "text": [
      "Longitud del dataset:  14211\n"
     ]
    },
    {
     "data": {
      "text/html": [
       "<div>\n",
       "<style scoped>\n",
       "    .dataframe tbody tr th:only-of-type {\n",
       "        vertical-align: middle;\n",
       "    }\n",
       "\n",
       "    .dataframe tbody tr th {\n",
       "        vertical-align: top;\n",
       "    }\n",
       "\n",
       "    .dataframe thead th {\n",
       "        text-align: right;\n",
       "    }\n",
       "</style>\n",
       "<table border=\"1\" class=\"dataframe\">\n",
       "  <thead>\n",
       "    <tr style=\"text-align: right;\">\n",
       "      <th></th>\n",
       "      <th>id</th>\n",
       "      <th>product_id</th>\n",
       "      <th>user_id</th>\n",
       "      <th>profile_name</th>\n",
       "      <th>helpfulness_numerator</th>\n",
       "      <th>helpfulness_denominator</th>\n",
       "      <th>score</th>\n",
       "      <th>time</th>\n",
       "      <th>summary</th>\n",
       "      <th>text</th>\n",
       "    </tr>\n",
       "  </thead>\n",
       "  <tbody>\n",
       "    <tr>\n",
       "      <th>0</th>\n",
       "      <td>258510</td>\n",
       "      <td>B00168V34W</td>\n",
       "      <td>A1672LH9S1XO70</td>\n",
       "      <td>Lorna J. Loomis \"Canadian Dog Fancier\"</td>\n",
       "      <td>13</td>\n",
       "      <td>14</td>\n",
       "      <td>3</td>\n",
       "      <td>1266796800</td>\n",
       "      <td>Misleading to refer to \"PODS\"</td>\n",
       "      <td>This coffee does NOT come in individual \"PODS\"...</td>\n",
       "    </tr>\n",
       "    <tr>\n",
       "      <th>1</th>\n",
       "      <td>207915</td>\n",
       "      <td>B000CQID2Y</td>\n",
       "      <td>A42CJC66XO0H7</td>\n",
       "      <td>Scott Schimmel \"A Butterfly Dreaming\"</td>\n",
       "      <td>2</td>\n",
       "      <td>2</td>\n",
       "      <td>5</td>\n",
       "      <td>1279497600</td>\n",
       "      <td>Delicious</td>\n",
       "      <td>I was a little skeptical after looking at the ...</td>\n",
       "    </tr>\n",
       "    <tr>\n",
       "      <th>2</th>\n",
       "      <td>522649</td>\n",
       "      <td>B007TJGZ0Y</td>\n",
       "      <td>A16QZBG2UN6Z3X</td>\n",
       "      <td>Toology \"Toology\"</td>\n",
       "      <td>0</td>\n",
       "      <td>0</td>\n",
       "      <td>5</td>\n",
       "      <td>1335830400</td>\n",
       "      <td>One of my favs</td>\n",
       "      <td>Gloia Jeans Butter Toffee is one of my favorit...</td>\n",
       "    </tr>\n",
       "    <tr>\n",
       "      <th>3</th>\n",
       "      <td>393368</td>\n",
       "      <td>B000W7PUOW</td>\n",
       "      <td>A3J21CQZG60K35</td>\n",
       "      <td>Hsieh Pei Hsuan</td>\n",
       "      <td>2</td>\n",
       "      <td>2</td>\n",
       "      <td>5</td>\n",
       "      <td>1265673600</td>\n",
       "      <td>Tasty!!</td>\n",
       "      <td>My families and friends love Planters peanuts ...</td>\n",
       "    </tr>\n",
       "    <tr>\n",
       "      <th>4</th>\n",
       "      <td>178178</td>\n",
       "      <td>B002FX2IOQ</td>\n",
       "      <td>A1Z7XV6JU0EV8M</td>\n",
       "      <td>Barbara \"Barbara\"</td>\n",
       "      <td>1</td>\n",
       "      <td>6</td>\n",
       "      <td>1</td>\n",
       "      <td>1301788800</td>\n",
       "      <td>Organic Valley White 1 % Milkfat Lowfat Milk, ...</td>\n",
       "      <td>Organic Valley White 1 % Milkfat Lowfat Milk, ...</td>\n",
       "    </tr>\n",
       "  </tbody>\n",
       "</table>\n",
       "</div>"
      ],
      "text/plain": [
       "       id  product_id         user_id                            profile_name  \\\n",
       "0  258510  B00168V34W  A1672LH9S1XO70  Lorna J. Loomis \"Canadian Dog Fancier\"   \n",
       "1  207915  B000CQID2Y   A42CJC66XO0H7   Scott Schimmel \"A Butterfly Dreaming\"   \n",
       "2  522649  B007TJGZ0Y  A16QZBG2UN6Z3X                       Toology \"Toology\"   \n",
       "3  393368  B000W7PUOW  A3J21CQZG60K35                         Hsieh Pei Hsuan   \n",
       "4  178178  B002FX2IOQ  A1Z7XV6JU0EV8M                       Barbara \"Barbara\"   \n",
       "\n",
       "   helpfulness_numerator  helpfulness_denominator  score        time  \\\n",
       "0                     13                       14      3  1266796800   \n",
       "1                      2                        2      5  1279497600   \n",
       "2                      0                        0      5  1335830400   \n",
       "3                      2                        2      5  1265673600   \n",
       "4                      1                        6      1  1301788800   \n",
       "\n",
       "                                             summary  \\\n",
       "0                      Misleading to refer to \"PODS\"   \n",
       "1                                          Delicious   \n",
       "2                                     One of my favs   \n",
       "3                                            Tasty!!   \n",
       "4  Organic Valley White 1 % Milkfat Lowfat Milk, ...   \n",
       "\n",
       "                                                text  \n",
       "0  This coffee does NOT come in individual \"PODS\"...  \n",
       "1  I was a little skeptical after looking at the ...  \n",
       "2  Gloia Jeans Butter Toffee is one of my favorit...  \n",
       "3  My families and friends love Planters peanuts ...  \n",
       "4  Organic Valley White 1 % Milkfat Lowfat Milk, ...  "
      ]
     },
     "execution_count": 1,
     "metadata": {},
     "output_type": "execute_result"
    }
   ],
   "source": [
    "import pandas as pd \n",
    "import regex as re\n",
    "\n",
    "df = pd.read_csv('./data/amazon_fine_food_reviews-clean.csv')\n",
    "print(\"Longitud del dataset: \", len(df))\n",
    "df.head()"
   ]
  },
  {
   "cell_type": "markdown",
   "id": "ecc507e9",
   "metadata": {},
   "source": [
    "Como ya se mencionó anteriormente, la columna que nos interesa es el texto. "
   ]
  },
  {
   "cell_type": "markdown",
   "id": "821dc177",
   "metadata": {},
   "source": [
    "1. Todas las evaluaciones que contengan la palabra 'food' (en minúsculas)."
   ]
  },
  {
   "cell_type": "code",
   "execution_count": 2,
   "id": "314578f5",
   "metadata": {},
   "outputs": [
    {
     "name": "stdout",
     "output_type": "stream",
     "text": [
      "Longitud del dataset con food:  1774\n"
     ]
    }
   ],
   "source": [
    "patron_food = r'\\w*food\\w*' #Detecta la palabra food en cualquier posición \n",
    "df_food = df[df['text'].str.contains(patron_food, regex=True)]\n",
    "print(\"Longitud del dataset con food: \", len(df_food))"
   ]
  },
  {
   "cell_type": "markdown",
   "id": "7eb58d5c",
   "metadata": {},
   "source": [
    "2. Todas las evaluaciones que contengan algún número de dos digitos."
   ]
  },
  {
   "cell_type": "code",
   "execution_count": 3,
   "id": "30cf207a",
   "metadata": {},
   "outputs": [
    {
     "name": "stdout",
     "output_type": "stream",
     "text": [
      "Longitud del dataset con digitos:  2423\n"
     ]
    }
   ],
   "source": [
    "df_digitos = df[df['text'].str.contains(r'\\b\\d{2}\\b', regex=True)] #Detecta únicamente 2 dígitos\n",
    "print(\"Longitud del dataset con digitos: \", len(df_digitos))"
   ]
  },
  {
   "cell_type": "markdown",
   "id": "c164c5db",
   "metadata": {},
   "source": [
    "3. Todas las evaluaciones que contengan algún porcentaje (uno o más digitos seguidos de un signo de porcentaje).\n"
   ]
  },
  {
   "cell_type": "code",
   "execution_count": 4,
   "id": "e41ec937",
   "metadata": {},
   "outputs": [
    {
     "name": "stdout",
     "output_type": "stream",
     "text": [
      "Longitud del dataset con porcentaje:  388\n"
     ]
    }
   ],
   "source": [
    "df_porcentaje = df[df['text'].str.contains(r'\\d{1,}%', regex=True)] #Detecta al menos un dígito seguido de un signo de %\n",
    "print(\"Longitud del dataset con porcentaje: \", len(df_porcentaje))"
   ]
  },
  {
   "cell_type": "markdown",
   "id": "044ee329",
   "metadata": {},
   "source": [
    "4. Todas las evaluaciones que comiencen con la palabra 'Dog' o 'dog'.\n"
   ]
  },
  {
   "cell_type": "code",
   "execution_count": 5,
   "id": "09e9ac25",
   "metadata": {},
   "outputs": [
    {
     "name": "stdout",
     "output_type": "stream",
     "text": [
      "Longitud del dataset con dog:  5\n"
     ]
    },
    {
     "name": "stderr",
     "output_type": "stream",
     "text": [
      "/tmp/ipykernel_8161/1224627924.py:6: UserWarning: This pattern is interpreted as a regular expression, and has match groups. To actually get the groups, use str.extract.\n",
      "  df_dog = df[df['text'].str.contains(r'^(Dog|dog)', regex=True)]\n"
     ]
    },
    {
     "data": {
      "text/html": [
       "<div>\n",
       "<style scoped>\n",
       "    .dataframe tbody tr th:only-of-type {\n",
       "        vertical-align: middle;\n",
       "    }\n",
       "\n",
       "    .dataframe tbody tr th {\n",
       "        vertical-align: top;\n",
       "    }\n",
       "\n",
       "    .dataframe thead th {\n",
       "        text-align: right;\n",
       "    }\n",
       "</style>\n",
       "<table border=\"1\" class=\"dataframe\">\n",
       "  <thead>\n",
       "    <tr style=\"text-align: right;\">\n",
       "      <th></th>\n",
       "      <th>id</th>\n",
       "      <th>product_id</th>\n",
       "      <th>user_id</th>\n",
       "      <th>profile_name</th>\n",
       "      <th>helpfulness_numerator</th>\n",
       "      <th>helpfulness_denominator</th>\n",
       "      <th>score</th>\n",
       "      <th>time</th>\n",
       "      <th>summary</th>\n",
       "      <th>text</th>\n",
       "    </tr>\n",
       "  </thead>\n",
       "  <tbody>\n",
       "    <tr>\n",
       "      <th>755</th>\n",
       "      <td>21456</td>\n",
       "      <td>B002QWP89S</td>\n",
       "      <td>A3H3I5DA0360BG</td>\n",
       "      <td>Iggy Crazy \"Dawn\"</td>\n",
       "      <td>0</td>\n",
       "      <td>0</td>\n",
       "      <td>5</td>\n",
       "      <td>1277769600</td>\n",
       "      <td>Dogs love Greenies</td>\n",
       "      <td>Dogs LOVE Greenies!  They go crazy if they eve...</td>\n",
       "    </tr>\n",
       "    <tr>\n",
       "      <th>4853</th>\n",
       "      <td>89608</td>\n",
       "      <td>B002LANN56</td>\n",
       "      <td>A2CZ98V784SRJ0</td>\n",
       "      <td>L. Perry</td>\n",
       "      <td>0</td>\n",
       "      <td>0</td>\n",
       "      <td>2</td>\n",
       "      <td>1345680000</td>\n",
       "      <td>They kind of like it....</td>\n",
       "      <td>Dogs liked it \"okay.\"  Did NOT give it th the ...</td>\n",
       "    </tr>\n",
       "    <tr>\n",
       "      <th>9693</th>\n",
       "      <td>255027</td>\n",
       "      <td>B008FWOAXI</td>\n",
       "      <td>A1KMAK45XGS4RT</td>\n",
       "      <td>D. Fitzgerald</td>\n",
       "      <td>0</td>\n",
       "      <td>0</td>\n",
       "      <td>4</td>\n",
       "      <td>1346457600</td>\n",
       "      <td>Tasty but use care</td>\n",
       "      <td>Dog loves these. Eats them quickly and without...</td>\n",
       "    </tr>\n",
       "    <tr>\n",
       "      <th>13252</th>\n",
       "      <td>160700</td>\n",
       "      <td>B001BOQ3SW</td>\n",
       "      <td>AV307UIAVPGSJ</td>\n",
       "      <td>Debby Athearn \"nini.mv\"</td>\n",
       "      <td>2</td>\n",
       "      <td>2</td>\n",
       "      <td>5</td>\n",
       "      <td>1257379200</td>\n",
       "      <td>Stop the scratching!</td>\n",
       "      <td>Dogs probably don't really want to spend most ...</td>\n",
       "    </tr>\n",
       "    <tr>\n",
       "      <th>14131</th>\n",
       "      <td>502312</td>\n",
       "      <td>B001QE96CW</td>\n",
       "      <td>A3LQ3LQ75K38MN</td>\n",
       "      <td>Paul Ulrich \"AMERICAN CITIZEN\"</td>\n",
       "      <td>0</td>\n",
       "      <td>0</td>\n",
       "      <td>5</td>\n",
       "      <td>1336176000</td>\n",
       "      <td>Great Treat!</td>\n",
       "      <td>Dogs love it. It smells like chicken. I have b...</td>\n",
       "    </tr>\n",
       "  </tbody>\n",
       "</table>\n",
       "</div>"
      ],
      "text/plain": [
       "           id  product_id         user_id                    profile_name  \\\n",
       "755     21456  B002QWP89S  A3H3I5DA0360BG               Iggy Crazy \"Dawn\"   \n",
       "4853    89608  B002LANN56  A2CZ98V784SRJ0                        L. Perry   \n",
       "9693   255027  B008FWOAXI  A1KMAK45XGS4RT                   D. Fitzgerald   \n",
       "13252  160700  B001BOQ3SW   AV307UIAVPGSJ         Debby Athearn \"nini.mv\"   \n",
       "14131  502312  B001QE96CW  A3LQ3LQ75K38MN  Paul Ulrich \"AMERICAN CITIZEN\"   \n",
       "\n",
       "       helpfulness_numerator  helpfulness_denominator  score        time  \\\n",
       "755                        0                        0      5  1277769600   \n",
       "4853                       0                        0      2  1345680000   \n",
       "9693                       0                        0      4  1346457600   \n",
       "13252                      2                        2      5  1257379200   \n",
       "14131                      0                        0      5  1336176000   \n",
       "\n",
       "                        summary  \\\n",
       "755          Dogs love Greenies   \n",
       "4853   They kind of like it....   \n",
       "9693         Tasty but use care   \n",
       "13252      Stop the scratching!   \n",
       "14131              Great Treat!   \n",
       "\n",
       "                                                    text  \n",
       "755    Dogs LOVE Greenies!  They go crazy if they eve...  \n",
       "4853   Dogs liked it \"okay.\"  Did NOT give it th the ...  \n",
       "9693   Dog loves these. Eats them quickly and without...  \n",
       "13252  Dogs probably don't really want to spend most ...  \n",
       "14131  Dogs love it. It smells like chicken. I have b...  "
      ]
     },
     "execution_count": 5,
     "metadata": {},
     "output_type": "execute_result"
    }
   ],
   "source": [
    "\"\"\"\n",
    "^ indica que debe ocurrir al inicio \n",
    "| es el equivalente a un or \n",
    "() Un grupo de expresiones\n",
    "\"\"\"\n",
    "df_dog = df[df['text'].str.contains(r'^(Dog|dog)', regex=True)]\n",
    "print(\"Longitud del dataset con dog: \", len(df_dog))\n",
    "df_dog.head()"
   ]
  },
  {
   "cell_type": "markdown",
   "id": "6e3871a6",
   "metadata": {},
   "source": [
    "5. Todas las evaluaciones que terminen con el fragmento 'awesome.' (fíjate que hay específicamente un punto después de la palabra 'awesome').\n"
   ]
  },
  {
   "cell_type": "code",
   "execution_count": 6,
   "id": "c35b8800",
   "metadata": {},
   "outputs": [
    {
     "name": "stdout",
     "output_type": "stream",
     "text": [
      "Longitud del dataset con awesome:  7\n"
     ]
    }
   ],
   "source": [
    "df_awesome = df[df['text'].str.contains(r'awesome\\.$', regex=True)]  #$ indica el final de la cadena\n",
    "print(\"Longitud del dataset con awesome: \", len(df_awesome))"
   ]
  },
  {
   "cell_type": "markdown",
   "id": "9b70820c",
   "metadata": {},
   "source": [
    "6. Todas las evaluaciones que contengan las palabras 'horrible' o 'terrible'."
   ]
  },
  {
   "cell_type": "code",
   "execution_count": 7,
   "id": "a0d75617",
   "metadata": {},
   "outputs": [
    {
     "name": "stderr",
     "output_type": "stream",
     "text": [
      "/tmp/ipykernel_8161/701697717.py:1: UserWarning: This pattern is interpreted as a regular expression, and has match groups. To actually get the groups, use str.extract.\n",
      "  df_terrible = df[df['text'].str.contains(r'\\w*(horrible | terrible)\\w*', regex=True)]\n"
     ]
    },
    {
     "name": "stdout",
     "output_type": "stream",
     "text": [
      "Longitud del dataset con horrible o terrible:  158\n"
     ]
    }
   ],
   "source": [
    "df_terrible = df[df['text'].str.contains(r'\\w*(horrible | terrible)\\w*', regex=True)]\n",
    "print(\"Longitud del dataset con horrible o terrible: \", len(df_terrible))"
   ]
  },
  {
   "cell_type": "markdown",
   "id": "2f905df6",
   "metadata": {},
   "source": [
    "7. Todas las evaluaciones que contengan solamente letras minúsculas.\n"
   ]
  },
  {
   "cell_type": "code",
   "execution_count": 8,
   "id": "5650b73d",
   "metadata": {},
   "outputs": [
    {
     "name": "stdout",
     "output_type": "stream",
     "text": [
      "Longitud del dataset con minusculas:  8\n"
     ]
    },
    {
     "data": {
      "text/html": [
       "<div>\n",
       "<style scoped>\n",
       "    .dataframe tbody tr th:only-of-type {\n",
       "        vertical-align: middle;\n",
       "    }\n",
       "\n",
       "    .dataframe tbody tr th {\n",
       "        vertical-align: top;\n",
       "    }\n",
       "\n",
       "    .dataframe thead th {\n",
       "        text-align: right;\n",
       "    }\n",
       "</style>\n",
       "<table border=\"1\" class=\"dataframe\">\n",
       "  <thead>\n",
       "    <tr style=\"text-align: right;\">\n",
       "      <th></th>\n",
       "      <th>id</th>\n",
       "      <th>product_id</th>\n",
       "      <th>user_id</th>\n",
       "      <th>profile_name</th>\n",
       "      <th>helpfulness_numerator</th>\n",
       "      <th>helpfulness_denominator</th>\n",
       "      <th>score</th>\n",
       "      <th>time</th>\n",
       "      <th>summary</th>\n",
       "      <th>text</th>\n",
       "    </tr>\n",
       "  </thead>\n",
       "  <tbody>\n",
       "    <tr>\n",
       "      <th>118</th>\n",
       "      <td>298922</td>\n",
       "      <td>B0012C2GFM</td>\n",
       "      <td>A2WSIHV9HG7W73</td>\n",
       "      <td>bryan</td>\n",
       "      <td>1</td>\n",
       "      <td>1</td>\n",
       "      <td>5</td>\n",
       "      <td>1312848000</td>\n",
       "      <td>GOOD stufff</td>\n",
       "      <td>good produce i found that the high fiber and n...</td>\n",
       "    </tr>\n",
       "    <tr>\n",
       "      <th>2473</th>\n",
       "      <td>16434</td>\n",
       "      <td>B007TJGZ54</td>\n",
       "      <td>A9IT7XQZ1DU1C</td>\n",
       "      <td>william mason</td>\n",
       "      <td>0</td>\n",
       "      <td>0</td>\n",
       "      <td>5</td>\n",
       "      <td>1350777600</td>\n",
       "      <td>great coffee</td>\n",
       "      <td>best coffee from green mountain so far i recom...</td>\n",
       "    </tr>\n",
       "    <tr>\n",
       "      <th>3360</th>\n",
       "      <td>222679</td>\n",
       "      <td>B000G671SM</td>\n",
       "      <td>A1VYM47ZEUNTEZ</td>\n",
       "      <td>BLUEJAY</td>\n",
       "      <td>0</td>\n",
       "      <td>0</td>\n",
       "      <td>4</td>\n",
       "      <td>1341014400</td>\n",
       "      <td>snacks</td>\n",
       "      <td>these make a great snack at night when i am wa...</td>\n",
       "    </tr>\n",
       "    <tr>\n",
       "      <th>4267</th>\n",
       "      <td>108437</td>\n",
       "      <td>B001E2TAX6</td>\n",
       "      <td>ABY2N6PSP2FFC</td>\n",
       "      <td>kenna</td>\n",
       "      <td>0</td>\n",
       "      <td>1</td>\n",
       "      <td>5</td>\n",
       "      <td>1286841600</td>\n",
       "      <td>great tasting</td>\n",
       "      <td>i love tazo teas i dont really like friuty one...</td>\n",
       "    </tr>\n",
       "    <tr>\n",
       "      <th>7448</th>\n",
       "      <td>430537</td>\n",
       "      <td>B001IZCMXE</td>\n",
       "      <td>A2PUNPN9QXPDSD</td>\n",
       "      <td>mariah</td>\n",
       "      <td>0</td>\n",
       "      <td>0</td>\n",
       "      <td>3</td>\n",
       "      <td>1323734400</td>\n",
       "      <td>eclipse candy cane peppermint gum</td>\n",
       "      <td>this gum is very good for us who have false te...</td>\n",
       "    </tr>\n",
       "  </tbody>\n",
       "</table>\n",
       "</div>"
      ],
      "text/plain": [
       "          id  product_id         user_id   profile_name  \\\n",
       "118   298922  B0012C2GFM  A2WSIHV9HG7W73          bryan   \n",
       "2473   16434  B007TJGZ54   A9IT7XQZ1DU1C  william mason   \n",
       "3360  222679  B000G671SM  A1VYM47ZEUNTEZ        BLUEJAY   \n",
       "4267  108437  B001E2TAX6   ABY2N6PSP2FFC          kenna   \n",
       "7448  430537  B001IZCMXE  A2PUNPN9QXPDSD         mariah   \n",
       "\n",
       "      helpfulness_numerator  helpfulness_denominator  score        time  \\\n",
       "118                       1                        1      5  1312848000   \n",
       "2473                      0                        0      5  1350777600   \n",
       "3360                      0                        0      4  1341014400   \n",
       "4267                      0                        1      5  1286841600   \n",
       "7448                      0                        0      3  1323734400   \n",
       "\n",
       "                                summary  \\\n",
       "118                         GOOD stufff   \n",
       "2473                       great coffee   \n",
       "3360                             snacks   \n",
       "4267                      great tasting   \n",
       "7448  eclipse candy cane peppermint gum   \n",
       "\n",
       "                                                   text  \n",
       "118   good produce i found that the high fiber and n...  \n",
       "2473  best coffee from green mountain so far i recom...  \n",
       "3360  these make a great snack at night when i am wa...  \n",
       "4267  i love tazo teas i dont really like friuty one...  \n",
       "7448  this gum is very good for us who have false te...  "
      ]
     },
     "execution_count": 8,
     "metadata": {},
     "output_type": "execute_result"
    }
   ],
   "source": [
    "df_minusculas = df[df['text'].str.contains(r'^[a-z\\s]+$', regex=True)] #Grupo de a-z en minúsculas y \\s espacio\n",
    "print(\"Longitud del dataset con minusculas: \", len(df_minusculas))\n",
    "df_minusculas.head()"
   ]
  },
  {
   "cell_type": "markdown",
   "id": "e580c140",
   "metadata": {},
   "source": [
    "Después de realizar estas exploraciones, limpia tu conjunto de datos para remover lo siguiente de todos tus textos:\n",
    "\n",
    "1. Cualquier forma parecida a la siguiente: `<br>` o `<br/>` (revisa variaciones de estos tags, con espacios intermedios, por ejemplo)"
   ]
  },
  {
   "cell_type": "code",
   "execution_count": 9,
   "id": "c9980319",
   "metadata": {},
   "outputs": [
    {
     "data": {
      "text/plain": [
       "['id',\n",
       " 'product_id',\n",
       " 'user_id',\n",
       " 'profile_name',\n",
       " 'helpfulness_numerator',\n",
       " 'helpfulness_denominator',\n",
       " 'score',\n",
       " 'time',\n",
       " 'summary',\n",
       " 'text']"
      ]
     },
     "execution_count": 9,
     "metadata": {},
     "output_type": "execute_result"
    }
   ],
   "source": [
    "columns = list(df.columns)\n",
    "columns"
   ]
  },
  {
   "cell_type": "code",
   "execution_count": 10,
   "id": "999e8893",
   "metadata": {},
   "outputs": [
    {
     "data": {
      "text/html": [
       "<div>\n",
       "<style scoped>\n",
       "    .dataframe tbody tr th:only-of-type {\n",
       "        vertical-align: middle;\n",
       "    }\n",
       "\n",
       "    .dataframe tbody tr th {\n",
       "        vertical-align: top;\n",
       "    }\n",
       "\n",
       "    .dataframe thead th {\n",
       "        text-align: right;\n",
       "    }\n",
       "</style>\n",
       "<table border=\"1\" class=\"dataframe\">\n",
       "  <thead>\n",
       "    <tr style=\"text-align: right;\">\n",
       "      <th></th>\n",
       "      <th>id</th>\n",
       "      <th>product_id</th>\n",
       "      <th>user_id</th>\n",
       "      <th>profile_name</th>\n",
       "      <th>helpfulness_numerator</th>\n",
       "      <th>helpfulness_denominator</th>\n",
       "      <th>score</th>\n",
       "      <th>time</th>\n",
       "      <th>summary</th>\n",
       "      <th>text</th>\n",
       "    </tr>\n",
       "  </thead>\n",
       "  <tbody>\n",
       "    <tr>\n",
       "      <th>0</th>\n",
       "      <td>258510</td>\n",
       "      <td>B00168V34W</td>\n",
       "      <td>A1672LH9S1XO70</td>\n",
       "      <td>Lorna J. Loomis \"Canadian Dog Fancier\"</td>\n",
       "      <td>13</td>\n",
       "      <td>14</td>\n",
       "      <td>3</td>\n",
       "      <td>1266796800</td>\n",
       "      <td>Misleading to refer to \"PODS\"</td>\n",
       "      <td>This coffee does NOT come in individual \"PODS\"...</td>\n",
       "    </tr>\n",
       "    <tr>\n",
       "      <th>1</th>\n",
       "      <td>207915</td>\n",
       "      <td>B000CQID2Y</td>\n",
       "      <td>A42CJC66XO0H7</td>\n",
       "      <td>Scott Schimmel \"A Butterfly Dreaming\"</td>\n",
       "      <td>2</td>\n",
       "      <td>2</td>\n",
       "      <td>5</td>\n",
       "      <td>1279497600</td>\n",
       "      <td>Delicious</td>\n",
       "      <td>I was a little skeptical after looking at the ...</td>\n",
       "    </tr>\n",
       "    <tr>\n",
       "      <th>2</th>\n",
       "      <td>522649</td>\n",
       "      <td>B007TJGZ0Y</td>\n",
       "      <td>A16QZBG2UN6Z3X</td>\n",
       "      <td>Toology \"Toology\"</td>\n",
       "      <td>0</td>\n",
       "      <td>0</td>\n",
       "      <td>5</td>\n",
       "      <td>1335830400</td>\n",
       "      <td>One of my favs</td>\n",
       "      <td>Gloia Jeans Butter Toffee is one of my favorit...</td>\n",
       "    </tr>\n",
       "    <tr>\n",
       "      <th>3</th>\n",
       "      <td>393368</td>\n",
       "      <td>B000W7PUOW</td>\n",
       "      <td>A3J21CQZG60K35</td>\n",
       "      <td>Hsieh Pei Hsuan</td>\n",
       "      <td>2</td>\n",
       "      <td>2</td>\n",
       "      <td>5</td>\n",
       "      <td>1265673600</td>\n",
       "      <td>Tasty!!</td>\n",
       "      <td>My families and friends love Planters peanuts ...</td>\n",
       "    </tr>\n",
       "    <tr>\n",
       "      <th>4</th>\n",
       "      <td>178178</td>\n",
       "      <td>B002FX2IOQ</td>\n",
       "      <td>A1Z7XV6JU0EV8M</td>\n",
       "      <td>Barbara \"Barbara\"</td>\n",
       "      <td>1</td>\n",
       "      <td>6</td>\n",
       "      <td>1</td>\n",
       "      <td>1301788800</td>\n",
       "      <td>Organic Valley White 1 % Milkfat Lowfat Milk, ...</td>\n",
       "      <td>Organic Valley White 1 % Milkfat Lowfat Milk, ...</td>\n",
       "    </tr>\n",
       "  </tbody>\n",
       "</table>\n",
       "</div>"
      ],
      "text/plain": [
       "       id  product_id         user_id                            profile_name  \\\n",
       "0  258510  B00168V34W  A1672LH9S1XO70  Lorna J. Loomis \"Canadian Dog Fancier\"   \n",
       "1  207915  B000CQID2Y   A42CJC66XO0H7   Scott Schimmel \"A Butterfly Dreaming\"   \n",
       "2  522649  B007TJGZ0Y  A16QZBG2UN6Z3X                       Toology \"Toology\"   \n",
       "3  393368  B000W7PUOW  A3J21CQZG60K35                         Hsieh Pei Hsuan   \n",
       "4  178178  B002FX2IOQ  A1Z7XV6JU0EV8M                       Barbara \"Barbara\"   \n",
       "\n",
       "   helpfulness_numerator  helpfulness_denominator  score        time  \\\n",
       "0                     13                       14      3  1266796800   \n",
       "1                      2                        2      5  1279497600   \n",
       "2                      0                        0      5  1335830400   \n",
       "3                      2                        2      5  1265673600   \n",
       "4                      1                        6      1  1301788800   \n",
       "\n",
       "                                             summary  \\\n",
       "0                      Misleading to refer to \"PODS\"   \n",
       "1                                          Delicious   \n",
       "2                                     One of my favs   \n",
       "3                                            Tasty!!   \n",
       "4  Organic Valley White 1 % Milkfat Lowfat Milk, ...   \n",
       "\n",
       "                                                text  \n",
       "0  This coffee does NOT come in individual \"PODS\"...  \n",
       "1  I was a little skeptical after looking at the ...  \n",
       "2  Gloia Jeans Butter Toffee is one of my favorit...  \n",
       "3  My families and friends love Planters peanuts ...  \n",
       "4  Organic Valley White 1 % Milkfat Lowfat Milk, ...  "
      ]
     },
     "execution_count": 10,
     "metadata": {},
     "output_type": "execute_result"
    }
   ],
   "source": [
    "def delete_br_tags(df):\n",
    "    df_copy = df.copy()\n",
    "    columns = list(df_copy.columns)\n",
    "    \n",
    "    for column in columns:\n",
    "        if df_copy[column].dtype == 'object':  # Si la columna es de puro texto\n",
    "            df_copy[column] = df_copy[column].astype(str).str.replace(r'<\\/?br\\s*\\/?>', '', regex=True)\n",
    "    \n",
    "    return df_copy\n",
    "\n",
    "df_without_br = delete_br_tags(df)\n",
    "df_without_br.head()"
   ]
  },
  {
   "cell_type": "markdown",
   "id": "7ef9c0e4",
   "metadata": {},
   "source": [
    "2. Signos en general"
   ]
  },
  {
   "cell_type": "code",
   "execution_count": 11,
   "id": "67c8e244",
   "metadata": {},
   "outputs": [],
   "source": [
    "def delete_marks(df):\n",
    "    df_copy = df.copy()\n",
    "    marks_pattern = r'[^\\w\\s]' # Hace match con todo lo que sea diferente de un signo\n",
    "    columns = list(df_copy.columns)\n",
    "    \n",
    "    for column in columns:\n",
    "        if df_copy[column].dtype == 'object':  # Si la columna es de puro texto\n",
    "            df_copy[column] = df_copy[column].str.replace(marks_pattern, '', regex=True) \n",
    "    return df_copy\n",
    "\n",
    "df_without_marks = delete_marks(df_without_br)"
   ]
  },
  {
   "cell_type": "markdown",
   "id": "92f589fb",
   "metadata": {},
   "source": [
    "3. Digitos\n"
   ]
  },
  {
   "cell_type": "code",
   "execution_count": 12,
   "id": "e32a933c",
   "metadata": {},
   "outputs": [],
   "source": [
    "# Para este caso solo consideramos que se aplique a la columna text\n",
    "\n",
    "def delete_digits(df): \n",
    "    df_copy = df.copy()\n",
    "    df_copy['text'] = df_copy['text'].str.replace(r'\\d+','', regex=True)\n",
    "    return df_copy \n",
    "\n",
    "df_without_digits = delete_digits(df_without_marks)"
   ]
  },
  {
   "cell_type": "markdown",
   "id": "8d8b98c6",
   "metadata": {},
   "source": [
    "4. Cualquier otra cosa que no te parezca relevante para nuestro análisis de lenguaje natural.\n",
    "\n",
    " En este caso se puede eliminar algunas stopwords y etiquetas html \n",
    "  "
   ]
  },
  {
   "cell_type": "code",
   "execution_count": 13,
   "id": "2dae16fd",
   "metadata": {},
   "outputs": [],
   "source": [
    "def delete_more_marks(df): \n",
    "    df_copy = df.copy()\n",
    "    # Para este caso se quisieron eliminar algunas stop words\n",
    "    marks_patron = r'\\b(?:the|a|an|is|am|are|was|were|be|been|of|in|at|on|to|for|with|and|or|but|because|by|about|this|that|those|there|here)\\b'\n",
    "    html_patron = r\"<.*?>\" #Borrado de etiquetas html \n",
    "\n",
    "    columns = list(df_copy.columns)\n",
    "    \n",
    "    for column in columns:\n",
    "        if df_copy[column].dtype == 'object':  # Si la columna es de puro texto\n",
    "            df_copy[column] = df_copy[column].str.replace(marks_patron,'', regex=True) # Elimina stopwords\n",
    "            df_copy[column] = df_copy[column].str.replace(html_patron,'', regex=True) # ELimina patrones html \n",
    "            df_copy[column] = df_copy[column].str.replace(r'\\s+',' ', regex=True) #Eliminar mas de dos espacios\n",
    "    return df_copy\n",
    "\n",
    "df_without_more_marks = delete_more_marks(df_without_digits)"
   ]
  },
  {
   "cell_type": "markdown",
   "id": "40ea5bb0",
   "metadata": {},
   "source": [
    "5. También convierte todas las letras en minúsculas para homogeneizar nuestro conjunto de datos."
   ]
  },
  {
   "cell_type": "code",
   "execution_count": 14,
   "id": "44c1d293",
   "metadata": {},
   "outputs": [
    {
     "data": {
      "text/plain": [
       "id                                                                     21456\n",
       "product_id                                                        b002qwp89s\n",
       "user_id                                                       a3h3i5da0360bg\n",
       "profile_name                                                 iggy crazy dawn\n",
       "helpfulness_numerator                                                      0\n",
       "helpfulness_denominator                                                    0\n",
       "score                                                                      5\n",
       "time                                                              1277769600\n",
       "summary                                                   dogs love greenies\n",
       "text                       dogs love greenies they go crazy if they even ...\n",
       "Name: 755, dtype: object"
      ]
     },
     "execution_count": 14,
     "metadata": {},
     "output_type": "execute_result"
    }
   ],
   "source": [
    "for column in columns: \n",
    "        if df_without_more_marks[column].dtype == 'object':  # Si la columna es de puro texto\n",
    "            df_without_more_marks[column] = df_without_more_marks[column].str.lower()\n",
    "df_without_more_marks.iloc[755] #Ejemplo de como queda todo en minúscula y limpios"
   ]
  },
  {
   "cell_type": "code",
   "execution_count": 15,
   "id": "325f8be6",
   "metadata": {},
   "outputs": [
    {
     "name": "stdout",
     "output_type": "stream",
     "text": [
      "Archivo amazon_fine_food_reviews-clean-regex.csv guardado exitosamente en ./data/amazon_fine_food_reviews-clean-regex.csv\n"
     ]
    }
   ],
   "source": [
    "import os\n",
    "\n",
    "def write_csv_file(df, nombre_archivo):\n",
    "    os.makedirs(\"data\", exist_ok=True)\n",
    "    \n",
    "    # Guardar archivo en la ruta\n",
    "    ruta = f\"./data/{nombre_archivo}\"\n",
    "    df.to_csv(ruta, index=False)\n",
    "    \n",
    "    print(f\"Archivo {nombre_archivo} guardado exitosamente en {ruta}\")\n",
    "\n",
    "\n",
    "write_csv_file(df_without_more_marks, 'amazon_fine_food_reviews-clean-regex.csv')"
   ]
  }
 ],
 "metadata": {
  "kernelspec": {
   "display_name": "regex",
   "language": "python",
   "name": "python3"
  },
  "language_info": {
   "codemirror_mode": {
    "name": "ipython",
    "version": 3
   },
   "file_extension": ".py",
   "mimetype": "text/x-python",
   "name": "python",
   "nbconvert_exporter": "python",
   "pygments_lexer": "ipython3",
   "version": "3.13.2"
  }
 },
 "nbformat": 4,
 "nbformat_minor": 5
}
